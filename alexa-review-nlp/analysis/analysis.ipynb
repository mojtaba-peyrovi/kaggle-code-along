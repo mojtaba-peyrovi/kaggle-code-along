{
 "cells": [
  {
   "cell_type": "code",
   "execution_count": 1,
   "metadata": {},
   "outputs": [],
   "source": [
    "import pandas as pd\n",
    "import numpy as np"
   ]
  },
  {
   "cell_type": "code",
   "execution_count": 2,
   "metadata": {},
   "outputs": [],
   "source": [
    "## basic visualization\n",
    "import matplotlib.pyplot as plt\n",
    "import seaborn as sns\n",
    "plt.style.use(\"fivethirtyeight\")"
   ]
  },
  {
   "cell_type": "code",
   "execution_count": 3,
   "metadata": {},
   "outputs": [
    {
     "data": {
      "text/html": [
       "        <script type=\"text/javascript\">\n",
       "        window.PlotlyConfig = {MathJaxConfig: 'local'};\n",
       "        if (window.MathJax) {MathJax.Hub.Config({SVG: {font: \"STIX-Web\"}});}\n",
       "        if (typeof require !== 'undefined') {\n",
       "        require.undef(\"plotly\");\n",
       "        requirejs.config({\n",
       "            paths: {\n",
       "                'plotly': ['https://cdn.plot.ly/plotly-latest.min']\n",
       "            }\n",
       "        });\n",
       "        require(['plotly'], function(Plotly) {\n",
       "            window._Plotly = Plotly;\n",
       "        });\n",
       "        }\n",
       "        </script>\n",
       "        "
      ]
     },
     "metadata": {},
     "output_type": "display_data"
    }
   ],
   "source": [
    "## for advanced visualization\n",
    "import plotly.offline as py\n",
    "from plotly.offline import init_notebook_mode, iplot\n",
    "import plotly.graph_objects as go\n",
    "from plotly import tools\n",
    "init_notebook_mode(connected=True)\n",
    "import plotly.figure_factory as ff"
   ]
  },
  {
   "cell_type": "code",
   "execution_count": 4,
   "metadata": {},
   "outputs": [
    {
     "name": "stdout",
     "output_type": "stream",
     "text": [
      "['alexa_reviews.tsv']\n"
     ]
    }
   ],
   "source": [
    "# for providing the path\n",
    "import os\n",
    "print(os.listdir('../input/'))"
   ]
  },
  {
   "cell_type": "code",
   "execution_count": 5,
   "metadata": {},
   "outputs": [],
   "source": [
    "## read data\n",
    "data = pd.read_csv('../input/alexa_reviews.tsv', delimiter='\\t', quoting=3)"
   ]
  },
  {
   "cell_type": "code",
   "execution_count": 6,
   "metadata": {},
   "outputs": [
    {
     "data": {
      "text/plain": [
       "(3150, 5)"
      ]
     },
     "execution_count": 6,
     "metadata": {},
     "output_type": "execute_result"
    }
   ],
   "source": [
    "data.shape"
   ]
  },
  {
   "cell_type": "code",
   "execution_count": 7,
   "metadata": {},
   "outputs": [
    {
     "data": {
      "text/html": [
       "<div>\n",
       "<style scoped>\n",
       "    .dataframe tbody tr th:only-of-type {\n",
       "        vertical-align: middle;\n",
       "    }\n",
       "\n",
       "    .dataframe tbody tr th {\n",
       "        vertical-align: top;\n",
       "    }\n",
       "\n",
       "    .dataframe thead th {\n",
       "        text-align: right;\n",
       "    }\n",
       "</style>\n",
       "<table border=\"1\" class=\"dataframe\">\n",
       "  <thead>\n",
       "    <tr style=\"text-align: right;\">\n",
       "      <th></th>\n",
       "      <th>rating</th>\n",
       "      <th>date</th>\n",
       "      <th>variation</th>\n",
       "      <th>verified_reviews</th>\n",
       "      <th>feedback</th>\n",
       "    </tr>\n",
       "  </thead>\n",
       "  <tbody>\n",
       "    <tr>\n",
       "      <th>0</th>\n",
       "      <td>5</td>\n",
       "      <td>31-Jul-18</td>\n",
       "      <td>Charcoal Fabric</td>\n",
       "      <td>Love my Echo!</td>\n",
       "      <td>1</td>\n",
       "    </tr>\n",
       "    <tr>\n",
       "      <th>1</th>\n",
       "      <td>5</td>\n",
       "      <td>31-Jul-18</td>\n",
       "      <td>Charcoal Fabric</td>\n",
       "      <td>Loved it!</td>\n",
       "      <td>1</td>\n",
       "    </tr>\n",
       "    <tr>\n",
       "      <th>2</th>\n",
       "      <td>4</td>\n",
       "      <td>31-Jul-18</td>\n",
       "      <td>Walnut Finish</td>\n",
       "      <td>\"Sometimes while playing a game, you can answe...</td>\n",
       "      <td>1</td>\n",
       "    </tr>\n",
       "    <tr>\n",
       "      <th>3</th>\n",
       "      <td>5</td>\n",
       "      <td>31-Jul-18</td>\n",
       "      <td>Charcoal Fabric</td>\n",
       "      <td>\"I have had a lot of fun with this thing. My 4...</td>\n",
       "      <td>1</td>\n",
       "    </tr>\n",
       "    <tr>\n",
       "      <th>4</th>\n",
       "      <td>5</td>\n",
       "      <td>31-Jul-18</td>\n",
       "      <td>Charcoal Fabric</td>\n",
       "      <td>Music</td>\n",
       "      <td>1</td>\n",
       "    </tr>\n",
       "  </tbody>\n",
       "</table>\n",
       "</div>"
      ],
      "text/plain": [
       "   rating       date         variation  \\\n",
       "0       5  31-Jul-18  Charcoal Fabric    \n",
       "1       5  31-Jul-18  Charcoal Fabric    \n",
       "2       4  31-Jul-18    Walnut Finish    \n",
       "3       5  31-Jul-18  Charcoal Fabric    \n",
       "4       5  31-Jul-18  Charcoal Fabric    \n",
       "\n",
       "                                    verified_reviews  feedback  \n",
       "0                                      Love my Echo!         1  \n",
       "1                                          Loved it!         1  \n",
       "2  \"Sometimes while playing a game, you can answe...         1  \n",
       "3  \"I have had a lot of fun with this thing. My 4...         1  \n",
       "4                                              Music         1  "
      ]
     },
     "execution_count": 7,
     "metadata": {},
     "output_type": "execute_result"
    }
   ],
   "source": [
    "data.head()"
   ]
  },
  {
   "cell_type": "code",
   "execution_count": 8,
   "metadata": {},
   "outputs": [
    {
     "data": {
      "text/plain": [
       "False"
      ]
     },
     "execution_count": 8,
     "metadata": {},
     "output_type": "execute_result"
    }
   ],
   "source": [
    "## check for null data\n",
    "data.isnull().any().any()   "
   ]
  },
  {
   "cell_type": "code",
   "execution_count": 9,
   "metadata": {},
   "outputs": [],
   "source": [
    "## add length columns for the length of the reviews\n",
    "data['length'] = data['verified_reviews'].apply(len)"
   ]
  },
  {
   "cell_type": "code",
   "execution_count": 10,
   "metadata": {},
   "outputs": [
    {
     "data": {
      "text/html": [
       "<div>\n",
       "<style scoped>\n",
       "    .dataframe tbody tr th:only-of-type {\n",
       "        vertical-align: middle;\n",
       "    }\n",
       "\n",
       "    .dataframe tbody tr th {\n",
       "        vertical-align: top;\n",
       "    }\n",
       "\n",
       "    .dataframe thead tr th {\n",
       "        text-align: left;\n",
       "    }\n",
       "\n",
       "    .dataframe thead tr:last-of-type th {\n",
       "        text-align: right;\n",
       "    }\n",
       "</style>\n",
       "<table border=\"1\" class=\"dataframe\">\n",
       "  <thead>\n",
       "    <tr>\n",
       "      <th></th>\n",
       "      <th colspan=\"8\" halign=\"left\">feedback</th>\n",
       "      <th colspan=\"8\" halign=\"left\">length</th>\n",
       "    </tr>\n",
       "    <tr>\n",
       "      <th></th>\n",
       "      <th>count</th>\n",
       "      <th>mean</th>\n",
       "      <th>std</th>\n",
       "      <th>min</th>\n",
       "      <th>25%</th>\n",
       "      <th>50%</th>\n",
       "      <th>75%</th>\n",
       "      <th>max</th>\n",
       "      <th>count</th>\n",
       "      <th>mean</th>\n",
       "      <th>std</th>\n",
       "      <th>min</th>\n",
       "      <th>25%</th>\n",
       "      <th>50%</th>\n",
       "      <th>75%</th>\n",
       "      <th>max</th>\n",
       "    </tr>\n",
       "    <tr>\n",
       "      <th>rating</th>\n",
       "      <th></th>\n",
       "      <th></th>\n",
       "      <th></th>\n",
       "      <th></th>\n",
       "      <th></th>\n",
       "      <th></th>\n",
       "      <th></th>\n",
       "      <th></th>\n",
       "      <th></th>\n",
       "      <th></th>\n",
       "      <th></th>\n",
       "      <th></th>\n",
       "      <th></th>\n",
       "      <th></th>\n",
       "      <th></th>\n",
       "      <th></th>\n",
       "    </tr>\n",
       "  </thead>\n",
       "  <tbody>\n",
       "    <tr>\n",
       "      <th>1</th>\n",
       "      <td>161.0</td>\n",
       "      <td>0.0</td>\n",
       "      <td>0.0</td>\n",
       "      <td>0.0</td>\n",
       "      <td>0.0</td>\n",
       "      <td>0.0</td>\n",
       "      <td>0.0</td>\n",
       "      <td>0.0</td>\n",
       "      <td>161.0</td>\n",
       "      <td>195.658385</td>\n",
       "      <td>212.928219</td>\n",
       "      <td>1.0</td>\n",
       "      <td>36.00</td>\n",
       "      <td>120.0</td>\n",
       "      <td>284.00</td>\n",
       "      <td>1126.0</td>\n",
       "    </tr>\n",
       "    <tr>\n",
       "      <th>2</th>\n",
       "      <td>96.0</td>\n",
       "      <td>0.0</td>\n",
       "      <td>0.0</td>\n",
       "      <td>0.0</td>\n",
       "      <td>0.0</td>\n",
       "      <td>0.0</td>\n",
       "      <td>0.0</td>\n",
       "      <td>0.0</td>\n",
       "      <td>96.0</td>\n",
       "      <td>250.020833</td>\n",
       "      <td>270.179472</td>\n",
       "      <td>1.0</td>\n",
       "      <td>78.75</td>\n",
       "      <td>165.0</td>\n",
       "      <td>311.25</td>\n",
       "      <td>1688.0</td>\n",
       "    </tr>\n",
       "    <tr>\n",
       "      <th>3</th>\n",
       "      <td>152.0</td>\n",
       "      <td>1.0</td>\n",
       "      <td>0.0</td>\n",
       "      <td>1.0</td>\n",
       "      <td>1.0</td>\n",
       "      <td>1.0</td>\n",
       "      <td>1.0</td>\n",
       "      <td>1.0</td>\n",
       "      <td>152.0</td>\n",
       "      <td>208.098684</td>\n",
       "      <td>272.582517</td>\n",
       "      <td>1.0</td>\n",
       "      <td>54.00</td>\n",
       "      <td>131.0</td>\n",
       "      <td>286.00</td>\n",
       "      <td>1956.0</td>\n",
       "    </tr>\n",
       "    <tr>\n",
       "      <th>4</th>\n",
       "      <td>455.0</td>\n",
       "      <td>1.0</td>\n",
       "      <td>0.0</td>\n",
       "      <td>1.0</td>\n",
       "      <td>1.0</td>\n",
       "      <td>1.0</td>\n",
       "      <td>1.0</td>\n",
       "      <td>1.0</td>\n",
       "      <td>455.0</td>\n",
       "      <td>179.338462</td>\n",
       "      <td>216.415268</td>\n",
       "      <td>1.0</td>\n",
       "      <td>34.50</td>\n",
       "      <td>100.0</td>\n",
       "      <td>242.00</td>\n",
       "      <td>1362.0</td>\n",
       "    </tr>\n",
       "    <tr>\n",
       "      <th>5</th>\n",
       "      <td>2286.0</td>\n",
       "      <td>1.0</td>\n",
       "      <td>0.0</td>\n",
       "      <td>1.0</td>\n",
       "      <td>1.0</td>\n",
       "      <td>1.0</td>\n",
       "      <td>1.0</td>\n",
       "      <td>1.0</td>\n",
       "      <td>2286.0</td>\n",
       "      <td>109.006562</td>\n",
       "      <td>152.505019</td>\n",
       "      <td>1.0</td>\n",
       "      <td>27.00</td>\n",
       "      <td>65.0</td>\n",
       "      <td>136.00</td>\n",
       "      <td>2853.0</td>\n",
       "    </tr>\n",
       "  </tbody>\n",
       "</table>\n",
       "</div>"
      ],
      "text/plain": [
       "       feedback                                     length              \\\n",
       "          count mean  std  min  25%  50%  75%  max   count        mean   \n",
       "rating                                                                   \n",
       "1         161.0  0.0  0.0  0.0  0.0  0.0  0.0  0.0   161.0  195.658385   \n",
       "2          96.0  0.0  0.0  0.0  0.0  0.0  0.0  0.0    96.0  250.020833   \n",
       "3         152.0  1.0  0.0  1.0  1.0  1.0  1.0  1.0   152.0  208.098684   \n",
       "4         455.0  1.0  0.0  1.0  1.0  1.0  1.0  1.0   455.0  179.338462   \n",
       "5        2286.0  1.0  0.0  1.0  1.0  1.0  1.0  1.0  2286.0  109.006562   \n",
       "\n",
       "                                                       \n",
       "               std  min    25%    50%     75%     max  \n",
       "rating                                                 \n",
       "1       212.928219  1.0  36.00  120.0  284.00  1126.0  \n",
       "2       270.179472  1.0  78.75  165.0  311.25  1688.0  \n",
       "3       272.582517  1.0  54.00  131.0  286.00  1956.0  \n",
       "4       216.415268  1.0  34.50  100.0  242.00  1362.0  \n",
       "5       152.505019  1.0  27.00   65.0  136.00  2853.0  "
      ]
     },
     "execution_count": 10,
     "metadata": {},
     "output_type": "execute_result"
    }
   ],
   "source": [
    "## describe data according to rating\n",
    "data.groupby('rating').describe()"
   ]
  },
  {
   "cell_type": "code",
   "execution_count": 11,
   "metadata": {},
   "outputs": [
    {
     "data": {
      "text/html": [
       "<div>\n",
       "<style scoped>\n",
       "    .dataframe tbody tr th:only-of-type {\n",
       "        vertical-align: middle;\n",
       "    }\n",
       "\n",
       "    .dataframe tbody tr th {\n",
       "        vertical-align: top;\n",
       "    }\n",
       "\n",
       "    .dataframe thead tr th {\n",
       "        text-align: left;\n",
       "    }\n",
       "\n",
       "    .dataframe thead tr:last-of-type th {\n",
       "        text-align: right;\n",
       "    }\n",
       "</style>\n",
       "<table border=\"1\" class=\"dataframe\">\n",
       "  <thead>\n",
       "    <tr>\n",
       "      <th></th>\n",
       "      <th colspan=\"8\" halign=\"left\">rating</th>\n",
       "      <th colspan=\"8\" halign=\"left\">length</th>\n",
       "    </tr>\n",
       "    <tr>\n",
       "      <th></th>\n",
       "      <th>count</th>\n",
       "      <th>mean</th>\n",
       "      <th>std</th>\n",
       "      <th>min</th>\n",
       "      <th>25%</th>\n",
       "      <th>50%</th>\n",
       "      <th>75%</th>\n",
       "      <th>max</th>\n",
       "      <th>count</th>\n",
       "      <th>mean</th>\n",
       "      <th>std</th>\n",
       "      <th>min</th>\n",
       "      <th>25%</th>\n",
       "      <th>50%</th>\n",
       "      <th>75%</th>\n",
       "      <th>max</th>\n",
       "    </tr>\n",
       "    <tr>\n",
       "      <th>feedback</th>\n",
       "      <th></th>\n",
       "      <th></th>\n",
       "      <th></th>\n",
       "      <th></th>\n",
       "      <th></th>\n",
       "      <th></th>\n",
       "      <th></th>\n",
       "      <th></th>\n",
       "      <th></th>\n",
       "      <th></th>\n",
       "      <th></th>\n",
       "      <th></th>\n",
       "      <th></th>\n",
       "      <th></th>\n",
       "      <th></th>\n",
       "      <th></th>\n",
       "    </tr>\n",
       "  </thead>\n",
       "  <tbody>\n",
       "    <tr>\n",
       "      <th>0</th>\n",
       "      <td>257.0</td>\n",
       "      <td>1.373541</td>\n",
       "      <td>0.484688</td>\n",
       "      <td>1.0</td>\n",
       "      <td>1.0</td>\n",
       "      <td>1.0</td>\n",
       "      <td>2.0</td>\n",
       "      <td>2.0</td>\n",
       "      <td>257.0</td>\n",
       "      <td>215.964981</td>\n",
       "      <td>236.895519</td>\n",
       "      <td>1.0</td>\n",
       "      <td>53.0</td>\n",
       "      <td>137.0</td>\n",
       "      <td>291.0</td>\n",
       "      <td>1688.0</td>\n",
       "    </tr>\n",
       "    <tr>\n",
       "      <th>1</th>\n",
       "      <td>2893.0</td>\n",
       "      <td>4.737643</td>\n",
       "      <td>0.546544</td>\n",
       "      <td>3.0</td>\n",
       "      <td>5.0</td>\n",
       "      <td>5.0</td>\n",
       "      <td>5.0</td>\n",
       "      <td>5.0</td>\n",
       "      <td>2893.0</td>\n",
       "      <td>125.274456</td>\n",
       "      <td>175.036515</td>\n",
       "      <td>1.0</td>\n",
       "      <td>29.0</td>\n",
       "      <td>70.0</td>\n",
       "      <td>155.0</td>\n",
       "      <td>2853.0</td>\n",
       "    </tr>\n",
       "  </tbody>\n",
       "</table>\n",
       "</div>"
      ],
      "text/plain": [
       "          rating                                               length  \\\n",
       "           count      mean       std  min  25%  50%  75%  max   count   \n",
       "feedback                                                                \n",
       "0          257.0  1.373541  0.484688  1.0  1.0  1.0  2.0  2.0   257.0   \n",
       "1         2893.0  4.737643  0.546544  3.0  5.0  5.0  5.0  5.0  2893.0   \n",
       "\n",
       "                                                                   \n",
       "                mean         std  min   25%    50%    75%     max  \n",
       "feedback                                                           \n",
       "0         215.964981  236.895519  1.0  53.0  137.0  291.0  1688.0  \n",
       "1         125.274456  175.036515  1.0  29.0   70.0  155.0  2853.0  "
      ]
     },
     "execution_count": 11,
     "metadata": {},
     "output_type": "execute_result"
    }
   ],
   "source": [
    "## describe data according to feedback\n",
    "data.groupby('feedback').describe()"
   ]
  },
  {
   "cell_type": "markdown",
   "metadata": {},
   "source": [
    "## visualization"
   ]
  },
  {
   "cell_type": "code",
   "execution_count": 12,
   "metadata": {},
   "outputs": [
    {
     "data": {
      "application/vnd.plotly.v1+json": {
       "config": {
        "linkText": "Export to plot.ly",
        "plotlyServerURL": "https://plot.ly",
        "showLink": false
       },
       "data": [
        {
         "hole": 0.3,
         "labels": [
          5,
          4,
          1,
          3,
          2
         ],
         "marker": {
          "colors": [
           "pink",
           "lightblue",
           "aqua",
           "gold",
           "crimson"
          ]
         },
         "name": "Alexa",
         "type": "pie",
         "values": [
          2286,
          455,
          161,
          152,
          96
         ]
        }
       ],
       "layout": {
        "template": {
         "data": {
          "bar": [
           {
            "error_x": {
             "color": "#2a3f5f"
            },
            "error_y": {
             "color": "#2a3f5f"
            },
            "marker": {
             "line": {
              "color": "#E5ECF6",
              "width": 0.5
             }
            },
            "type": "bar"
           }
          ],
          "barpolar": [
           {
            "marker": {
             "line": {
              "color": "#E5ECF6",
              "width": 0.5
             }
            },
            "type": "barpolar"
           }
          ],
          "carpet": [
           {
            "aaxis": {
             "endlinecolor": "#2a3f5f",
             "gridcolor": "white",
             "linecolor": "white",
             "minorgridcolor": "white",
             "startlinecolor": "#2a3f5f"
            },
            "baxis": {
             "endlinecolor": "#2a3f5f",
             "gridcolor": "white",
             "linecolor": "white",
             "minorgridcolor": "white",
             "startlinecolor": "#2a3f5f"
            },
            "type": "carpet"
           }
          ],
          "choropleth": [
           {
            "colorbar": {
             "outlinewidth": 0,
             "ticks": ""
            },
            "type": "choropleth"
           }
          ],
          "contour": [
           {
            "colorbar": {
             "outlinewidth": 0,
             "ticks": ""
            },
            "colorscale": [
             [
              0,
              "#0d0887"
             ],
             [
              0.1111111111111111,
              "#46039f"
             ],
             [
              0.2222222222222222,
              "#7201a8"
             ],
             [
              0.3333333333333333,
              "#9c179e"
             ],
             [
              0.4444444444444444,
              "#bd3786"
             ],
             [
              0.5555555555555556,
              "#d8576b"
             ],
             [
              0.6666666666666666,
              "#ed7953"
             ],
             [
              0.7777777777777778,
              "#fb9f3a"
             ],
             [
              0.8888888888888888,
              "#fdca26"
             ],
             [
              1,
              "#f0f921"
             ]
            ],
            "type": "contour"
           }
          ],
          "contourcarpet": [
           {
            "colorbar": {
             "outlinewidth": 0,
             "ticks": ""
            },
            "type": "contourcarpet"
           }
          ],
          "heatmap": [
           {
            "colorbar": {
             "outlinewidth": 0,
             "ticks": ""
            },
            "colorscale": [
             [
              0,
              "#0d0887"
             ],
             [
              0.1111111111111111,
              "#46039f"
             ],
             [
              0.2222222222222222,
              "#7201a8"
             ],
             [
              0.3333333333333333,
              "#9c179e"
             ],
             [
              0.4444444444444444,
              "#bd3786"
             ],
             [
              0.5555555555555556,
              "#d8576b"
             ],
             [
              0.6666666666666666,
              "#ed7953"
             ],
             [
              0.7777777777777778,
              "#fb9f3a"
             ],
             [
              0.8888888888888888,
              "#fdca26"
             ],
             [
              1,
              "#f0f921"
             ]
            ],
            "type": "heatmap"
           }
          ],
          "heatmapgl": [
           {
            "colorbar": {
             "outlinewidth": 0,
             "ticks": ""
            },
            "colorscale": [
             [
              0,
              "#0d0887"
             ],
             [
              0.1111111111111111,
              "#46039f"
             ],
             [
              0.2222222222222222,
              "#7201a8"
             ],
             [
              0.3333333333333333,
              "#9c179e"
             ],
             [
              0.4444444444444444,
              "#bd3786"
             ],
             [
              0.5555555555555556,
              "#d8576b"
             ],
             [
              0.6666666666666666,
              "#ed7953"
             ],
             [
              0.7777777777777778,
              "#fb9f3a"
             ],
             [
              0.8888888888888888,
              "#fdca26"
             ],
             [
              1,
              "#f0f921"
             ]
            ],
            "type": "heatmapgl"
           }
          ],
          "histogram": [
           {
            "marker": {
             "colorbar": {
              "outlinewidth": 0,
              "ticks": ""
             }
            },
            "type": "histogram"
           }
          ],
          "histogram2d": [
           {
            "colorbar": {
             "outlinewidth": 0,
             "ticks": ""
            },
            "colorscale": [
             [
              0,
              "#0d0887"
             ],
             [
              0.1111111111111111,
              "#46039f"
             ],
             [
              0.2222222222222222,
              "#7201a8"
             ],
             [
              0.3333333333333333,
              "#9c179e"
             ],
             [
              0.4444444444444444,
              "#bd3786"
             ],
             [
              0.5555555555555556,
              "#d8576b"
             ],
             [
              0.6666666666666666,
              "#ed7953"
             ],
             [
              0.7777777777777778,
              "#fb9f3a"
             ],
             [
              0.8888888888888888,
              "#fdca26"
             ],
             [
              1,
              "#f0f921"
             ]
            ],
            "type": "histogram2d"
           }
          ],
          "histogram2dcontour": [
           {
            "colorbar": {
             "outlinewidth": 0,
             "ticks": ""
            },
            "colorscale": [
             [
              0,
              "#0d0887"
             ],
             [
              0.1111111111111111,
              "#46039f"
             ],
             [
              0.2222222222222222,
              "#7201a8"
             ],
             [
              0.3333333333333333,
              "#9c179e"
             ],
             [
              0.4444444444444444,
              "#bd3786"
             ],
             [
              0.5555555555555556,
              "#d8576b"
             ],
             [
              0.6666666666666666,
              "#ed7953"
             ],
             [
              0.7777777777777778,
              "#fb9f3a"
             ],
             [
              0.8888888888888888,
              "#fdca26"
             ],
             [
              1,
              "#f0f921"
             ]
            ],
            "type": "histogram2dcontour"
           }
          ],
          "mesh3d": [
           {
            "colorbar": {
             "outlinewidth": 0,
             "ticks": ""
            },
            "type": "mesh3d"
           }
          ],
          "parcoords": [
           {
            "line": {
             "colorbar": {
              "outlinewidth": 0,
              "ticks": ""
             }
            },
            "type": "parcoords"
           }
          ],
          "pie": [
           {
            "automargin": true,
            "type": "pie"
           }
          ],
          "scatter": [
           {
            "marker": {
             "colorbar": {
              "outlinewidth": 0,
              "ticks": ""
             }
            },
            "type": "scatter"
           }
          ],
          "scatter3d": [
           {
            "line": {
             "colorbar": {
              "outlinewidth": 0,
              "ticks": ""
             }
            },
            "marker": {
             "colorbar": {
              "outlinewidth": 0,
              "ticks": ""
             }
            },
            "type": "scatter3d"
           }
          ],
          "scattercarpet": [
           {
            "marker": {
             "colorbar": {
              "outlinewidth": 0,
              "ticks": ""
             }
            },
            "type": "scattercarpet"
           }
          ],
          "scattergeo": [
           {
            "marker": {
             "colorbar": {
              "outlinewidth": 0,
              "ticks": ""
             }
            },
            "type": "scattergeo"
           }
          ],
          "scattergl": [
           {
            "marker": {
             "colorbar": {
              "outlinewidth": 0,
              "ticks": ""
             }
            },
            "type": "scattergl"
           }
          ],
          "scattermapbox": [
           {
            "marker": {
             "colorbar": {
              "outlinewidth": 0,
              "ticks": ""
             }
            },
            "type": "scattermapbox"
           }
          ],
          "scatterpolar": [
           {
            "marker": {
             "colorbar": {
              "outlinewidth": 0,
              "ticks": ""
             }
            },
            "type": "scatterpolar"
           }
          ],
          "scatterpolargl": [
           {
            "marker": {
             "colorbar": {
              "outlinewidth": 0,
              "ticks": ""
             }
            },
            "type": "scatterpolargl"
           }
          ],
          "scatterternary": [
           {
            "marker": {
             "colorbar": {
              "outlinewidth": 0,
              "ticks": ""
             }
            },
            "type": "scatterternary"
           }
          ],
          "surface": [
           {
            "colorbar": {
             "outlinewidth": 0,
             "ticks": ""
            },
            "colorscale": [
             [
              0,
              "#0d0887"
             ],
             [
              0.1111111111111111,
              "#46039f"
             ],
             [
              0.2222222222222222,
              "#7201a8"
             ],
             [
              0.3333333333333333,
              "#9c179e"
             ],
             [
              0.4444444444444444,
              "#bd3786"
             ],
             [
              0.5555555555555556,
              "#d8576b"
             ],
             [
              0.6666666666666666,
              "#ed7953"
             ],
             [
              0.7777777777777778,
              "#fb9f3a"
             ],
             [
              0.8888888888888888,
              "#fdca26"
             ],
             [
              1,
              "#f0f921"
             ]
            ],
            "type": "surface"
           }
          ],
          "table": [
           {
            "cells": {
             "fill": {
              "color": "#EBF0F8"
             },
             "line": {
              "color": "white"
             }
            },
            "header": {
             "fill": {
              "color": "#C8D4E3"
             },
             "line": {
              "color": "white"
             }
            },
            "type": "table"
           }
          ]
         },
         "layout": {
          "annotationdefaults": {
           "arrowcolor": "#2a3f5f",
           "arrowhead": 0,
           "arrowwidth": 1
          },
          "coloraxis": {
           "colorbar": {
            "outlinewidth": 0,
            "ticks": ""
           }
          },
          "colorscale": {
           "diverging": [
            [
             0,
             "#8e0152"
            ],
            [
             0.1,
             "#c51b7d"
            ],
            [
             0.2,
             "#de77ae"
            ],
            [
             0.3,
             "#f1b6da"
            ],
            [
             0.4,
             "#fde0ef"
            ],
            [
             0.5,
             "#f7f7f7"
            ],
            [
             0.6,
             "#e6f5d0"
            ],
            [
             0.7,
             "#b8e186"
            ],
            [
             0.8,
             "#7fbc41"
            ],
            [
             0.9,
             "#4d9221"
            ],
            [
             1,
             "#276419"
            ]
           ],
           "sequential": [
            [
             0,
             "#0d0887"
            ],
            [
             0.1111111111111111,
             "#46039f"
            ],
            [
             0.2222222222222222,
             "#7201a8"
            ],
            [
             0.3333333333333333,
             "#9c179e"
            ],
            [
             0.4444444444444444,
             "#bd3786"
            ],
            [
             0.5555555555555556,
             "#d8576b"
            ],
            [
             0.6666666666666666,
             "#ed7953"
            ],
            [
             0.7777777777777778,
             "#fb9f3a"
            ],
            [
             0.8888888888888888,
             "#fdca26"
            ],
            [
             1,
             "#f0f921"
            ]
           ],
           "sequentialminus": [
            [
             0,
             "#0d0887"
            ],
            [
             0.1111111111111111,
             "#46039f"
            ],
            [
             0.2222222222222222,
             "#7201a8"
            ],
            [
             0.3333333333333333,
             "#9c179e"
            ],
            [
             0.4444444444444444,
             "#bd3786"
            ],
            [
             0.5555555555555556,
             "#d8576b"
            ],
            [
             0.6666666666666666,
             "#ed7953"
            ],
            [
             0.7777777777777778,
             "#fb9f3a"
            ],
            [
             0.8888888888888888,
             "#fdca26"
            ],
            [
             1,
             "#f0f921"
            ]
           ]
          },
          "colorway": [
           "#636efa",
           "#EF553B",
           "#00cc96",
           "#ab63fa",
           "#FFA15A",
           "#19d3f3",
           "#FF6692",
           "#B6E880",
           "#FF97FF",
           "#FECB52"
          ],
          "font": {
           "color": "#2a3f5f"
          },
          "geo": {
           "bgcolor": "white",
           "lakecolor": "white",
           "landcolor": "#E5ECF6",
           "showlakes": true,
           "showland": true,
           "subunitcolor": "white"
          },
          "hoverlabel": {
           "align": "left"
          },
          "hovermode": "closest",
          "mapbox": {
           "style": "light"
          },
          "paper_bgcolor": "white",
          "plot_bgcolor": "#E5ECF6",
          "polar": {
           "angularaxis": {
            "gridcolor": "white",
            "linecolor": "white",
            "ticks": ""
           },
           "bgcolor": "#E5ECF6",
           "radialaxis": {
            "gridcolor": "white",
            "linecolor": "white",
            "ticks": ""
           }
          },
          "scene": {
           "xaxis": {
            "backgroundcolor": "#E5ECF6",
            "gridcolor": "white",
            "gridwidth": 2,
            "linecolor": "white",
            "showbackground": true,
            "ticks": "",
            "zerolinecolor": "white"
           },
           "yaxis": {
            "backgroundcolor": "#E5ECF6",
            "gridcolor": "white",
            "gridwidth": 2,
            "linecolor": "white",
            "showbackground": true,
            "ticks": "",
            "zerolinecolor": "white"
           },
           "zaxis": {
            "backgroundcolor": "#E5ECF6",
            "gridcolor": "white",
            "gridwidth": 2,
            "linecolor": "white",
            "showbackground": true,
            "ticks": "",
            "zerolinecolor": "white"
           }
          },
          "shapedefaults": {
           "line": {
            "color": "#2a3f5f"
           }
          },
          "ternary": {
           "aaxis": {
            "gridcolor": "white",
            "linecolor": "white",
            "ticks": ""
           },
           "baxis": {
            "gridcolor": "white",
            "linecolor": "white",
            "ticks": ""
           },
           "bgcolor": "#E5ECF6",
           "caxis": {
            "gridcolor": "white",
            "linecolor": "white",
            "ticks": ""
           }
          },
          "title": {
           "x": 0.05
          },
          "xaxis": {
           "automargin": true,
           "gridcolor": "white",
           "linecolor": "white",
           "ticks": "",
           "title": {
            "standoff": 15
           },
           "zerolinecolor": "white",
           "zerolinewidth": 2
          },
          "yaxis": {
           "automargin": true,
           "gridcolor": "white",
           "linecolor": "white",
           "ticks": "",
           "title": {
            "standoff": 15
           },
           "zerolinecolor": "white",
           "zerolinewidth": 2
          }
         }
        },
        "title": {
         "text": "Distribution of Ratings for Alexa"
        }
       }
      },
      "text/html": [
       "<div>\n",
       "        \n",
       "        \n",
       "            <div id=\"e2e06a28-dd8b-4f08-84af-dff34e934eb5\" class=\"plotly-graph-div\" style=\"height:525px; width:100%;\"></div>\n",
       "            <script type=\"text/javascript\">\n",
       "                require([\"plotly\"], function(Plotly) {\n",
       "                    window.PLOTLYENV=window.PLOTLYENV || {};\n",
       "                    \n",
       "                if (document.getElementById(\"e2e06a28-dd8b-4f08-84af-dff34e934eb5\")) {\n",
       "                    Plotly.newPlot(\n",
       "                        'e2e06a28-dd8b-4f08-84af-dff34e934eb5',\n",
       "                        [{\"hole\": 0.3, \"labels\": [5, 4, 1, 3, 2], \"marker\": {\"colors\": [\"pink\", \"lightblue\", \"aqua\", \"gold\", \"crimson\"]}, \"name\": \"Alexa\", \"type\": \"pie\", \"values\": [2286, 455, 161, 152, 96]}],\n",
       "                        {\"template\": {\"data\": {\"bar\": [{\"error_x\": {\"color\": \"#2a3f5f\"}, \"error_y\": {\"color\": \"#2a3f5f\"}, \"marker\": {\"line\": {\"color\": \"#E5ECF6\", \"width\": 0.5}}, \"type\": \"bar\"}], \"barpolar\": [{\"marker\": {\"line\": {\"color\": \"#E5ECF6\", \"width\": 0.5}}, \"type\": \"barpolar\"}], \"carpet\": [{\"aaxis\": {\"endlinecolor\": \"#2a3f5f\", \"gridcolor\": \"white\", \"linecolor\": \"white\", \"minorgridcolor\": \"white\", \"startlinecolor\": \"#2a3f5f\"}, \"baxis\": {\"endlinecolor\": \"#2a3f5f\", \"gridcolor\": \"white\", \"linecolor\": \"white\", \"minorgridcolor\": \"white\", \"startlinecolor\": \"#2a3f5f\"}, \"type\": \"carpet\"}], \"choropleth\": [{\"colorbar\": {\"outlinewidth\": 0, \"ticks\": \"\"}, \"type\": \"choropleth\"}], \"contour\": [{\"colorbar\": {\"outlinewidth\": 0, \"ticks\": \"\"}, \"colorscale\": [[0.0, \"#0d0887\"], [0.1111111111111111, \"#46039f\"], [0.2222222222222222, \"#7201a8\"], [0.3333333333333333, \"#9c179e\"], [0.4444444444444444, \"#bd3786\"], [0.5555555555555556, \"#d8576b\"], [0.6666666666666666, \"#ed7953\"], [0.7777777777777778, \"#fb9f3a\"], [0.8888888888888888, \"#fdca26\"], [1.0, \"#f0f921\"]], \"type\": \"contour\"}], \"contourcarpet\": [{\"colorbar\": {\"outlinewidth\": 0, \"ticks\": \"\"}, \"type\": \"contourcarpet\"}], \"heatmap\": [{\"colorbar\": {\"outlinewidth\": 0, \"ticks\": \"\"}, \"colorscale\": [[0.0, \"#0d0887\"], [0.1111111111111111, \"#46039f\"], [0.2222222222222222, \"#7201a8\"], [0.3333333333333333, \"#9c179e\"], [0.4444444444444444, \"#bd3786\"], [0.5555555555555556, \"#d8576b\"], [0.6666666666666666, \"#ed7953\"], [0.7777777777777778, \"#fb9f3a\"], [0.8888888888888888, \"#fdca26\"], [1.0, \"#f0f921\"]], \"type\": \"heatmap\"}], \"heatmapgl\": [{\"colorbar\": {\"outlinewidth\": 0, \"ticks\": \"\"}, \"colorscale\": [[0.0, \"#0d0887\"], [0.1111111111111111, \"#46039f\"], [0.2222222222222222, \"#7201a8\"], [0.3333333333333333, \"#9c179e\"], [0.4444444444444444, \"#bd3786\"], [0.5555555555555556, \"#d8576b\"], [0.6666666666666666, \"#ed7953\"], [0.7777777777777778, \"#fb9f3a\"], [0.8888888888888888, \"#fdca26\"], [1.0, \"#f0f921\"]], \"type\": \"heatmapgl\"}], \"histogram\": [{\"marker\": {\"colorbar\": {\"outlinewidth\": 0, \"ticks\": \"\"}}, \"type\": \"histogram\"}], \"histogram2d\": [{\"colorbar\": {\"outlinewidth\": 0, \"ticks\": \"\"}, \"colorscale\": [[0.0, \"#0d0887\"], [0.1111111111111111, \"#46039f\"], [0.2222222222222222, \"#7201a8\"], [0.3333333333333333, \"#9c179e\"], [0.4444444444444444, \"#bd3786\"], [0.5555555555555556, \"#d8576b\"], [0.6666666666666666, \"#ed7953\"], [0.7777777777777778, \"#fb9f3a\"], [0.8888888888888888, \"#fdca26\"], [1.0, \"#f0f921\"]], \"type\": \"histogram2d\"}], \"histogram2dcontour\": [{\"colorbar\": {\"outlinewidth\": 0, \"ticks\": \"\"}, \"colorscale\": [[0.0, \"#0d0887\"], [0.1111111111111111, \"#46039f\"], [0.2222222222222222, \"#7201a8\"], [0.3333333333333333, \"#9c179e\"], [0.4444444444444444, \"#bd3786\"], [0.5555555555555556, \"#d8576b\"], [0.6666666666666666, \"#ed7953\"], [0.7777777777777778, \"#fb9f3a\"], [0.8888888888888888, \"#fdca26\"], [1.0, \"#f0f921\"]], \"type\": \"histogram2dcontour\"}], \"mesh3d\": [{\"colorbar\": {\"outlinewidth\": 0, \"ticks\": \"\"}, \"type\": \"mesh3d\"}], \"parcoords\": [{\"line\": {\"colorbar\": {\"outlinewidth\": 0, \"ticks\": \"\"}}, \"type\": \"parcoords\"}], \"pie\": [{\"automargin\": true, \"type\": \"pie\"}], \"scatter\": [{\"marker\": {\"colorbar\": {\"outlinewidth\": 0, \"ticks\": \"\"}}, \"type\": \"scatter\"}], \"scatter3d\": [{\"line\": {\"colorbar\": {\"outlinewidth\": 0, \"ticks\": \"\"}}, \"marker\": {\"colorbar\": {\"outlinewidth\": 0, \"ticks\": \"\"}}, \"type\": \"scatter3d\"}], \"scattercarpet\": [{\"marker\": {\"colorbar\": {\"outlinewidth\": 0, \"ticks\": \"\"}}, \"type\": \"scattercarpet\"}], \"scattergeo\": [{\"marker\": {\"colorbar\": {\"outlinewidth\": 0, \"ticks\": \"\"}}, \"type\": \"scattergeo\"}], \"scattergl\": [{\"marker\": {\"colorbar\": {\"outlinewidth\": 0, \"ticks\": \"\"}}, \"type\": \"scattergl\"}], \"scattermapbox\": [{\"marker\": {\"colorbar\": {\"outlinewidth\": 0, \"ticks\": \"\"}}, \"type\": \"scattermapbox\"}], \"scatterpolar\": [{\"marker\": {\"colorbar\": {\"outlinewidth\": 0, \"ticks\": \"\"}}, \"type\": \"scatterpolar\"}], \"scatterpolargl\": [{\"marker\": {\"colorbar\": {\"outlinewidth\": 0, \"ticks\": \"\"}}, \"type\": \"scatterpolargl\"}], \"scatterternary\": [{\"marker\": {\"colorbar\": {\"outlinewidth\": 0, \"ticks\": \"\"}}, \"type\": \"scatterternary\"}], \"surface\": [{\"colorbar\": {\"outlinewidth\": 0, \"ticks\": \"\"}, \"colorscale\": [[0.0, \"#0d0887\"], [0.1111111111111111, \"#46039f\"], [0.2222222222222222, \"#7201a8\"], [0.3333333333333333, \"#9c179e\"], [0.4444444444444444, \"#bd3786\"], [0.5555555555555556, \"#d8576b\"], [0.6666666666666666, \"#ed7953\"], [0.7777777777777778, \"#fb9f3a\"], [0.8888888888888888, \"#fdca26\"], [1.0, \"#f0f921\"]], \"type\": \"surface\"}], \"table\": [{\"cells\": {\"fill\": {\"color\": \"#EBF0F8\"}, \"line\": {\"color\": \"white\"}}, \"header\": {\"fill\": {\"color\": \"#C8D4E3\"}, \"line\": {\"color\": \"white\"}}, \"type\": \"table\"}]}, \"layout\": {\"annotationdefaults\": {\"arrowcolor\": \"#2a3f5f\", \"arrowhead\": 0, \"arrowwidth\": 1}, \"coloraxis\": {\"colorbar\": {\"outlinewidth\": 0, \"ticks\": \"\"}}, \"colorscale\": {\"diverging\": [[0, \"#8e0152\"], [0.1, \"#c51b7d\"], [0.2, \"#de77ae\"], [0.3, \"#f1b6da\"], [0.4, \"#fde0ef\"], [0.5, \"#f7f7f7\"], [0.6, \"#e6f5d0\"], [0.7, \"#b8e186\"], [0.8, \"#7fbc41\"], [0.9, \"#4d9221\"], [1, \"#276419\"]], \"sequential\": [[0.0, \"#0d0887\"], [0.1111111111111111, \"#46039f\"], [0.2222222222222222, \"#7201a8\"], [0.3333333333333333, \"#9c179e\"], [0.4444444444444444, \"#bd3786\"], [0.5555555555555556, \"#d8576b\"], [0.6666666666666666, \"#ed7953\"], [0.7777777777777778, \"#fb9f3a\"], [0.8888888888888888, \"#fdca26\"], [1.0, \"#f0f921\"]], \"sequentialminus\": [[0.0, \"#0d0887\"], [0.1111111111111111, \"#46039f\"], [0.2222222222222222, \"#7201a8\"], [0.3333333333333333, \"#9c179e\"], [0.4444444444444444, \"#bd3786\"], [0.5555555555555556, \"#d8576b\"], [0.6666666666666666, \"#ed7953\"], [0.7777777777777778, \"#fb9f3a\"], [0.8888888888888888, \"#fdca26\"], [1.0, \"#f0f921\"]]}, \"colorway\": [\"#636efa\", \"#EF553B\", \"#00cc96\", \"#ab63fa\", \"#FFA15A\", \"#19d3f3\", \"#FF6692\", \"#B6E880\", \"#FF97FF\", \"#FECB52\"], \"font\": {\"color\": \"#2a3f5f\"}, \"geo\": {\"bgcolor\": \"white\", \"lakecolor\": \"white\", \"landcolor\": \"#E5ECF6\", \"showlakes\": true, \"showland\": true, \"subunitcolor\": \"white\"}, \"hoverlabel\": {\"align\": \"left\"}, \"hovermode\": \"closest\", \"mapbox\": {\"style\": \"light\"}, \"paper_bgcolor\": \"white\", \"plot_bgcolor\": \"#E5ECF6\", \"polar\": {\"angularaxis\": {\"gridcolor\": \"white\", \"linecolor\": \"white\", \"ticks\": \"\"}, \"bgcolor\": \"#E5ECF6\", \"radialaxis\": {\"gridcolor\": \"white\", \"linecolor\": \"white\", \"ticks\": \"\"}}, \"scene\": {\"xaxis\": {\"backgroundcolor\": \"#E5ECF6\", \"gridcolor\": \"white\", \"gridwidth\": 2, \"linecolor\": \"white\", \"showbackground\": true, \"ticks\": \"\", \"zerolinecolor\": \"white\"}, \"yaxis\": {\"backgroundcolor\": \"#E5ECF6\", \"gridcolor\": \"white\", \"gridwidth\": 2, \"linecolor\": \"white\", \"showbackground\": true, \"ticks\": \"\", \"zerolinecolor\": \"white\"}, \"zaxis\": {\"backgroundcolor\": \"#E5ECF6\", \"gridcolor\": \"white\", \"gridwidth\": 2, \"linecolor\": \"white\", \"showbackground\": true, \"ticks\": \"\", \"zerolinecolor\": \"white\"}}, \"shapedefaults\": {\"line\": {\"color\": \"#2a3f5f\"}}, \"ternary\": {\"aaxis\": {\"gridcolor\": \"white\", \"linecolor\": \"white\", \"ticks\": \"\"}, \"baxis\": {\"gridcolor\": \"white\", \"linecolor\": \"white\", \"ticks\": \"\"}, \"bgcolor\": \"#E5ECF6\", \"caxis\": {\"gridcolor\": \"white\", \"linecolor\": \"white\", \"ticks\": \"\"}}, \"title\": {\"x\": 0.05}, \"xaxis\": {\"automargin\": true, \"gridcolor\": \"white\", \"linecolor\": \"white\", \"ticks\": \"\", \"title\": {\"standoff\": 15}, \"zerolinecolor\": \"white\", \"zerolinewidth\": 2}, \"yaxis\": {\"automargin\": true, \"gridcolor\": \"white\", \"linecolor\": \"white\", \"ticks\": \"\", \"title\": {\"standoff\": 15}, \"zerolinecolor\": \"white\", \"zerolinewidth\": 2}}}, \"title\": {\"text\": \"Distribution of Ratings for Alexa\"}},\n",
       "                        {\"responsive\": true}\n",
       "                    ).then(function(){\n",
       "                            \n",
       "var gd = document.getElementById('e2e06a28-dd8b-4f08-84af-dff34e934eb5');\n",
       "var x = new MutationObserver(function (mutations, observer) {{\n",
       "        var display = window.getComputedStyle(gd).display;\n",
       "        if (!display || display === 'none') {{\n",
       "            console.log([gd, 'removed!']);\n",
       "            Plotly.purge(gd);\n",
       "            observer.disconnect();\n",
       "        }}\n",
       "}});\n",
       "\n",
       "// Listen for the removal of the full notebook cells\n",
       "var notebookContainer = gd.closest('#notebook-container');\n",
       "if (notebookContainer) {{\n",
       "    x.observe(notebookContainer, {childList: true});\n",
       "}}\n",
       "\n",
       "// Listen for the clearing of the current output cell\n",
       "var outputEl = gd.closest('.output');\n",
       "if (outputEl) {{\n",
       "    x.observe(outputEl, {childList: true});\n",
       "}}\n",
       "\n",
       "                        })\n",
       "                };\n",
       "                });\n",
       "            </script>\n",
       "        </div>"
      ]
     },
     "metadata": {},
     "output_type": "display_data"
    }
   ],
   "source": [
    "ratings = data['rating'].value_counts()\n",
    "\n",
    "label_rating = ratings.index\n",
    "size_rating = ratings.values\n",
    "\n",
    "colors = ['pink', 'lightblue', 'aqua', 'gold', 'crimson']\n",
    "\n",
    "rating_piechart = go.Pie(labels = label_rating,\n",
    "                         values = size_rating,\n",
    "                         marker = dict(colors = colors),\n",
    "                         name = 'Alexa', hole = 0.3)\n",
    "\n",
    "df = [rating_piechart]\n",
    "\n",
    "layout = go.Layout(\n",
    "           title = 'Distribution of Ratings for Alexa')\n",
    "\n",
    "fig = go.Figure(data=df, layout=layout)\n",
    "py.iplot(fig)"
   ]
  },
  {
   "cell_type": "code",
   "execution_count": 13,
   "metadata": {},
   "outputs": [
    {
     "data": {
      "image/png": "[encoded data removed]",
      "text/plain": [
       "<Figure size 1080x648 with 1 Axes>"
      ]
     },
     "metadata": {},
     "output_type": "display_data"
    }
   ],
   "source": [
    "## variations distribution\n",
    "color = plt.cm.copper(np.linspace(0,1,16))\n",
    "data['variation'].value_counts().plot.bar(color=color, figsize=(15,9))\n",
    "plt.title('Dustribution of Variations in Alexa', fontsize=20)\n",
    "plt.xlabel('variations')\n",
    "plt.ylabel('count')\n",
    "plt.show()"
   ]
  },
  {
   "cell_type": "code",
   "execution_count": 14,
   "metadata": {},
   "outputs": [
    {
     "data": {
      "application/vnd.plotly.v1+json": {
       "config": {
        "linkText": "Export to plot.ly",
        "plotlyServerURL": "https://plot.ly",
        "showLink": false
       },
       "data": [
        {
         "hole": 0.3,
         "labels": [
          1,
          0
         ],
         "marker": {
          "colors": [
           "yellow",
           "lightgreen"
          ]
         },
         "name": "Alexa",
         "type": "pie",
         "values": [
          2893,
          257
         ]
        }
       ],
       "layout": {
        "template": {
         "data": {
          "bar": [
           {
            "error_x": {
             "color": "#2a3f5f"
            },
            "error_y": {
             "color": "#2a3f5f"
            },
            "marker": {
             "line": {
              "color": "#E5ECF6",
              "width": 0.5
             }
            },
            "type": "bar"
           }
          ],
          "barpolar": [
           {
            "marker": {
             "line": {
              "color": "#E5ECF6",
              "width": 0.5
             }
            },
            "type": "barpolar"
           }
          ],
          "carpet": [
           {
            "aaxis": {
             "endlinecolor": "#2a3f5f",
             "gridcolor": "white",
             "linecolor": "white",
             "minorgridcolor": "white",
             "startlinecolor": "#2a3f5f"
            },
            "baxis": {
             "endlinecolor": "#2a3f5f",
             "gridcolor": "white",
             "linecolor": "white",
             "minorgridcolor": "white",
             "startlinecolor": "#2a3f5f"
            },
            "type": "carpet"
           }
          ],
          "choropleth": [
           {
            "colorbar": {
             "outlinewidth": 0,
             "ticks": ""
            },
            "type": "choropleth"
           }
          ],
          "contour": [
           {
            "colorbar": {
             "outlinewidth": 0,
             "ticks": ""
            },
            "colorscale": [
             [
              0,
              "#0d0887"
             ],
             [
              0.1111111111111111,
              "#46039f"
             ],
             [
              0.2222222222222222,
              "#7201a8"
             ],
             [
              0.3333333333333333,
              "#9c179e"
             ],
             [
              0.4444444444444444,
              "#bd3786"
             ],
             [
              0.5555555555555556,
              "#d8576b"
             ],
             [
              0.6666666666666666,
              "#ed7953"
             ],
             [
              0.7777777777777778,
              "#fb9f3a"
             ],
             [
              0.8888888888888888,
              "#fdca26"
             ],
             [
              1,
              "#f0f921"
             ]
            ],
            "type": "contour"
           }
          ],
          "contourcarpet": [
           {
            "colorbar": {
             "outlinewidth": 0,
             "ticks": ""
            },
            "type": "contourcarpet"
           }
          ],
          "heatmap": [
           {
            "colorbar": {
             "outlinewidth": 0,
             "ticks": ""
            },
            "colorscale": [
             [
              0,
              "#0d0887"
             ],
             [
              0.1111111111111111,
              "#46039f"
             ],
             [
              0.2222222222222222,
              "#7201a8"
             ],
             [
              0.3333333333333333,
              "#9c179e"
             ],
             [
              0.4444444444444444,
              "#bd3786"
             ],
             [
              0.5555555555555556,
              "#d8576b"
             ],
             [
              0.6666666666666666,
              "#ed7953"
             ],
             [
              0.7777777777777778,
              "#fb9f3a"
             ],
             [
              0.8888888888888888,
              "#fdca26"
             ],
             [
              1,
              "#f0f921"
             ]
            ],
            "type": "heatmap"
           }
          ],
          "heatmapgl": [
           {
            "colorbar": {
             "outlinewidth": 0,
             "ticks": ""
            },
            "colorscale": [
             [
              0,
              "#0d0887"
             ],
             [
              0.1111111111111111,
              "#46039f"
             ],
             [
              0.2222222222222222,
              "#7201a8"
             ],
             [
              0.3333333333333333,
              "#9c179e"
             ],
             [
              0.4444444444444444,
              "#bd3786"
             ],
             [
              0.5555555555555556,
              "#d8576b"
             ],
             [
              0.6666666666666666,
              "#ed7953"
             ],
             [
              0.7777777777777778,
              "#fb9f3a"
             ],
             [
              0.8888888888888888,
              "#fdca26"
             ],
             [
              1,
              "#f0f921"
             ]
            ],
            "type": "heatmapgl"
           }
          ],
          "histogram": [
           {
            "marker": {
             "colorbar": {
              "outlinewidth": 0,
              "ticks": ""
             }
            },
            "type": "histogram"
           }
          ],
          "histogram2d": [
           {
            "colorbar": {
             "outlinewidth": 0,
             "ticks": ""
            },
            "colorscale": [
             [
              0,
              "#0d0887"
             ],
             [
              0.1111111111111111,
              "#46039f"
             ],
             [
              0.2222222222222222,
              "#7201a8"
             ],
             [
              0.3333333333333333,
              "#9c179e"
             ],
             [
              0.4444444444444444,
              "#bd3786"
             ],
             [
              0.5555555555555556,
              "#d8576b"
             ],
             [
              0.6666666666666666,
              "#ed7953"
             ],
             [
              0.7777777777777778,
              "#fb9f3a"
             ],
             [
              0.8888888888888888,
              "#fdca26"
             ],
             [
              1,
              "#f0f921"
             ]
            ],
            "type": "histogram2d"
           }
          ],
          "histogram2dcontour": [
           {
            "colorbar": {
             "outlinewidth": 0,
             "ticks": ""
            },
            "colorscale": [
             [
              0,
              "#0d0887"
             ],
             [
              0.1111111111111111,
              "#46039f"
             ],
             [
              0.2222222222222222,
              "#7201a8"
             ],
             [
              0.3333333333333333,
              "#9c179e"
             ],
             [
              0.4444444444444444,
              "#bd3786"
             ],
             [
              0.5555555555555556,
              "#d8576b"
             ],
             [
              0.6666666666666666,
              "#ed7953"
             ],
             [
              0.7777777777777778,
              "#fb9f3a"
             ],
             [
              0.8888888888888888,
              "#fdca26"
             ],
             [
              1,
              "#f0f921"
             ]
            ],
            "type": "histogram2dcontour"
           }
          ],
          "mesh3d": [
           {
            "colorbar": {
             "outlinewidth": 0,
             "ticks": ""
            },
            "type": "mesh3d"
           }
          ],
          "parcoords": [
           {
            "line": {
             "colorbar": {
              "outlinewidth": 0,
              "ticks": ""
             }
            },
            "type": "parcoords"
           }
          ],
          "pie": [
           {
            "automargin": true,
            "type": "pie"
           }
          ],
          "scatter": [
           {
            "marker": {
             "colorbar": {
              "outlinewidth": 0,
              "ticks": ""
             }
            },
            "type": "scatter"
           }
          ],
          "scatter3d": [
           {
            "line": {
             "colorbar": {
              "outlinewidth": 0,
              "ticks": ""
             }
            },
            "marker": {
             "colorbar": {
              "outlinewidth": 0,
              "ticks": ""
             }
            },
            "type": "scatter3d"
           }
          ],
          "scattercarpet": [
           {
            "marker": {
             "colorbar": {
              "outlinewidth": 0,
              "ticks": ""
             }
            },
            "type": "scattercarpet"
           }
          ],
          "scattergeo": [
           {
            "marker": {
             "colorbar": {
              "outlinewidth": 0,
              "ticks": ""
             }
            },
            "type": "scattergeo"
           }
          ],
          "scattergl": [
           {
            "marker": {
             "colorbar": {
              "outlinewidth": 0,
              "ticks": ""
             }
            },
            "type": "scattergl"
           }
          ],
          "scattermapbox": [
           {
            "marker": {
             "colorbar": {
              "outlinewidth": 0,
              "ticks": ""
             }
            },
            "type": "scattermapbox"
           }
          ],
          "scatterpolar": [
           {
            "marker": {
             "colorbar": {
              "outlinewidth": 0,
              "ticks": ""
             }
            },
            "type": "scatterpolar"
           }
          ],
          "scatterpolargl": [
           {
            "marker": {
             "colorbar": {
              "outlinewidth": 0,
              "ticks": ""
             }
            },
            "type": "scatterpolargl"
           }
          ],
          "scatterternary": [
           {
            "marker": {
             "colorbar": {
              "outlinewidth": 0,
              "ticks": ""
             }
            },
            "type": "scatterternary"
           }
          ],
          "surface": [
           {
            "colorbar": {
             "outlinewidth": 0,
             "ticks": ""
            },
            "colorscale": [
             [
              0,
              "#0d0887"
             ],
             [
              0.1111111111111111,
              "#46039f"
             ],
             [
              0.2222222222222222,
              "#7201a8"
             ],
             [
              0.3333333333333333,
              "#9c179e"
             ],
             [
              0.4444444444444444,
              "#bd3786"
             ],
             [
              0.5555555555555556,
              "#d8576b"
             ],
             [
              0.6666666666666666,
              "#ed7953"
             ],
             [
              0.7777777777777778,
              "#fb9f3a"
             ],
             [
              0.8888888888888888,
              "#fdca26"
             ],
             [
              1,
              "#f0f921"
             ]
            ],
            "type": "surface"
           }
          ],
          "table": [
           {
            "cells": {
             "fill": {
              "color": "#EBF0F8"
             },
             "line": {
              "color": "white"
             }
            },
            "header": {
             "fill": {
              "color": "#C8D4E3"
             },
             "line": {
              "color": "white"
             }
            },
            "type": "table"
           }
          ]
         },
         "layout": {
          "annotationdefaults": {
           "arrowcolor": "#2a3f5f",
           "arrowhead": 0,
           "arrowwidth": 1
          },
          "coloraxis": {
           "colorbar": {
            "outlinewidth": 0,
            "ticks": ""
           }
          },
          "colorscale": {
           "diverging": [
            [
             0,
             "#8e0152"
            ],
            [
             0.1,
             "#c51b7d"
            ],
            [
             0.2,
             "#de77ae"
            ],
            [
             0.3,
             "#f1b6da"
            ],
            [
             0.4,
             "#fde0ef"
            ],
            [
             0.5,
             "#f7f7f7"
            ],
            [
             0.6,
             "#e6f5d0"
            ],
            [
             0.7,
             "#b8e186"
            ],
            [
             0.8,
             "#7fbc41"
            ],
            [
             0.9,
             "#4d9221"
            ],
            [
             1,
             "#276419"
            ]
           ],
           "sequential": [
            [
             0,
             "#0d0887"
            ],
            [
             0.1111111111111111,
             "#46039f"
            ],
            [
             0.2222222222222222,
             "#7201a8"
            ],
            [
             0.3333333333333333,
             "#9c179e"
            ],
            [
             0.4444444444444444,
             "#bd3786"
            ],
            [
             0.5555555555555556,
             "#d8576b"
            ],
            [
             0.6666666666666666,
             "#ed7953"
            ],
            [
             0.7777777777777778,
             "#fb9f3a"
            ],
            [
             0.8888888888888888,
             "#fdca26"
            ],
            [
             1,
             "#f0f921"
            ]
           ],
           "sequentialminus": [
            [
             0,
             "#0d0887"
            ],
            [
             0.1111111111111111,
             "#46039f"
            ],
            [
             0.2222222222222222,
             "#7201a8"
            ],
            [
             0.3333333333333333,
             "#9c179e"
            ],
            [
             0.4444444444444444,
             "#bd3786"
            ],
            [
             0.5555555555555556,
             "#d8576b"
            ],
            [
             0.6666666666666666,
             "#ed7953"
            ],
            [
             0.7777777777777778,
             "#fb9f3a"
            ],
            [
             0.8888888888888888,
             "#fdca26"
            ],
            [
             1,
             "#f0f921"
            ]
           ]
          },
          "colorway": [
           "#636efa",
           "#EF553B",
           "#00cc96",
           "#ab63fa",
           "#FFA15A",
           "#19d3f3",
           "#FF6692",
           "#B6E880",
           "#FF97FF",
           "#FECB52"
          ],
          "font": {
           "color": "#2a3f5f"
          },
          "geo": {
           "bgcolor": "white",
           "lakecolor": "white",
           "landcolor": "#E5ECF6",
           "showlakes": true,
           "showland": true,
           "subunitcolor": "white"
          },
          "hoverlabel": {
           "align": "left"
          },
          "hovermode": "closest",
          "mapbox": {
           "style": "light"
          },
          "paper_bgcolor": "white",
          "plot_bgcolor": "#E5ECF6",
          "polar": {
           "angularaxis": {
            "gridcolor": "white",
            "linecolor": "white",
            "ticks": ""
           },
           "bgcolor": "#E5ECF6",
           "radialaxis": {
            "gridcolor": "white",
            "linecolor": "white",
            "ticks": ""
           }
          },
          "scene": {
           "xaxis": {
            "backgroundcolor": "#E5ECF6",
            "gridcolor": "white",
            "gridwidth": 2,
            "linecolor": "white",
            "showbackground": true,
            "ticks": "",
            "zerolinecolor": "white"
           },
           "yaxis": {
            "backgroundcolor": "#E5ECF6",
            "gridcolor": "white",
            "gridwidth": 2,
            "linecolor": "white",
            "showbackground": true,
            "ticks": "",
            "zerolinecolor": "white"
           },
           "zaxis": {
            "backgroundcolor": "#E5ECF6",
            "gridcolor": "white",
            "gridwidth": 2,
            "linecolor": "white",
            "showbackground": true,
            "ticks": "",
            "zerolinecolor": "white"
           }
          },
          "shapedefaults": {
           "line": {
            "color": "#2a3f5f"
           }
          },
          "ternary": {
           "aaxis": {
            "gridcolor": "white",
            "linecolor": "white",
            "ticks": ""
           },
           "baxis": {
            "gridcolor": "white",
            "linecolor": "white",
            "ticks": ""
           },
           "bgcolor": "#E5ECF6",
           "caxis": {
            "gridcolor": "white",
            "linecolor": "white",
            "ticks": ""
           }
          },
          "title": {
           "x": 0.05
          },
          "xaxis": {
           "automargin": true,
           "gridcolor": "white",
           "linecolor": "white",
           "ticks": "",
           "title": {
            "standoff": 15
           },
           "zerolinecolor": "white",
           "zerolinewidth": 2
          },
          "yaxis": {
           "automargin": true,
           "gridcolor": "white",
           "linecolor": "white",
           "ticks": "",
           "title": {
            "standoff": 15
           },
           "zerolinecolor": "white",
           "zerolinewidth": 2
          }
         }
        },
        "title": {
         "text": "Distribution of Feedbacks for Alexa"
        }
       }
      },
      "text/html": [
       "<div>\n",
       "        \n",
       "        \n",
       "            <div id=\"4aa819ea-d2a0-4f8a-ac44-69e050b7aef7\" class=\"plotly-graph-div\" style=\"height:525px; width:100%;\"></div>\n",
       "            <script type=\"text/javascript\">\n",
       "                require([\"plotly\"], function(Plotly) {\n",
       "                    window.PLOTLYENV=window.PLOTLYENV || {};\n",
       "                    \n",
       "                if (document.getElementById(\"4aa819ea-d2a0-4f8a-ac44-69e050b7aef7\")) {\n",
       "                    Plotly.newPlot(\n",
       "                        '4aa819ea-d2a0-4f8a-ac44-69e050b7aef7',\n",
       "                        [{\"hole\": 0.3, \"labels\": [1, 0], \"marker\": {\"colors\": [\"yellow\", \"lightgreen\"]}, \"name\": \"Alexa\", \"type\": \"pie\", \"values\": [2893, 257]}],\n",
       "                        {\"template\": {\"data\": {\"bar\": [{\"error_x\": {\"color\": \"#2a3f5f\"}, \"error_y\": {\"color\": \"#2a3f5f\"}, \"marker\": {\"line\": {\"color\": \"#E5ECF6\", \"width\": 0.5}}, \"type\": \"bar\"}], \"barpolar\": [{\"marker\": {\"line\": {\"color\": \"#E5ECF6\", \"width\": 0.5}}, \"type\": \"barpolar\"}], \"carpet\": [{\"aaxis\": {\"endlinecolor\": \"#2a3f5f\", \"gridcolor\": \"white\", \"linecolor\": \"white\", \"minorgridcolor\": \"white\", \"startlinecolor\": \"#2a3f5f\"}, \"baxis\": {\"endlinecolor\": \"#2a3f5f\", \"gridcolor\": \"white\", \"linecolor\": \"white\", \"minorgridcolor\": \"white\", \"startlinecolor\": \"#2a3f5f\"}, \"type\": \"carpet\"}], \"choropleth\": [{\"colorbar\": {\"outlinewidth\": 0, \"ticks\": \"\"}, \"type\": \"choropleth\"}], \"contour\": [{\"colorbar\": {\"outlinewidth\": 0, \"ticks\": \"\"}, \"colorscale\": [[0.0, \"#0d0887\"], [0.1111111111111111, \"#46039f\"], [0.2222222222222222, \"#7201a8\"], [0.3333333333333333, \"#9c179e\"], [0.4444444444444444, \"#bd3786\"], [0.5555555555555556, \"#d8576b\"], [0.6666666666666666, \"#ed7953\"], [0.7777777777777778, \"#fb9f3a\"], [0.8888888888888888, \"#fdca26\"], [1.0, \"#f0f921\"]], \"type\": \"contour\"}], \"contourcarpet\": [{\"colorbar\": {\"outlinewidth\": 0, \"ticks\": \"\"}, \"type\": \"contourcarpet\"}], \"heatmap\": [{\"colorbar\": {\"outlinewidth\": 0, \"ticks\": \"\"}, \"colorscale\": [[0.0, \"#0d0887\"], [0.1111111111111111, \"#46039f\"], [0.2222222222222222, \"#7201a8\"], [0.3333333333333333, \"#9c179e\"], [0.4444444444444444, \"#bd3786\"], [0.5555555555555556, \"#d8576b\"], [0.6666666666666666, \"#ed7953\"], [0.7777777777777778, \"#fb9f3a\"], [0.8888888888888888, \"#fdca26\"], [1.0, \"#f0f921\"]], \"type\": \"heatmap\"}], \"heatmapgl\": [{\"colorbar\": {\"outlinewidth\": 0, \"ticks\": \"\"}, \"colorscale\": [[0.0, \"#0d0887\"], [0.1111111111111111, \"#46039f\"], [0.2222222222222222, \"#7201a8\"], [0.3333333333333333, \"#9c179e\"], [0.4444444444444444, \"#bd3786\"], [0.5555555555555556, \"#d8576b\"], [0.6666666666666666, \"#ed7953\"], [0.7777777777777778, \"#fb9f3a\"], [0.8888888888888888, \"#fdca26\"], [1.0, \"#f0f921\"]], \"type\": \"heatmapgl\"}], \"histogram\": [{\"marker\": {\"colorbar\": {\"outlinewidth\": 0, \"ticks\": \"\"}}, \"type\": \"histogram\"}], \"histogram2d\": [{\"colorbar\": {\"outlinewidth\": 0, \"ticks\": \"\"}, \"colorscale\": [[0.0, \"#0d0887\"], [0.1111111111111111, \"#46039f\"], [0.2222222222222222, \"#7201a8\"], [0.3333333333333333, \"#9c179e\"], [0.4444444444444444, \"#bd3786\"], [0.5555555555555556, \"#d8576b\"], [0.6666666666666666, \"#ed7953\"], [0.7777777777777778, \"#fb9f3a\"], [0.8888888888888888, \"#fdca26\"], [1.0, \"#f0f921\"]], \"type\": \"histogram2d\"}], \"histogram2dcontour\": [{\"colorbar\": {\"outlinewidth\": 0, \"ticks\": \"\"}, \"colorscale\": [[0.0, \"#0d0887\"], [0.1111111111111111, \"#46039f\"], [0.2222222222222222, \"#7201a8\"], [0.3333333333333333, \"#9c179e\"], [0.4444444444444444, \"#bd3786\"], [0.5555555555555556, \"#d8576b\"], [0.6666666666666666, \"#ed7953\"], [0.7777777777777778, \"#fb9f3a\"], [0.8888888888888888, \"#fdca26\"], [1.0, \"#f0f921\"]], \"type\": \"histogram2dcontour\"}], \"mesh3d\": [{\"colorbar\": {\"outlinewidth\": 0, \"ticks\": \"\"}, \"type\": \"mesh3d\"}], \"parcoords\": [{\"line\": {\"colorbar\": {\"outlinewidth\": 0, \"ticks\": \"\"}}, \"type\": \"parcoords\"}], \"pie\": [{\"automargin\": true, \"type\": \"pie\"}], \"scatter\": [{\"marker\": {\"colorbar\": {\"outlinewidth\": 0, \"ticks\": \"\"}}, \"type\": \"scatter\"}], \"scatter3d\": [{\"line\": {\"colorbar\": {\"outlinewidth\": 0, \"ticks\": \"\"}}, \"marker\": {\"colorbar\": {\"outlinewidth\": 0, \"ticks\": \"\"}}, \"type\": \"scatter3d\"}], \"scattercarpet\": [{\"marker\": {\"colorbar\": {\"outlinewidth\": 0, \"ticks\": \"\"}}, \"type\": \"scattercarpet\"}], \"scattergeo\": [{\"marker\": {\"colorbar\": {\"outlinewidth\": 0, \"ticks\": \"\"}}, \"type\": \"scattergeo\"}], \"scattergl\": [{\"marker\": {\"colorbar\": {\"outlinewidth\": 0, \"ticks\": \"\"}}, \"type\": \"scattergl\"}], \"scattermapbox\": [{\"marker\": {\"colorbar\": {\"outlinewidth\": 0, \"ticks\": \"\"}}, \"type\": \"scattermapbox\"}], \"scatterpolar\": [{\"marker\": {\"colorbar\": {\"outlinewidth\": 0, \"ticks\": \"\"}}, \"type\": \"scatterpolar\"}], \"scatterpolargl\": [{\"marker\": {\"colorbar\": {\"outlinewidth\": 0, \"ticks\": \"\"}}, \"type\": \"scatterpolargl\"}], \"scatterternary\": [{\"marker\": {\"colorbar\": {\"outlinewidth\": 0, \"ticks\": \"\"}}, \"type\": \"scatterternary\"}], \"surface\": [{\"colorbar\": {\"outlinewidth\": 0, \"ticks\": \"\"}, \"colorscale\": [[0.0, \"#0d0887\"], [0.1111111111111111, \"#46039f\"], [0.2222222222222222, \"#7201a8\"], [0.3333333333333333, \"#9c179e\"], [0.4444444444444444, \"#bd3786\"], [0.5555555555555556, \"#d8576b\"], [0.6666666666666666, \"#ed7953\"], [0.7777777777777778, \"#fb9f3a\"], [0.8888888888888888, \"#fdca26\"], [1.0, \"#f0f921\"]], \"type\": \"surface\"}], \"table\": [{\"cells\": {\"fill\": {\"color\": \"#EBF0F8\"}, \"line\": {\"color\": \"white\"}}, \"header\": {\"fill\": {\"color\": \"#C8D4E3\"}, \"line\": {\"color\": \"white\"}}, \"type\": \"table\"}]}, \"layout\": {\"annotationdefaults\": {\"arrowcolor\": \"#2a3f5f\", \"arrowhead\": 0, \"arrowwidth\": 1}, \"coloraxis\": {\"colorbar\": {\"outlinewidth\": 0, \"ticks\": \"\"}}, \"colorscale\": {\"diverging\": [[0, \"#8e0152\"], [0.1, \"#c51b7d\"], [0.2, \"#de77ae\"], [0.3, \"#f1b6da\"], [0.4, \"#fde0ef\"], [0.5, \"#f7f7f7\"], [0.6, \"#e6f5d0\"], [0.7, \"#b8e186\"], [0.8, \"#7fbc41\"], [0.9, \"#4d9221\"], [1, \"#276419\"]], \"sequential\": [[0.0, \"#0d0887\"], [0.1111111111111111, \"#46039f\"], [0.2222222222222222, \"#7201a8\"], [0.3333333333333333, \"#9c179e\"], [0.4444444444444444, \"#bd3786\"], [0.5555555555555556, \"#d8576b\"], [0.6666666666666666, \"#ed7953\"], [0.7777777777777778, \"#fb9f3a\"], [0.8888888888888888, \"#fdca26\"], [1.0, \"#f0f921\"]], \"sequentialminus\": [[0.0, \"#0d0887\"], [0.1111111111111111, \"#46039f\"], [0.2222222222222222, \"#7201a8\"], [0.3333333333333333, \"#9c179e\"], [0.4444444444444444, \"#bd3786\"], [0.5555555555555556, \"#d8576b\"], [0.6666666666666666, \"#ed7953\"], [0.7777777777777778, \"#fb9f3a\"], [0.8888888888888888, \"#fdca26\"], [1.0, \"#f0f921\"]]}, \"colorway\": [\"#636efa\", \"#EF553B\", \"#00cc96\", \"#ab63fa\", \"#FFA15A\", \"#19d3f3\", \"#FF6692\", \"#B6E880\", \"#FF97FF\", \"#FECB52\"], \"font\": {\"color\": \"#2a3f5f\"}, \"geo\": {\"bgcolor\": \"white\", \"lakecolor\": \"white\", \"landcolor\": \"#E5ECF6\", \"showlakes\": true, \"showland\": true, \"subunitcolor\": \"white\"}, \"hoverlabel\": {\"align\": \"left\"}, \"hovermode\": \"closest\", \"mapbox\": {\"style\": \"light\"}, \"paper_bgcolor\": \"white\", \"plot_bgcolor\": \"#E5ECF6\", \"polar\": {\"angularaxis\": {\"gridcolor\": \"white\", \"linecolor\": \"white\", \"ticks\": \"\"}, \"bgcolor\": \"#E5ECF6\", \"radialaxis\": {\"gridcolor\": \"white\", \"linecolor\": \"white\", \"ticks\": \"\"}}, \"scene\": {\"xaxis\": {\"backgroundcolor\": \"#E5ECF6\", \"gridcolor\": \"white\", \"gridwidth\": 2, \"linecolor\": \"white\", \"showbackground\": true, \"ticks\": \"\", \"zerolinecolor\": \"white\"}, \"yaxis\": {\"backgroundcolor\": \"#E5ECF6\", \"gridcolor\": \"white\", \"gridwidth\": 2, \"linecolor\": \"white\", \"showbackground\": true, \"ticks\": \"\", \"zerolinecolor\": \"white\"}, \"zaxis\": {\"backgroundcolor\": \"#E5ECF6\", \"gridcolor\": \"white\", \"gridwidth\": 2, \"linecolor\": \"white\", \"showbackground\": true, \"ticks\": \"\", \"zerolinecolor\": \"white\"}}, \"shapedefaults\": {\"line\": {\"color\": \"#2a3f5f\"}}, \"ternary\": {\"aaxis\": {\"gridcolor\": \"white\", \"linecolor\": \"white\", \"ticks\": \"\"}, \"baxis\": {\"gridcolor\": \"white\", \"linecolor\": \"white\", \"ticks\": \"\"}, \"bgcolor\": \"#E5ECF6\", \"caxis\": {\"gridcolor\": \"white\", \"linecolor\": \"white\", \"ticks\": \"\"}}, \"title\": {\"x\": 0.05}, \"xaxis\": {\"automargin\": true, \"gridcolor\": \"white\", \"linecolor\": \"white\", \"ticks\": \"\", \"title\": {\"standoff\": 15}, \"zerolinecolor\": \"white\", \"zerolinewidth\": 2}, \"yaxis\": {\"automargin\": true, \"gridcolor\": \"white\", \"linecolor\": \"white\", \"ticks\": \"\", \"title\": {\"standoff\": 15}, \"zerolinecolor\": \"white\", \"zerolinewidth\": 2}}}, \"title\": {\"text\": \"Distribution of Feedbacks for Alexa\"}},\n",
       "                        {\"responsive\": true}\n",
       "                    ).then(function(){\n",
       "                            \n",
       "var gd = document.getElementById('4aa819ea-d2a0-4f8a-ac44-69e050b7aef7');\n",
       "var x = new MutationObserver(function (mutations, observer) {{\n",
       "        var display = window.getComputedStyle(gd).display;\n",
       "        if (!display || display === 'none') {{\n",
       "            console.log([gd, 'removed!']);\n",
       "            Plotly.purge(gd);\n",
       "            observer.disconnect();\n",
       "        }}\n",
       "}});\n",
       "\n",
       "// Listen for the removal of the full notebook cells\n",
       "var notebookContainer = gd.closest('#notebook-container');\n",
       "if (notebookContainer) {{\n",
       "    x.observe(notebookContainer, {childList: true});\n",
       "}}\n",
       "\n",
       "// Listen for the clearing of the current output cell\n",
       "var outputEl = gd.closest('.output');\n",
       "if (outputEl) {{\n",
       "    x.observe(outputEl, {childList: true});\n",
       "}}\n",
       "\n",
       "                        })\n",
       "                };\n",
       "                });\n",
       "            </script>\n",
       "        </div>"
      ]
     },
     "metadata": {},
     "output_type": "display_data"
    }
   ],
   "source": [
    "#distrubtion of feedbacks\n",
    "feedbacks = data['feedback'].value_counts()\n",
    "\n",
    "label_feedback = feedbacks.index\n",
    "size_feedback = feedbacks.values\n",
    "\n",
    "colors = ['yellow', 'lightgreen']\n",
    "\n",
    "feedback_piechart = go.Pie(labels = label_feedback,\n",
    "                         values = size_feedback,\n",
    "                         marker = dict(colors = colors),\n",
    "                         name = 'Alexa', hole = 0.3)\n",
    "\n",
    "df = [feedback_piechart]\n",
    "\n",
    "layout = go.Layout(\n",
    "           title = 'Distribution of Feedbacks for Alexa')\n",
    "\n",
    "fig = go.Figure(data=df, layout=layout)\n",
    "py.iplot(fig)"
   ]
  },
  {
   "cell_type": "code",
   "execution_count": 15,
   "metadata": {},
   "outputs": [
    {
     "data": {
      "text/plain": [
       "Text(0, 0.5, 'Count')"
      ]
     },
     "execution_count": 15,
     "metadata": {},
     "output_type": "execute_result"
    },
    {
     "data": {
      "image/png": "[encoded data removed]",
      "text/plain": [
       "<Figure size 1080x360 with 1 Axes>"
      ]
     },
     "metadata": {},
     "output_type": "display_data"
    }
   ],
   "source": [
    "data['length'].value_counts().plot.hist(color='skyblue', figsize=(15,5), bins=50)\n",
    "plt.title('Distribution of Review Length')\n",
    "plt.xlabel('Lengths')\n",
    "plt.ylabel('Count')"
   ]
  },
  {
   "cell_type": "markdown",
   "metadata": {},
   "source": [
    "#### some example of reviews "
   ]
  },
  {
   "cell_type": "code",
   "execution_count": 16,
   "metadata": {},
   "outputs": [
    {
     "data": {
      "text/plain": [
       "'😍'"
      ]
     },
     "execution_count": 16,
     "metadata": {},
     "output_type": "execute_result"
    }
   ],
   "source": [
    "data[data['length'] == 1]['verified_reviews'].iloc[0]\n"
   ]
  },
  {
   "cell_type": "code",
   "execution_count": 17,
   "metadata": {},
   "outputs": [
    {
     "data": {
      "text/plain": [
       "'Good sound works well'"
      ]
     },
     "execution_count": 17,
     "metadata": {},
     "output_type": "execute_result"
    }
   ],
   "source": [
    "data[data['length'] == 21]['verified_reviews'].iloc[0]"
   ]
  },
  {
   "cell_type": "code",
   "execution_count": 18,
   "metadata": {},
   "outputs": [
    {
     "data": {
      "text/plain": [
       "'Yet another Exho for our home and love them all!!!'"
      ]
     },
     "execution_count": 18,
     "metadata": {},
     "output_type": "execute_result"
    }
   ],
   "source": [
    "data[data['length'] == 50]['verified_reviews'].iloc[0]\n"
   ]
  },
  {
   "cell_type": "code",
   "execution_count": 19,
   "metadata": {},
   "outputs": [
    {
     "data": {
      "text/plain": [
       "'\"Love my Echo. Still learning all the things it will do. Wasn’t able to follow instructions included in the package, but found a great one on U-Tube.\"'"
      ]
     },
     "execution_count": 19,
     "metadata": {},
     "output_type": "execute_result"
    }
   ],
   "source": [
    "data[data['length'] == 150]['verified_reviews'].iloc[0]\n"
   ]
  },
  {
   "cell_type": "code",
   "execution_count": 20,
   "metadata": {},
   "outputs": [],
   "source": [
    "## variations vs reatings (bivariate plot)"
   ]
  },
  {
   "cell_type": "code",
   "execution_count": 21,
   "metadata": {},
   "outputs": [
    {
     "data": {
      "text/plain": [
       "(array([ 0,  1,  2,  3,  4,  5,  6,  7,  8,  9, 10, 11, 12, 13, 14, 15]),\n",
       " <a list of 16 Text xticklabel objects>)"
      ]
     },
     "execution_count": 21,
     "metadata": {},
     "output_type": "execute_result"
    },
    {
     "data": {
      "image/png": "[encoded data removed]",
      "text/plain": [
       "<Figure size 1080x648 with 1 Axes>"
      ]
     },
     "metadata": {},
     "output_type": "display_data"
    }
   ],
   "source": [
    "plt.rcParams['figure.figsize'] = (15,9)\n",
    "plt.style.use('dark_background')\n",
    "sns.boxenplot(data['variation'], data['rating'], palette='spring')\n",
    "plt.title('Variation vs Rating')\n",
    "plt.xticks(rotation=90)\n"
   ]
  },
  {
   "cell_type": "code",
   "execution_count": 22,
   "metadata": {},
   "outputs": [
    {
     "data": {
      "text/plain": [
       "['bmh',\n",
       " 'classic',\n",
       " 'dark_background',\n",
       " 'fast',\n",
       " 'fivethirtyeight',\n",
       " 'ggplot',\n",
       " 'grayscale',\n",
       " 'seaborn-bright',\n",
       " 'seaborn-colorblind',\n",
       " 'seaborn-dark-palette',\n",
       " 'seaborn-dark',\n",
       " 'seaborn-darkgrid',\n",
       " 'seaborn-deep',\n",
       " 'seaborn-muted',\n",
       " 'seaborn-notebook',\n",
       " 'seaborn-paper',\n",
       " 'seaborn-pastel',\n",
       " 'seaborn-poster',\n",
       " 'seaborn-talk',\n",
       " 'seaborn-ticks',\n",
       " 'seaborn-white',\n",
       " 'seaborn-whitegrid',\n",
       " 'seaborn',\n",
       " 'Solarize_Light2',\n",
       " 'tableau-colorblind10',\n",
       " '_classic_test']"
      ]
     },
     "execution_count": 22,
     "metadata": {},
     "output_type": "execute_result"
    }
   ],
   "source": [
    "plt.style.available"
   ]
  },
  {
   "cell_type": "code",
   "execution_count": 23,
   "metadata": {},
   "outputs": [
    {
     "data": {
      "text/plain": [
       "Text(0.5, 1.0, 'feedback wise Mean Ratings')"
      ]
     },
     "execution_count": 23,
     "metadata": {},
     "output_type": "execute_result"
    },
    {
     "data": {
      "image/png": "[encoded data removed]",
      "text/plain": [
       "<Figure size 864x504 with 1 Axes>"
      ]
     },
     "metadata": {},
     "output_type": "display_data"
    }
   ],
   "source": [
    "## rating vs feedback\n",
    "import warnings\n",
    "warnings.filterwarnings('ignore')\n",
    "\n",
    "plt.rcParams['figure.figsize'] = (12, 7)\n",
    "plt.style.use('dark_background')\n",
    "\n",
    "sns.violinplot(data['feedback'], data['rating'], palette = 'cool')\n",
    "plt.title(\"feedback wise Mean Ratings\")"
   ]
  },
  {
   "cell_type": "markdown",
   "metadata": {},
   "source": [
    "The plot above shows that  the products with zero reviews, had also lower ratings"
   ]
  },
  {
   "cell_type": "code",
   "execution_count": 24,
   "metadata": {},
   "outputs": [
    {
     "data": {
      "text/plain": [
       "Text(0.5, 1.0, 'Length vs Ratings')"
      ]
     },
     "execution_count": 24,
     "metadata": {},
     "output_type": "execute_result"
    },
    {
     "data": {
      "image/png": "[encoded data removed]",
      "text/plain": [
       "<Figure size 864x504 with 1 Axes>"
      ]
     },
     "metadata": {},
     "output_type": "display_data"
    }
   ],
   "source": [
    "## rates vs length\n",
    "plt.rcParams['figure.figsize'] = (12, 7)\n",
    "plt.style.use('dark_background')\n",
    "\n",
    "sns.boxplot(data['rating'], data['length'], palette = 'Blues')\n",
    "plt.title(\"Length vs Ratings\")"
   ]
  },
  {
   "cell_type": "code",
   "execution_count": 25,
   "metadata": {},
   "outputs": [],
   "source": [
    "from sklearn.feature_extraction.text import CountVectorizer"
   ]
  },
  {
   "cell_type": "code",
   "execution_count": 26,
   "metadata": {},
   "outputs": [],
   "source": [
    "cv = CountVectorizer(stop_words='english')\n",
    "words = cv.fit_transform(data.verified_reviews)\n",
    "sum_words = words.sum(axis=0)\n",
    "word_freq = [(word, sum_words[0,idx]) for word, idx in cv.vocabulary_.items()]\n",
    "word_freq = sorted(word_freq, key= lambda x: x[1], reverse=True)\n",
    "frequency = pd.DataFrame(word_freq, columns=['word','freq'])"
   ]
  },
  {
   "cell_type": "code",
   "execution_count": 27,
   "metadata": {},
   "outputs": [
    {
     "data": {
      "text/plain": [
       "Text(0.5, 1.0, 'Most Frequently Occuring Words - Top 20')"
      ]
     },
     "execution_count": 27,
     "metadata": {},
     "output_type": "execute_result"
    },
    {
     "data": {
      "image/png": "[encoded data removed]",
      "text/plain": [
       "<Figure size 1080x432 with 1 Axes>"
      ]
     },
     "metadata": {},
     "output_type": "display_data"
    }
   ],
   "source": [
    "plt.style.use('dark_background')\n",
    "color = plt.cm.ocean(np.linspace(0, 1, 20))\n",
    "frequency.head(20).plot(x='word', y='freq', kind='bar', figsize=(15, 6), color = color)\n",
    "plt.title(\"Most Frequently Occuring Words - Top 20\")\n",
    "# plt.xticks(fontsize=0.01)"
   ]
  },
  {
   "cell_type": "code",
   "execution_count": 28,
   "metadata": {},
   "outputs": [
    {
     "data": {
      "text/plain": [
       "matrix([[4, 1, 1, ..., 1, 1, 1]], dtype=int64)"
      ]
     },
     "execution_count": 28,
     "metadata": {},
     "output_type": "execute_result"
    }
   ],
   "source": [
    "words.sum(axis=0)"
   ]
  },
  {
   "cell_type": "code",
   "execution_count": 29,
   "metadata": {},
   "outputs": [
    {
     "data": {
      "text/plain": [
       "dict_items([('love', 2029), ('echo', 1095), ('loved', 2030), ('playing', 2471), ('game', 1413), ('answer', 236), ('question', 2623), ('correctly', 796), ('alexa', 190), ('says', 2885), ('got', 1473), ('wrong', 3752), ('answers', 239), ('like', 1955), ('able', 79), ('turn', 3497), ('lights', 1954), ('away', 337), ('home', 1616), ('lot', 2023), ('fun', 1395), ('thing', 3386), ('yr', 3775), ('old', 2289), ('learns', 1927), ('dinosaurs', 980), ('control', 770), ('play', 2468), ('games', 1414), ('categories', 564), ('nice', 2230), ('sound', 3115), ('music', 2183), ('received', 2681), ('gift', 1444), ('needed', 2210), ('bluetooth', 436), ('easily', 1091), ('accessible', 89), ('smart', 3061), ('speaker', 3136), ('wait', 3643), ('having', 1558), ('cellphone', 575), ('use', 3576), ('features', 1300), ('ipad', 1804), ('great', 1495), ('alarm', 183), ('deaf', 881), ('hear', 1571), ('bedroom', 385), ('living', 1983), ('room', 2842), ('reason', 2670), ('ask', 288), ('random', 2642), ('questions', 2625), ('response', 2807), ('does', 1037), ('smartbon', 3062), ('politics', 2492), ('think', 3388), ('5th', 51), ('ve', 3598), ('purchased', 2605), ('working', 3736), ('getting', 1441), ('house', 1639), ('really', 2669), ('offer', 2280), ('specifily', 3144), ('echos', 1098), ('controlling', 775), ('looks', 2013), ('listened', 1972), ('songs', 3100), ('haven', 1556), ('heard', 1572), ('childhood', 613), ('news', 2225), ('weather', 3680), ('information', 1725), ('sent', 2946), ('85', 63), ('year', 3761), ('dad', 863), ('talks', 3326), ('constantly', 754), ('learning', 1926), ('knew', 1872), ('things', 3387), ('eveyday', 1198), ('figuring', 1319), ('works', 3739), ('far', 1284), ('easy', 1093), ('understand', 3526), ('make', 2062), ('laugh', 1912), ('times', 3415), ('mother', 2170), ('knee', 1871), ('problems', 2556), ('trying', 3491), ('come', 674), ('fast', 1288), ('did', 956), ('enjoys', 1156), ('little', 1979), ('big', 411), ('song', 3099), ('time', 3412), ('cook', 783), ('just', 1850), ('expected', 1230), ('wife', 3707), ('hates', 1554), ('happy', 1542), ('purchase', 2604), ('set', 2958), ('using', 3583), ('couple', 810), ('days', 878), ('new', 2222), ('toy', 3454), ('household', 1640), ('member', 2104), ('learn', 1923), ('different', 964), ('featues', 1297), ('benefits', 400), ('size', 3037), ('2nd', 29), ('generation', 1435), ('needs', 2212), ('improvement', 1689), ('liked', 1956), ('original', 2328), ('shorter', 2990), ('greater', 1496), ('fabric', 1257), ('color', 667), ('choices', 617), ('miss', 2146), ('volume', 3640), ('ring', 2834), ('plus', 2484), ('minus', 2140), ('buttons', 512), ('deal', 882), ('comforting', 679), ('standard', 3188), ('usb', 3574), ('charger', 598), ('port', 2498), ('instead', 1749), ('previous', 2538), ('round', 2850), ('pin', 2452), ('guess', 1514), ('sounds', 3120), ('work', 3732), ('computer', 719), ('good', 1467), ('understands', 3528), ('commands', 683), ('difficult', 966), ('specific', 3142), ('playlists', 2473), ('spotify', 3169), ('amazon', 220), ('lacking', 1890), ('major', 2061), ('programs', 2569), ('radio', 2636), ('itunes', 1824), ('podcasts', 2488), ('anypod', 247), ('reminders', 2756), ('listen', 1971), ('flash', 1343), ('briefing', 474), ('morning', 2169), ('rely', 2747), ('custom', 848), ('lists', 1975), ('voice', 3634), ('sure', 3292), ('ll', 1985), ('continue', 766), ('uses', 3582), ('bit', 419), ('frustrating', 1390), ('doesn', 1038), ('saying', 2884), ('adding', 130), ('devices', 949), ('stationed', 3205), ('kitchen', 1870), ('counter', 804), ('intrusive', 1789), ('look', 2010), ('plays', 2474), ('sleep', 3045), ('immediately', 1678), ('second', 2921), ('unit', 3538), ('expecting', 1231), ('improved', 1688), ('didnt', 958), ('difference', 962), ('overall', 2342), ('1st', 19), ('amazing', 218), ('product', 2560), ('operate', 2306), ('loads', 1992), ('advertised', 155), ('mainly', 2055), ('favorite', 1295), ('tunes', 3496), ('test', 3367), ('knowledge', 1879), ('item', 1822), ('used', 3577), ('hard', 1543), ('answering', 238), ('better', 404), ('capabilities', 541), ('pretty', 2534), ('command', 681), ('unique', 3537), ('owners', 2354), ('users', 3581), ('tasha', 3334), ('birthday', 418), ('definition', 906), ('fine', 1327), ('speakers', 3137), ('small', 3059), ('setup', 2965), ('bought', 461), ('rate', 2650), ('followed', 1360), ('instructions', 1751), ('synching', 3311), ('units', 3539), ('know', 1876), ('won', 3721), ('sync', 3309), ('primary', 2546), ('motivation', 2171), ('purchasing', 2608), ('multiple', 2182), ('device', 947), ('awesome', 338), ('compare', 701), ('quality', 2618), ('ship', 2979), ('daughter', 876), ('fact', 1263), ('chargeable', 597), ('base', 365), ('keeps', 1856), ('mobile', 2153), ('wasn', 3664), ('follow', 1359), ('included', 1698), ('package', 2357), ('tube', 3492), ('way', 3674), ('cool', 785), ('want', 3656), ('digital', 969), ('assistant', 299), ('giving', 1450), ('review', 2824), ('cheap', 606), ('price', 2540), ('prime', 2547), ('day', 877), ('clock', 645), ('going', 1463), ('place', 2456), ('ended', 1141), ('definitely', 905), ('try', 3490), ('best', 401), ('number', 2265), ('connect', 740), ('came', 530), ('plug', 2480), ('10', 3), ('lamp', 1898), ('husband', 1655), ('likes', 1958), ('wish', 3716), ('android', 232), ('allow', 199), ('fortunately', 1376), ('sister', 3031), ('apple', 257), ('cell', 574), ('hour', 1637), ('tech', 3341), ('support', 3286), ('fixed', 1338), ('glitches', 1456), ('running', 2860), ('tried', 3478), ('certain', 578), ('broadway', 482), ('shows', 2999), ('camelot', 531), ('gives', 1449), ('ne', 2204), ('group', 1506), ('satisfied', 2875), ('controls', 776), ('family', 1279), ('jimmy', 1836), ('buffet', 492), ('asking', 291), ('siri', 3028), ('accurately', 104), ('don', 1046), ('real', 2664), ('need', 2209), ('bargain', 360), ('deals', 883), ('tons', 3437), ('list', 1970), ('account', 100), ('pay', 2396), ('stars', 3194), ('excelente', 1209), ('lo', 1989), ('unico', 3534), ('es', 1175), ('que', 2620), ('esta', 1183), ('en', 1135), ('español', 1179), ('actually', 120), ('expect', 1227), ('considering', 749), ('70', 56), ('00', 0), ('sale', 2868), ('phenomenal', 2428), ('mention', 2108), ('helpful', 1586), ('google', 1471), ('lets', 1940), ('friends', 1388), ('company', 699), ('83', 62), ('say', 2883), ('tells', 3357), ('joke', 1840), ('available', 333), ('overview', 2348), ('built', 498), ('hub', 1644), ('primarily', 2545), ('wonderfully', 3724), ('tips', 3424), ('thanks', 3376), ('help', 1583), ('clear', 639), ('concise', 726), ('fantastic', 1283), ('alexia', 193), ('usde', 3575), ('extent', 1249), ('na', 2188), ('nana', 2191), ('said', 2867), ('34', 34), ('speak', 3135), ('function', 1399), ('collections', 663), ('setting', 2960), ('fios', 1331), ('television', 3354), ('hoping', 1628), ('discovered', 1008), ('stations', 3206), ('long', 2007), ('ranger', 2645), ('apps', 268), ('add', 125), ('abilities', 77), ('played', 2469), ('madlibs', 2051), ('appliances', 259), ('compatible', 703), ('power', 2513), ('strips', 3238), ('lighting', 1952), ('fans', 1282), ('tv', 3501), ('components', 717), ('looking', 2012), ('forward', 1378), ('implementing', 1682), ('controll', 771), ('chosen', 623), ('rooms', 2844), ('located', 1995), ('excellent', 1210), ('perfectly', 2408), ('nervous', 2217), ('savvy', 2880), ('intimidating', 1785), ('didn', 957), ('figure', 1317), ('thinking', 3389), ('spot', 3168), ('technology', 3348), ('believe', 395), ('wonderful', 3723), ('dot', 1052), ('fathers', 1292), ('hearing', 1573), ('brainer', 464), ('charge', 596), ('cent', 576), ('unlimited', 3543), ('buy', 513), ('fuller', 1392), ('phone', 2435), ('calls', 525), ('contact', 758), ('patient', 2391), ('discount', 1004), ('offered', 2281), ('pass', 2386), ('comes', 676), ('playlist', 2472), ('iphone', 1807), ('pandora', 2370), ('youtube', 3774), ('videos', 3617), ('types', 3511), ('countries', 807), ('downside', 1060), ('limited', 1963), ('data', 872), ('wifi', 3708), ('plan', 2462), ('burns', 507), ('strictly', 3236), ('material', 2088), ('hooked', 1624), ('light', 1949), ('additional', 132), ('thermostat', 3383), ('traffic', 3458), ('trivia', 3482), ('entire', 1164), ('loves', 2033), ('functions', 1402), ('wow', 3749), ('homework', 1619), ('talking', 3325), ('grandchildren', 1480), ('huge', 1650), ('bonus', 444), ('worked', 3734), ('exactly', 1203), ('perfect', 2407), ('classroom', 635), ('gadget', 1409), ('lives', 1982), ('easier', 1090), ('personal', 2420), ('secretary', 2924), ('hardly', 1546), ('cd', 569), ('anymore', 246), ('dots', 1053), ('soon', 3104), ('surprising', 3297), ('impressed', 1685), ('bass', 371), ('coming', 680), ('bigger', 412), ('props', 2581), ('worse', 3743), ('feels', 1308), ('gen', 1430), ('addition', 131), ('outlet', 2333), ('disappointed', 992), ('responsive', 2809), ('terrible', 3365), ('bose', 453), ('troubling', 3486), ('paid', 2364), ('extra', 1251), ('money', 2163), ('access', 87), ('million', 2129), ('ex', 1201), ('italian', 1820), ('opera', 2305), ('tosca', 3444), ('sorry', 3113), ('bad', 348), ('plugged', 2481), ('outside', 2337), ('battery', 376), ('recharged', 2689), ('ways', 3675), ('hit', 1606), ('grandkids', 1483), ('dance', 866), ('yrs', 3776), ('cute', 855), ('generally', 1434), ('doing', 1042), ('timers', 3414), ('making', 2064), ('connection', 743), ('dies', 960), ('stops', 3223), ('red', 2711), ('issue', 1816), ('upgraded', 3563), ('couldn', 803), ('happier', 1541), ('lilttle', 1961), ('ease', 1089), ('provides', 2592), ('enhanced', 1150), ('clarity', 631), ('age', 169), ('delivery', 917), ('initially', 1730), ('harder', 1545), ('called', 523), ('knowledgeable', 1880), ('live', 1980), ('enjoy', 1151), ('style', 3250), ('greade', 1494), ('wireless', 3715), ('blasting', 424), ('busy', 509), ('picks', 2446), ('asked', 289), ('check', 609), ('remembering', 2752), ('week', 3685), ('quicker', 2627), ('grab', 1476), ('twist', 3506), ('press', 2531), ('thoroughly', 3392), ('enjoying', 1154), ('ecoo', 1101), ('read', 2659), ('audiobook', 319), ('office', 2283), ('simply', 3018), ('open', 2301), ('kindle', 1867), ('listening', 1973), ('mood', 2168), ('book', 445), ('talk', 3323), ('turning', 3499), ('job', 1837), ('streaming', 3234), ('sirius', 3029), ('process', 2558), ('started', 3196), ('keeping', 1855), ('shopping', 2986), ('grocery', 1503), ('search', 2917), ('paper', 2372), ('pencil', 2402), ('temperature', 3359), ('reports', 2783), ('fussy', 1406), ('woofers', 3728), ('tweeters', 3504), ('afternoon', 168), ('dropping', 1075), ('son', 3098), ('gets', 1440), ('surprise', 3295), ('multi', 2181), ('qvc', 2635), ('annoying', 235), ('downloaded', 1057), ('spend', 3155), ('phrase', 2441), ('machine', 2048), ('beginning', 392), ('accidentally', 94), ('spilled', 3159), ('water', 3671), ('replaced', 2775), ('decided', 888), ('minutes', 2142), ('tell', 3355), ('trouble', 3483), ('finding', 1325), ('title', 3426), ('moved', 2175), ('basement', 368), ('requests', 2788), ('somewhat', 3097), ('half', 1528), ('recognize', 2694), ('sprinkler', 3173), ('controller', 774), ('details', 941), ('program', 2565), ('change', 588), ('settings', 2961), ('matched', 2087), ('router', 2852), ('handy', 1535), ('player', 2470), ('kids', 1863), ('pleasantly', 2475), ('surprised', 3296), ('particular', 2380), ('artist', 284), ('books', 446), ('simple', 3013), ('exploring', 1243), ('options', 2317), ('met', 2116), ('exceeded', 1207), ('expectations', 1229), ('quick', 2626), ('responses', 2808), ('kind', 1865), ('request', 2786), ('informative', 1726), ('photo', 2438), ('pamphlet', 2369), ('thorough', 3391), ('line', 1964), ('video', 3616), ('app', 251), ('define', 904), ('example', 1204), ('integrated', 1753), ('words', 3731), ('exact', 1202), ('match', 2086), ('names', 2190), ('remember', 2751), ('ready', 2663), ('nature', 2195), ('respond', 2804), ('queries', 2622), ('added', 126), ('audible', 315), ('makes', 2063), ('thank', 3375), ('resist', 2799), ('connecting', 742), ('plugs', 2483), ('let', 1939), ('skills', 3041), ('routines', 2855), ('audiophile', 321), ('watching', 3670), ('movies', 2177), ('high', 1597), ('design', 933), ('modern', 2158), ('touch', 3449), ('covers', 816), ('enables', 1138), ('possibilities', 2506), ('versatile', 3604), ('killer', 1864), ('regret', 2734), ('waiting', 3645), ('pleased', 2476), ('stopped', 3222), ('weeks', 3690), ('performs', 2414), ('provide', 2589), ('terminology', 3364), ('various', 3596), ('kinds', 1868), ('subscribing', 3257), ('service', 2956), ('knowing', 1877), ('provided', 2590), ('free', 1380), ('chart', 603), ('showing', 2996), ('language', 1901), ('investment', 1798), ('helped', 1584), ('exho', 1221), ('gender', 1432), ('band', 353), ('jazz', 1831), ('local', 1993), ('stop', 3221), ('value', 3593), ('super', 3281), ('loving', 2034), ('whats', 3697), ('father', 1291), ('joked', 1841), ('mom', 2159), ('repeated', 2770), ('stories', 3226), ('breakfast', 470), ('instantly', 1748), ('slowly', 3057), ('sad', 2864), ('worthless', 3746), ('entertainment', 1163), ('beat', 379), ('portability', 2499), ('till', 3411), ('stoled', 3220), ('afford', 165), ('replace', 2774), ('rocks', 2839), ('allows', 202), ('amozon', 227), ('worth', 3745), ('briefs', 476), ('jokes', 1842), ('told', 3432), ('hours', 1638), ('later', 1910), ('life', 1946), ('large', 1904), ('returning', 2823), ('order', 2320), ('tou', 3448), ('user', 3580), ('friendly', 1387), ('wall', 3654), ('socket', 3083), ('fault', 1293), ('checking', 611), ('assumption', 303), ('technologically', 3347), ('advanced', 151), ('sell', 2935), ('rechargeable', 2688), ('return', 2820), ('boom', 447), ('flexibility', 1351), ('aux', 328), ('external', 1250), ('wouldn', 3748), ('isn', 1813), ('override', 2346), ('default', 898), ('prevents', 2536), ('blue', 434), ('tooth', 3442), ('delay', 912), ('bt', 486), ('interaction', 1765), ('schedule', 2889), ('connected', 741), ('supberb', 3280), ('lots', 2024), ('updates', 3560), ('sports', 3167), ('intuitive', 1790), ('link', 1966), ('hang', 1536), ('complaints', 710), ('suggestions', 3275), ('future', 1407), ('series', 2951), ('communication', 692), ('ability', 78), ('unless', 3541), ('specify', 3145), ('prior', 2550), ('repeat', 2769), ('odd', 2278), ('maybe', 2091), ('southern', 3124), ('manners', 2074), ('described', 931), ('automatic', 325), ('enrolment', 1157), ('owned', 2352), ('overa', 2341), ('lacks', 1891), ('increase', 1706), ('decrease', 894), ('telling', 3356), ('english', 1149), ('born', 452), ('korea', 1885), ('superb', 3282), ('info', 1723), ('hot', 1635), ('recognizes', 2695), ('discovering', 1010), ('paroduct', 2378), ('range', 2644), ('complicated', 714), ('quite', 2631), ('speaking', 3138), ('clearly', 641), ('feature', 1298), ('interfacing', 1773), ('abode', 80), ('security', 2926), ('absolutely', 81), ('dislike', 1013), ('installation', 1742), ('kasa', 1852), ('sinqued', 3027), ('right', 2833), ('bulb', 499), ('seamless', 2914), ('automation', 327), ('anticipated', 243), ('fairly', 1272), ('manufacturers', 2078), ('lg', 1943), ('supporting', 3288), ('older', 2290), ('tvs', 3502), ('locks', 2000), ('piece', 2451), ('equipment', 1171), ('fabulous', 1258), ('invested', 1796), ('extremely', 1253), ('warehouse', 3659), ('minor', 2136), ('imperfection', 1681), ('packaging', 2360), ('sealed', 2913), ('damage', 865), ('missing', 2148), ('knock', 1874), ('curve', 847), ('integrates', 1754), ('seamlessly', 2915), ('services', 2957), ('sleeping', 3047), ('changer', 590), ('seriously', 2952), ('start', 3195), ('wake', 3647), ('gotten', 1474), ('hesitate', 1591), ('unbelievable', 3523), ('buying', 516), ('cordless', 791), ('holder', 1611), ('lapsed', 1902), ('differentiate', 965), ('accounts', 101), ('randomly', 2643), ('speaks', 3139), ('today', 3429), ('unplugged', 3549), ('100', 4), ('electronics', 1125), ('comment', 684), ('pod', 2486), ('car', 546), ('penny', 2403), ('employees', 1134), ('flat', 1345), ('bedrooms', 386), ('drop', 1073), ('intercom', 1768), ('alarms', 184), ('school', 2893), ('timer', 3413), ('condition', 727), ('responds', 2806), ('quickly', 2628), ('issues', 1817), ('scheduling', 2892), ('thoughts', 3395), ('recorded', 2706), ('amazed', 216), ('actions', 111), ('perform', 2410), ('smaller', 3060), ('funny', 1403), ('winds', 3713), ('totally', 3447), ('useful', 3578), ('slightly', 3054), ('hears', 1574), ('unfortunately', 3531), ('frequently', 1383), ('usually', 3585), ('consider', 748), ('upgrade', 3562), ('experience', 1233), ('personality', 2421), ('mini', 2133), ('yes', 3767), ('excited', 1218), ('begin', 390), ('grandsons', 1489), ('watch', 3668), ('goo', 1466), ('enjoyed', 1153), ('result', 2816), ('straightforward', 3231), ('messed', 2115), ('thought', 3394), ('step', 3213), ('complete', 711), ('lose', 2018), ('ground', 1505), ('figured', 1318), ('advice', 158), ('biggest', 413), ('moment', 2160), ('intercoms', 1769), ('aware', 336), ('existence', 1222), ('likely', 1957), ('designers', 935), ('anticipate', 242), ('people', 2404), ('challenge', 584), ('tap', 3329), ('improvements', 1690), ('bugs', 495), ('adjust', 141), ('treble', 3471), ('probably', 2554), ('fan', 1280), ('deep', 896), ('sufficient', 3270), ('potential', 2511), ('option', 2315), ('explore', 1241), ('evolve', 1199), ('recognition', 2693), ('impressive', 1686), ('stylish', 3251), ('regrets', 2735), ('technically', 3344), ('changes', 591), ('movie', 2176), ('elderly', 1119), ('premium', 2526), ('blown', 432), ('dj', 1032), ('conversations', 780), ('embarrassed', 1131), ('packages', 2359), ('addict', 127), ('arrived', 281), ('ago', 172), ('forget', 1370), ('ordering', 2322), ('pool', 2493), ('worry', 3742), ('hiring', 1604), ('electrician', 1121), ('outlets', 2334), ('yard', 3758), ('terrific', 3366), ('nicer', 2232), ('late', 1908), ('adopters', 146), ('decide', 887), ('serve', 2954), ('source', 3122), ('changing', 592), ('directv', 986), ('channels', 594), ('iheartradio', 1667), ('adjusts', 144), ('ac', 83), ('turns', 3500), ('wanting', 3658), ('glad', 1452), ('stuff', 3246), ('non', 2245), ('personally', 2424), ('cooking', 784), ('simultaneously', 3019), ('integration', 1756), ('daily', 864), ('subject', 3254), ('hesitant', 1590), ('feel', 1306), ('superior', 3283), ('greatest', 1497), ('showman', 2997), ('pain', 2365), ('crappy', 823), ('internet', 1780), ('inside', 1738), ('bummed', 503), ('efficient', 1113), ('comparable', 700), ('gave', 1423), ('concerned', 723), ('enjoyment', 1155), ('pleasure', 2478), ('timing', 3416), ('enter', 1158), ('password', 2387), ('apartment', 250), ('given', 1448), ('bathroom', 372), ('4am', 43), ('metro', 2117), ('booming', 449), ('replacement', 2776), ('night', 2235), ('stand', 3186), ('barely', 359), ('1100sf', 7), ('sitting', 3035), ('functionality', 1401), ('discover', 1007), ('pure', 2609), ('especially', 1180), ('communicate', 689), ('turned', 3498), ('calling', 524), ('dancing', 867), ('lol', 2004), ('wedding', 3684), ('update', 3558), ('genre', 1437), ('wi', 3704), ('fi', 1314), ('entertaining', 1162), ('products', 2562), ('helps', 1588), ('prepare', 2527), ('weak', 3676), ('stream', 3233), ('months', 2167), ('kinda', 1866), ('useless', 3579), ('hoped', 1626), ('download', 1056), ('pc', 2399), ('installing', 1744), ('invasive', 1793), ('drivers', 1070), ('retired', 2819), ('install', 1741), ('supplying', 3285), ('inconvenient', 1704), ('compact', 697), ('upstairs', 3569), ('lve', 2043), ('tekkie', 3352), ('prize', 2552), ('course', 811), ('longer', 2008), ('unresponsive', 3550), ('reset', 2797), ('grandaughter', 1479), ('2000', 22), ('miles', 2128), ('ones', 2295), ('duty', 1083), ('boost', 450), ('definitively', 907), ('star', 3192), ('ahead', 175), ('audio', 317), ('auxiliary', 329), ('input', 1734), ('dedicated', 895), ('proved', 2587), ('brand', 465), ('main', 2054), ('refurbished', 2725), ('relaxing', 2741), ('recommend', 2697), ('loud', 2025), ('select', 2930), ('3rd', 37), ('party', 2385), ('box', 462), ('sending', 2940), ('asap', 286), ('waste', 3666), ('man', 2069), ('pictures', 2450), ('cord', 790), ('prefer', 2523), ('purpose', 2611), ('cheaper', 607), ('act', 108), ('encyclopedias', 1139), ('nest', 2218), ('phillips', 2433), ('hue', 1648), ('leaving', 1931), ('chair', 582), ('aren', 271), ('dislikes', 1014), ('amazons', 222), ('promised', 2573), ('returned', 2821), ('refund', 2721), ('refunds', 2722), ('weird', 3692), ('pauses', 2395), ('speech', 3149), ('pattern', 2393), ('present', 2529), ('shower', 2994), ('spoken', 3165), ('promp', 2576), ('word', 3730), ('shipping', 2982), ('poop', 2494), ('month', 2165), ('poor', 2495), ('arent', 272), ('naw', 2199), ('techie', 3342), ('friend', 1386), ('looked', 2011), ('adapter', 123), ('strong', 3239), ('dollar', 1043), ('store', 3225), ('hope', 1625), ('trek', 3472), ('outsmart', 2338), ('include', 1697), ('spelling', 3154), ('background', 345), ('wanted', 3657), ('responding', 2805), ('foot', 1362), ('yelling', 3764), ('performing', 2413), ('dont', 1047), ('trust', 3489), ('beautiful', 380), ('accessories', 91), ('6th', 55), ('divertido', 1031), ('guest', 1515), ('center', 577), ('save', 2877), ('bucks', 487), ('prompt', 2577), ('flawlessly', 1348), ('complain', 706), ('spell', 3153), ('80s', 60), ('iove', 1803), ('tinny', 3421), ('attach', 307), ('fm', 1357), ('reception', 2687), ('software', 3087), ('horrible', 1630), ('native', 2193), ('americans', 225), ('north', 2250), ('texas', 3370), ('accent', 84), ('birth', 417), ('area', 269), ('understanding', 3527), ('additionally', 133), ('marginal', 2079), ('extender', 1246), ('feet', 1310), ('switched', 3306), ('disconnected', 1000), ('dust', 1082), ('collectors', 664), ('broken', 484), ('spent', 3157), ('fixes', 1339), ('accomplished', 97), ('went', 3695), ('rubber', 2858), ('unplug', 3548), ('laundry', 1915), ('granddaughter', 1481), ('moving', 2178), ('outdoors', 2332), ('certified', 580), ('receiving', 2684), ('acknowledge', 106), ('indicated', 1711), ('productsand', 2563), ('journey', 1843), ('improve', 1687), ('problem', 2555), ('surely', 3293), ('larger', 1905), ('portion', 2501), ('leary', 1928), ('puny', 2601), ('wear', 3678), ('tear', 3339), ('shuts', 3003), ('mint', 2139), ('owning', 2356), ('frustrated', 1389), ('finally', 1324), ('reach', 2655), ('remote', 2760), ('parts', 2384), ('teenagers', 3350), ('insist', 1739), ('dinner', 979), ('convenient', 778), ('refurb', 2723), ('saved', 2878), ('worried', 3741), ('nights', 2237), ('planning', 2464), ('parents', 2376), ('everyday', 1196), ('granted', 1491), ('young', 3771), ('simplicity', 3015), ('gazebo', 1424), ('sort', 3114), ('research', 2792), ('tool', 3440), ('variety', 3595), ('louder', 2026), ('internal', 1778), ('universal', 3540), ('charging', 599), ('outstanding', 2339), ('saving', 2879), ('means', 2095), ('run', 2859), ('diagnostics', 953), ('corrected', 795), ('roomba', 2843), ('goes', 1462), ('mean', 2093), ('crashed', 824), ('disconnect', 999), ('orange', 2318), ('freeze', 1381), ('reboot', 2674), ('mid', 2125), ('sentence', 2947), ('holding', 1612), ('action', 110), ('button', 511), ('seconds', 2922), ('fix', 1337), ('buyer', 514), ('purchases', 2607), ('ordered', 2321), ('honestly', 1621), ('performance', 2411), ('learned', 1924), ('portable', 2500), ('highly', 1600), ('recommended', 2698), ('rep', 2766), ('walked', 3651), ('solved', 3094), ('shocked', 2983), ('effort', 1114), ('including', 1700), ('email', 1130), ('clone', 649), ('boat', 439), ('garage', 1418), ('gf', 1442), ('intermittently', 1777), ('channel', 593), ('okay', 2288), ('confusing', 738), ('green', 1499), ('case', 559), ('took', 3439), ('notification', 2256), ('supposed', 3291), ('yellow', 3765), ('pulsate', 2598), ('message', 2112), ('pulsed', 2599), ('buddies', 488), ('breeze', 471), ('close', 650), ('psychological', 2594), ('haha', 1523), ('defective', 900), ('taken', 3319), ('excellently', 1211), ('amazingly', 219), ('helping', 1587), ('appointments', 262), ('whe', 3699), ('showering', 2995), ('reconditioned', 2700), ('pare', 2375), ('weary', 3679), ('picking', 2445), ('actively', 117), ('happening', 1539), ('concerning', 724), ('release', 2743), ('widespread', 3706), ('push', 2613), ('firmware', 1334), ('prevent', 2535), ('cortna', 798), ('application', 260), ('alive', 197), ('thumbs', 3402), ('workreat', 3738), ('spoke', 3164), ('registered', 2733), ('39', 36), ('99', 70), ('spanking', 3132), ('grandson', 1488), ('taking', 3321), ('laying', 1918), ('bed', 384), ('moana', 2152), ('completely', 713), ('scared', 2886), ('sh', 2969), ('essentially', 1182), ('opening', 2303), ('20', 20), ('versatility', 3605), ('fee', 1301), ('cordthank', 792), ('shouldn', 2992), ('brandnew', 466), ('collection', 662), ('god', 1460), ('150', 12), ('sonos', 3101), ('worst', 3744), ('online', 2297), ('microphone', 2122), ('pick', 2443), ('appear', 255), ('disappoint', 991), ('receiver', 2682), ('output', 2335), ('vintage', 3622), ('stereo', 3215), ('edit', 1105), ('longevity', 2009), ('compliments', 716), ('bough', 460), ('echoes', 1096), ('bathrooms', 373), ('detect', 942), ('disconnects', 1003), ('12', 8), ('significant', 3009), ('shelled', 2975), ('awhile', 340), ('electronically', 1124), ('savy', 2881), ('sink', 3026), ('ran', 2641), ('refurbishedthought', 2726), ('guys', 1519), ('meditation', 2101), ('eye', 1255), ('drops', 1076), ('eyes', 1256), ('closed', 651), ('minute', 2141), ('backyard', 347), ('deck', 891), ('substitute', 3262), ('highest', 1599), ('level', 1941), ('netflix', 2220), ('stick', 3216), ('warranty', 3662), ('assumed', 301), ('sold', 3088), ('higher', 1598), ('standards', 3189), ('guaranteeing', 1512), ('junk', 1849), ('15', 11), ('whatsoever', 3698), ('uncle', 3524), ('haywire', 1559), ('quit', 2630), ('soft', 3085), ('advised', 160), ('29', 28), ('writing', 3751), ('raised', 2639), ('customer', 849), ('dunno', 1081), ('lately', 1909), ('guy', 1518), ('rambled', 2640), ('unhelpful', 3533), ('script', 2908), ('middle', 2126), ('spiel', 3158), ('norm', 2248), ('finicky', 1329), ('5ghz', 50), ('reconnecting', 2704), ('mic', 2121), ('sensitivity', 2945), ('limitations', 1962), ('hey', 1593), ('responsiveness', 2810), ('hold', 1610), ('true', 3487), ('albeit', 185), ('arlo', 277), ('nil', 2239), ('special', 3140), ('led', 1932), ('rainbow', 2638), ('effects', 1111), ('handle', 1531), ('knows', 1882), ('solid', 3090), ('colors', 668), ('brightness', 478), ('levels', 1942), ('rating', 2651), ('lower', 2036), ('decent', 886), ('connectivity', 744), ('persist', 2418), ('exchange', 1215), ('growing', 1508), ('theirs', 3380), ('treadmill', 3469), ('tower', 3452), ('3xs', 39), ('model', 2156), ('activated', 113), ('yell', 3763), ('lauded', 1911), ('convenience', 777), ('screaming', 2902), ('chance', 587), ('excuses', 1220), ('disappointments', 995), ('effortless', 1115), ('flawless', 1347), ('walk', 3650), ('door', 1048), ('80', 59), ('viola', 3623), ('instant', 1746), ('atmosphere', 305), ('accessing', 90), ('joy', 1844), ('sooo', 3106), ('ocean', 2277), ('groups', 1507), ('excitement', 1219), ('alexas', 191), ('obvious', 2273), ('mode', 2155), ('unnecessary', 3546), ('preciously', 2521), ('guard', 1513), ('dog', 1040), ('sense', 2943), ('leaves', 1930), ('blinks', 428), ('tricks', 3476), ('functionalities', 1400), ('human', 1652), ('interface', 1772), ('shout', 2993), ('chores', 621), ('dogs', 1041), ('golden', 1464), ('expensive', 1232), ('tapped', 3332), ('capable', 543), ('absolutly', 82), ('existing', 1224), ('apprehensive', 264), ('electronic', 1123), ('guarantee', 1511), ('form', 1374), ('sits', 3034), ('desk', 937), ('footprint', 1364), ('verbally', 3602), ('occasionally', 2276), ('alert', 187), ('tardis', 3333), ('land', 1900), ('geeks', 1429), ('chose', 622), ('majel', 2059), ('barret', 363), ('geek', 1428), ('heaven', 1576), ('properly', 2580), ('attached', 308), ('nsa', 2262), ('packaged', 2358), ('zero', 3778), ('entertained', 1161), ('honest', 1620), ('opinion', 2310), ('reads', 2662), ('refurbish', 2724), ('neat', 2207), ('drives', 1071), ('nuts', 2269), ('garbage', 1419), ('total', 3445), ('dissatisfaction', 1022), ('lived', 1981), ('low', 2035), ('interesting', 1771), ('wikipedia', 3709), ('department', 924), ('forgotten', 1372), ('mainstream', 2056), ('amusing', 230), ('yards', 3759), ('cotton', 801), ('refer', 2715), ('football', 1363), ('sorely', 3111), ('reasonable', 2671), ('hal', 1527), ('brought', 485), ('seldom', 2929), ('tired', 3425), ('troubleshooting', 3484), ('reconnected', 2703), ('monthly', 2166), ('workout', 3737), ('reaching', 2657), ('row', 2856), ('accurate', 103), ('imagined', 1676), ('im', 1671), ('thats', 3377), ('complaint', 709), ('conspiracy', 752), ('theories', 3382), ('eavesdropping', 1094), ('efforts', 1116), ('government', 1475), ('current', 844), ('degrees', 910), ('91', 68), ('81', 61), ('requesting', 2787), ('recording', 2707), ('weren', 3696), ('labeled', 1888), ('known', 1881), ('report', 2781), ('ai', 176), ('educational', 1107), ('eh', 1117), ('refurbishing', 2727), ('type', 3509), ('wont', 3726), ('irritating', 1809), ('ita', 1819), ('inexperience', 1720), ('intended', 1761), ('perfecto', 2409), ('white', 3702), ('black', 421), ('shown', 2998), ('realize', 2666), ('died', 959), ('boss', 454), ('performed', 2412), ('owlhead', 2351), ('jacuzzi', 1827), ('attention', 313), ('gaming', 1416), ('nrw', 2261), ('defently', 902), ('ok', 2287), ('stupid', 3248), ('couch', 802), ('shortly', 2991), ('niece', 2233), ('upsetting', 3568), ('crackling', 821), ('noise', 2244), ('introduction', 1788), ('grand', 1478), ('gone', 1465), ('version', 3608), ('plans', 2465), ('date', 873), ('despite', 939), ('trained', 3461), ('wonder', 3722), ('realized', 2667), ('faulty', 1294), ('send', 2939), ('according', 98), ('toilet', 3431), ('truly', 3488), ('contacted', 759), ('credited', 831), ('shop', 2985), ('deliver', 914), ('suggest', 3272), ('hosting', 1634), ('lm', 1988), ('fanatic', 1281), ('extend', 1244), ('offers', 2282), ('outdoor', 2331), ('possible', 2507), ('disturbing', 1027), ('indoor', 1716), ('weekend', 3688), ('reminder', 2755), ('bible', 410), ('verses', 3607), ('commute', 694), ('dodging', 1036), ('linked', 1967), ('refurbs', 2728), ('wakes', 3648), ('unused', 3554), ('states', 3202), ('synced', 3310), ('cam', 528), ('baby', 344), ('crib', 833), ('lyrics', 2046), ('ish', 1811), ('understood', 3529), ('worthy', 3747), ('successor', 3266), ('benefit', 399), ('screen', 2903), ('nightstand', 2238), ('faces', 1261), ('choose', 618), ('displays', 1020), ('facetime', 1262), ('shape', 2971), ('bedside', 387), ('theecho', 3379), ('mybedroom', 2186), ('answered', 237), ('wasconcerned', 3663), ('discoveredthat', 1009), ('avoid', 334), ('confusion', 739), ('named', 2189), ('male', 2066), ('tomy', 3434), ('camera', 532), ('doorbell', 1049), ('thestand', 3384), ('advantages', 153), ('reviews', 2826), ('heck', 1578), ('convinced', 782), ('kept', 1857), ('drag', 1063), ('dining', 978), ('bring', 479), ('customization', 852), ('disagree', 990), ('chat', 604), ('freezes', 1382), ('error', 1173), ('lack', 1889), ('resetting', 2798), ('resolves', 2803), ('important', 1683), ('creepy', 832), ('specifying', 3146), ('disconcerting', 998), ('negative', 2213), ('groggy', 1504), ('snooze', 3076), ('slow', 3056), ('compared', 702), ('designed', 934), ('face', 1259), ('factor', 1264), ('seeing', 2927), ('square', 3177), ('rectangular', 2709), ('gizmo', 1451), ('purposes', 2612), ('individual', 1714), ('individually', 1715), ('shut', 3002), ('falling', 1275), ('asleep', 292), ('switch', 3305), ('accomplish', 96), ('repeating', 2771), ('altering', 210), ('hopefully', 1627), ('reminds', 2758), ('phones', 2436), ('computers', 720), ('ipads', 1805), ('fussing', 1405), ('park', 2377), ('runs', 2861), ('awsome', 342), ('ceases', 570), ('amaze', 215), ('bang', 356), ('softly', 3086), ('rain', 2637), ('scratched', 2900), ('surface', 3294), ('devise', 950), ('skeptical', 3039), ('grows', 1510), ('disappointing', 993), ('rid', 2829), ('glorified', 1458), ('cost', 799), ('effective', 1110), ('scrolling', 2910), ('saw', 2882), ('entering', 1159), ('world', 3740), ('programmed', 2567), ('previously', 2539), ('_specifically_', 71), ('cloud', 654), ('display', 1017), ('ant', 240), ('trailer', 3459), ('laptop', 1903), ('desktop', 938), ('appliance', 258), ('interrupt', 1783), ('photos', 2440), ('paired', 2367), ('lamps', 1899), ('capability', 542), ('tad', 3317), ('recipient', 2692), ('challenged', 585), ('changed', 589), ('selling', 2936), ('point', 2489), ('cropping', 836), ('strange', 3232), ('selection', 2931), ('glaring', 1453), ('exception', 1212), ('scroll', 2909), ('defeats', 899), ('reminded', 2754), ('advertising', 157), ('dims', 977), ('based', 367), ('ambient', 223), ('years', 3762), ('glow', 1459), ('typical', 3512), ('clocks', 648), ('bother', 456), ('bothersome', 459), ('bunch', 504), ('walls', 3655), ('lover', 2032), ('resembling', 2795), ('alabama', 182), ('anyways', 249), ('table', 3314), ('website', 3682), ('pair', 2366), ('viewed', 3619), ('solves', 3095), ('efficiency', 1112), ('displaying', 1019), ('routinely', 2854), ('interested', 1770), ('furthermore', 1404), ('basic', 369), ('navigation', 2198), ('tailor', 3318), ('waking', 3649), ('dark', 869), ('cameras', 533), ('route', 2851), ('accordingly', 99), ('involved', 1800), ('returnef', 2822), ('spanish', 3131), ('hardcore', 1544), ('infact', 1721), ('members', 2105), ('toddler', 3430), ('variant', 3594), ('beauty', 382), ('placing', 2460), ('soundtouch', 3121), ('sing', 3022), ('careless', 552), ('whisper', 3700), ('ear', 1086), ('normal', 2249), ('viewing', 3620), ('combination', 671), ('plugins', 2482), ('alex', 189), ('matter', 2089), ('indispensable', 1713), ('extrimelly', 1254), ('personalization', 2422), ('aloud', 207), ('typed', 3510), ('unlocking', 3544), ('codes', 659), ('unwitty', 3555), ('developers', 945), ('positive', 2504), ('privacy', 2551), ('invasions', 1792), ('happened', 1538), ('carrier', 555), ('defence', 901), ('surprisingly', 3298), ('hands', 1534), ('interpret', 1781), ('distance', 1023), ('ridiculous', 2831), ('note', 2252), ('event', 1192), ('calendar', 521), ('task', 3335), ('difficulty', 967), ('span', 3130), ('imagine', 1675), ('boring', 451), ('college', 665), ('paying', 2398), ('waited', 3644), ('advertisement', 156), ('skype', 3043), ('aunt', 323), ('disappointment', 994), ('notice', 2253), ('searching', 2919), ('pen', 2401), ('regular', 2736), ('rest', 2812), ('id', 1659), ('adds', 137), ('xm', 3756), ('trailers', 3460), ('served', 2955), ('30pm', 33), ('protected', 2583), ('directly', 984), ('safe', 2866), ('30', 31), ('basically', 370), ('skill', 3040), ('beam', 378), ('specially', 3141), ('reactive', 2658), ('receive', 2680), ('til', 3410), ('opened', 2302), ('convert', 781), ('enabled', 1137), ('spots', 3171), ('general', 1433), ('sweet', 3301), ('dimat', 973), ('bright', 477), ('fall', 1274), ('mu', 2179), ('hcfe', 1561), ('bot', 455), ('rings', 2835), ('moms', 2161), ('ise', 1810), ('christmas', 624), ('unnannounced', 3545), ('warning', 3660), ('activities', 118), ('events', 1193), ('misunderstands', 2150), ('lit', 1976), ('end', 1140), ('listens', 1974), ('short', 2987), ('dropped', 1074), ('consistent', 750), ('bringing', 480), ('pro', 2553), ('feed', 1302), ('displayed', 1018), ('75', 57), ('grandfather', 1482), ('lesson', 1938), ('visits', 3630), ('font', 1361), ('apparently', 253), ('lags', 1896), ('possibly', 2508), ('angle', 234), ('attractive', 314), ('alternative', 211), ('clean', 636), ('lightning', 1953), ('sleeps', 3048), ('addicted', 128), ('dependable', 925), ('places', 2459), ('meh', 2103), ('inability', 1695), ('fits', 1336), ('lightening', 1951), ('storm', 3227), ('images', 1673), ('messaging', 2114), ('travel', 3465), ('ad', 121), ('law', 1916), ('currently', 845), ('related', 2739), ('flaws', 1349), ('unusable', 3553), ('card', 547), ('homescreen', 1618), ('cards', 548), ('cycle', 858), ('automatically', 326), ('incredibly', 1709), ('opt', 2312), ('continuously', 769), ('critically', 835), ('rebooted', 2675), ('su', 3252), ('funcionamiento', 1397), ('llama', 1986), ('la', 1887), ('atención', 304), ('rapidez', 2646), ('respuesta', 2811), ('el', 1118), ('se', 2912), ('logra', 2003), ('través', 3468), ('utilización', 3587), ('sorprendió', 3112), ('gratamente', 1493), ('muy', 2185), ('recomendable', 2696), ('missed', 2147), ('snoozes', 3078), ('swipe', 3303), ('prompts', 2578), ('dismiss', 1015), ('glasses', 1454), ('dismissed', 1016), ('tomorrow', 3433), ('mon', 2162), ('thu', 3400), ('fri', 1384), ('early', 1087), ('apparent', 252), ('indicator', 1712), ('fingertips', 1328), ('puts', 2615), ('crisp', 834), ('habit', 1520), ('12am', 10), ('cleaning', 638), ('ladies', 1892), ('ceiling', 571), ('gripe', 1502), ('view', 3618), ('gen2', 1431), ('simpler', 3014), ('novelty', 2259), ('acts', 119), ('sleek', 3044), ('scrolls', 2911), ('etekcity', 1188), ('voltson', 3639), ('harvard', 1548), ('degree', 909), ('updating', 3561), ('complaining', 708), ('goodness', 1470), ('lov', 2028), ('station', 3203), ('iheart', 1666), ('sucks', 3268), ('overwhelming', 2349), ('cutting', 857), ('counters', 805), ('wide', 3705), ('forth', 1375), ('felt', 1312), ('dying', 1084), ('attempted', 311), ('jaws', 1830), ('comfortable', 678), ('dressed', 1067), ('business', 508), ('owner', 2353), ('staff', 3182), ('driven', 1069), ('hired', 1603), ('organized', 2325), ('updated', 3559), ('assistance', 298), ('smoothly', 3071), ('suggested', 3273), ('versions', 3609), ('reportsalarm', 2784), ('register', 2732), ('cut', 854), ('fit', 1335), ('circle', 627), ('pop', 2496), ('stay', 3207), ('treat', 3470), ('dumb', 1078), ('bloomberg', 431), ('npr', 2260), ('gain', 1411), ('familiar', 1278), ('key', 1858), ('catch', 562), ('space', 3126), ('conditions', 729), ('iy', 1825), ('coolest', 787), ('sliced', 3050), ('bread', 468), ('finds', 1326), ('deactivate', 879), ('cover', 814), ('anytime', 248), ('location', 1996), ('nervana', 2216), ('geared', 1427), ('nigh', 2234), ('dimmer', 975), ('beta', 403), ('india', 1710), ('suppose', 3290), ('79', 58), ('network', 2221), ('jamming', 1828), ('weekday', 3686), ('delivers', 916), ('period', 2415), ('helper', 1585), ('tasks', 3336), ('adequate', 139), ('travelling', 3467), ('youngest', 3773), ('mama', 2068), ('companion', 698), ('elegant', 1126), ('goodies', 1468), ('omg', 2293), ('reading', 2661), ('silly', 3010), ('selfies', 2934), ('sends', 2941), ('hubby', 1646), ('beautifully', 381), ('hide', 1596), ('cause', 565), ('squirms', 3178), ('conscious', 747), ('blocking', 429), ('cancel', 537), ('pre', 2520), ('weekdays', 3687), ('permanently', 2417), ('rotates', 2846), ('upset', 3567), ('acting', 109), ('fail', 1267), ('sadly', 2865), ('misplace', 2145), ('blessing', 425), ('bedtime', 388), ('kid', 1862), ('liking', 1959), ('unobtrusive', 3547), ('numerous', 2267), ('practically', 2517), ('themes', 3381), ('menu', 2110), ('precise', 2522), ('east', 1092), ('coast', 658), ('massive', 2085), ('failing', 1269), ('woken', 3720), ('partner', 2383), ('manually', 2076), ('swiping', 3304), ('touching', 3450), ('results', 2817), ('ii', 1669), ('manage', 2070), ('delete', 913), ('recurring', 2710), ('happen', 1537), ('screw', 2907), ('repair', 2767), ('receivded', 2679), ('07', 2), ('23', 25), ('18', 13), ('advise', 159), ('hadn', 1522), ('thrown', 3399), ('ting', 3418), ('fascinating', 1286), ('microphones', 2123), ('models', 2157), ('picture', 2449), ('forces', 1366), ('disable', 988), ('persuasion', 2425), ('enters', 1160), ('hell', 1582), ('monitor', 2164), ('syncing', 3312), ('hasn', 1549), ('alerts', 188), ('enable', 1136), ('ignoring', 1665), ('customers', 850), ('marketing', 2083), ('customize', 853), ('contents', 763), ('content', 762), ('acceptable', 85), ('debating', 884), ('person', 2419), ('fell', 1311), ('briefings', 475), ('recipes', 2691), ('concern', 722), ('grandparents', 1486), ('tend', 3362), ('conferencing', 731), ('tools', 3441), ('impede', 1680), ('operations', 2308), ('takes', 3320), ('care', 550), ('thursday', 3404), ('unwrapped', 3556), ('reoccurring', 2764), ('rotate', 2845), ('believer', 396), ('shell', 2974), ('arm', 278), ('leg', 1934), ('reference', 2716), ('cohesive', 661), ('manual', 2075), ('websites', 3683), ('instruction', 1750), ('kwikset', 1886), ('pizza', 2455), ('hut', 1656), ('views', 3621), ('hype', 1658), ('bugging', 494), ('1990', 16), ('downright', 1059), ('ugly', 3517), ('soundbar', 3116), ('smartphone', 3065), ('interact', 1763), ('media', 2097), ('navigating', 2197), ('pages', 2363), ('arrive', 280), ('fiances', 1315), ('preferred', 2525), ('notifications', 2257), ('seen', 2928), ('delivered', 915), ('integrating', 1755), ('dash', 871), ('renting', 2763), ('tinker', 3419), ('road', 2837), ('hvac', 1657), ('looooooove', 2014), ('disaster', 997), ('chachki', 581), ('genres', 1438), ('adjustment', 143), ('hong', 1622), ('kong', 1884), ('sized', 3038), ('bezel', 406), ('usable', 3572), ('involves', 1801), ('starts', 3198), ('crap', 822), ('dare', 868), ('child', 612), ('outrageous', 2336), ('meant', 2096), ('nonsense', 2246), ('nanny', 2192), ('adorable', 147), ('recently', 2686), ('subscriber', 3256), ('alternatives', 212), ('alleviate', 198), ('shine', 2977), ('items', 1823), ('analog', 231), ('buyers', 515), ('remorse', 2759), ('sight', 3007), ('decor', 892), ('thongs', 3390), ('numb', 2264), ('thunderstorm', 3403), ('yesterday', 3768), ('indundated', 1717), ('stimulus', 3218), ('suitable', 3277), ('sony', 3103), ('pull', 2596), ('entirely', 1165), ('knocked', 1875), ('decision', 890), ('cycles', 860), ('screens', 2905), ('rotation', 2847), ('promotion', 2575), ('packing', 2361), ('heads', 1569), ('emergency', 1132), ('folks', 1358), ('woke', 3719), ('advertise', 154), ('town', 3453), ('lady', 1893), ('researched', 2793), ('45', 41), ('avail', 331), ('occasional', 2275), ('force', 1365), ('trending', 3474), ('greatly', 1498), ('depreciates', 929), ('willing', 3710), ('billboard', 414), ('streamline', 3235), ('warns', 3661), ('snarls', 3073), ('suggesting', 3274), ('introducing', 1787), ('artists', 285), ('amaonmazing', 213), ('blanket', 422), ('infotainment', 1728), ('sleepy', 3049), ('zonked', 3780), ('zzzzzzz', 3782), ('awake', 335), ('yep', 3766), ('statement', 3201), ('excessive', 1214), ('rotations', 2848), ('screenselect', 2906), ('settingshome', 2962), ('clockhome', 646), ('cardsrotate', 549), ('onceproblem', 2294), ('nicely', 2231), ('constructed', 755), ('replaces', 2777), ('arriving', 282), ('pricey', 2543), ('https', 1643), ('www', 3753), ('com', 669), ('dp', 1062), ('b073sqyxtw', 343), ('ref', 2714), ('cm_cr_ryp_prd_ttl_sol_18', 656), ('choice', 616), ('positives', 2505), ('nearly', 2206), ('literally', 1977), ('initial', 1729), ('pros', 2582), ('unlike', 3542), ('clearer', 640), ('cons', 746), ('web', 3681), ('installed', 1743), ('porch', 2497), ('mount', 2173), ('lcd', 1921), ('dim', 972), ('sensitive', 2944), ('sleeper', 3046), ('wind', 3711), ('taping', 3331), ('tape', 3330), ('tiny', 3422), ('suffer', 3269), ('ads', 148), ('forever', 1369), ('swell', 3302), ('crazy', 827), ('eeaanh', 1108), ('slide', 3051), ('pivoting', 2453), ('separately', 2949), ('colon', 666), ('celebs', 573), ('jump', 1845), ('board', 438), ('voices', 3635), ('nit', 2240), ('picky', 2447), ('beefy', 389), ('compliment', 715), ('determined', 943), ('overheating', 2344), ('technical', 3343), ('24', 26), ('48', 42), ('replied', 2779), ('inline', 1732), ('unacceptable', 3521), ('arises', 276), ('farther', 1285), ('cleaner', 637), ('sounding', 3118), ('perk', 2416), ('print', 2549), ('split', 3162), ('hairs', 1526), ('increasing', 1707), ('weekly', 3689), ('overtime', 2347), ('project', 2570), ('feedback', 1303), ('self', 2933), ('staying', 3209), ('hotel', 1636), ('bundle', 505), ('girls', 1447), ('25', 27), ('deployed', 928), ('appropriate', 266), ('particularly', 2381), ('engineers', 1148), ('tested', 3368), ('schedules', 2891), ('walking', 3652), ('5am', 49), ('fumble', 1394), ('plain', 2461), ('cumbersome', 842), ('situations', 3036), ('spouse', 3172), ('separate', 2948), ('cancels', 540), ('cancelled', 539), ('snoozed', 3077), ('amused', 229), ('summoning', 3278), ('creapy', 828), ('af', 162), ('tall', 3327), ('vice', 3614), ('versa', 3603), ('tends', 3363), ('break', 469), ('intermittent', 1776), ('optical', 2313), ('stands', 3191), ('90', 67), ('grandmother', 1484), ('sets', 2959), ('mind', 2131), ('podcast', 2487), ('expired', 1237), ('digs', 971), ('cartoons', 558), ('desired', 936), ('hectic', 1579), ('voila', 3637), ('virtual', 3624), ('hire', 1602), ('libraries', 1944), ('sooooo', 3107), ('sopt', 3109), ('past', 2388), ('realizing', 2668), ('amazonia', 221), ('lil', 1960), ('text', 3371), ('recipe', 2690), ('lost', 2022), ('mentioned', 2109), ('caused', 566), ('effected', 1109), ('children', 614), ('happens', 1540), ('hand', 1530), ('pleasedsimple', 2477), ('aspects', 294), ('interacting', 1764), ('tremendous', 3473), ('country', 808), ('dhiw', 952), ('hmm', 1607), ('cnn', 657), ('preview', 2537), ('pricing', 2544), ('underestimated', 3525), ('cart', 557), ('chatting', 605), ('isnt', 1814), ('image', 1672), ('pixelated', 2454), ('oh', 2286), ('slideshow', 3052), ('sticks', 3217), ('leave', 1929), ('articles', 283), ('solution', 3093), ('shutting', 3004), ('mexico', 2118), ('usa', 3571), ('houses', 1641), ('systems', 3313), ('homes', 1617), ('mimic', 2130), ('bulbs', 500), ('baseball', 366), ('scores', 2896), ('cooler', 786), ('audiobooks', 320), ('loses', 2019), ('applications', 261), ('optional', 2316), ('bezos', 407), ('spying', 3176), ('reccomend', 2678), ('disposable', 1021), ('income', 1702), ('cat', 561), ('vacation', 3590), ('idea', 1660), ('routine', 2853), ('imhave', 1677), ('hate', 1552), ('recommending', 2699), ('continually', 765), ('bc', 377), ('guide', 1516), ('floating', 1354), ('purely', 2610), ('aesthetic', 161), ('natural', 2194), ('mediocre', 2100), ('track', 3456), ('holiday', 1614), ('gifts', 1445), ('organization', 2324), ('virtually', 3625), ('heavy', 1577), ('punch', 2600), ('mids', 2127), ('awful', 339), ('rarely', 2648), ('activates', 114), ('meaningful', 2094), ('distraction', 1026), ('practicalthan', 2518), ('powerful', 2515), ('pics', 2448), ('constant', 753), ('88', 64), ('uninstall', 3536), ('reinstall', 2738), ('reconfigure', 2701), ('jumped', 1846), ('resistant', 2800), ('york', 3770), ('fair', 1271), ('1964', 15), ('54', 48), ('worker', 3735), ('telephone', 3353), ('directions', 983), ('laughter', 1914), ('eliminate', 1128), ('payed', 2397), ('held', 1580), ('sooooooo', 3108), ('expectation', 1228), ('pia', 2442), ('shipped', 2981), ('manuals', 2077), ('magically', 2052), ('maximize', 2090), ('examples', 1205), ('kick', 1860), ('pants', 2371), ('udefulness', 3516), ('engine', 1147), ('hated', 1553), ('parties', 2382), ('correct', 794), ('dish', 1012), ('129', 9), ('ti', 3405), ('definately', 903), ('229', 24), ('hesitated', 1592), ('recent', 2685), ('mac', 2047), ('air', 179), ('stuck', 3244), ('unable', 3520), ('referred', 2718), ('intelagence', 1757), ('dependence', 926), ('pushed', 2614), ('accessable', 88), ('gather', 1421), ('subsequently', 3261), ('ihome', 1668), ('docking', 1033), ('created', 830), ('visual', 3631), ('clothes', 653), ('dryer', 1077), ('eco', 1099), ('lines', 1965), ('resolution', 2801), ('trigger', 3480), ('literate', 1978), ('controlled', 773), ('net', 2219), ('fills', 1322), ('connects', 745), ('resume', 2818), ('utility', 3586), ('owe', 2350), ('marked', 2081), ('lyrical', 2045), ('post', 2509), ('malone', 2067), ('consumer', 757), ('argument', 274), ('state', 3200), ('feeds', 1304), ('spectacular', 3148), ('stellar', 3212), ('hi', 1594), ('campus', 534), ('carry', 556), ('stationary', 3204), ('comfort', 677), ('invasion', 1791), ('relief', 2746), ('onme', 2298), ('visa', 3626), ('voiceview', 3636), ('reader', 2660), ('blind', 426), ('single', 3024), ('vast', 3597), ('library', 1945), ('canary', 536), ('agree', 173), ('deeper', 897), ('havent', 1557), ('capacity', 544), ('join', 1839), ('backgrounds', 346), ('primeday', 2548), ('blows', 433), ('sources', 3123), ('advantage', 152), ('incredible', 1708), ('untapped', 3552), ('locked', 1999), ('restrictions', 2814), ('navigate', 2196), ('hd', 1562), ('priced', 2541), ('st', 3181), ('louis', 2027), ('thrilled', 3397), ('seprately', 2950), ('mics', 2124), ('tg', 3373), ('ed', 1103), ('4k', 45), ('sharp', 2973), ('tries', 3479), ('drawback', 1065), ('noticed', 2255), ('recordings', 2708), ('secret', 2923), ('agent', 170), ('johnny', 1838), ('rivers', 2836), ('history', 1605), ('comeletely', 675), ('concept', 721), ('irritated', 1808), ('communicating', 691), ('baffled', 350), ('eventually', 1194), ('abay', 74), ('combined', 673), ('cylinder', 861), ('writes', 3750), ('accompanying', 95), ('anylist', 245), ('pause', 2394), ('decides', 889), ('exceeds', 1208), ('wealth', 3677), ('topic', 3443), ('customizable', 851), ('hole', 1613), ('preparing', 2528), ('spotlight', 3170), ('cams', 535), ('demand', 918), ('clients', 643), ('2package', 30), ('cracked', 819), ('fourth', 1379), ('graphics', 1492), ('cozi', 817), ('drawing', 1066), ('essential', 1181), ('marvelous', 2084), ('lag', 1894), ('provider', 2591), ('speed', 3150), ('gb', 1425), ('a1', 72), ('conditioning', 728), ('friday', 1385), ('steep', 3211), ('diversity', 1030), ('rock', 2838), ('dec', 885), ('2017', 23), ('window', 3712), ('opens', 2304), ('contains', 761), ('bar', 357), ('flashes', 1344), ('restart', 2813), ('grownups', 1509), ('requires', 2791), ('site', 3033), ('page', 2362), ('position', 2503), ('visuals', 3632), ('stove', 3229), ('cousin', 812), ('carolina', 554), ('addressed', 135), ('majes', 2060), ('enjoyable', 1152), ('glitching', 1457), ('repairs', 2768), ('newest', 2224), ('glitch', 1455), ('ty', 3508), ('jeapordy', 1832), ('visible', 3627), ('lazy', 1920), ('originally', 2330), ('competition', 704), ('developed', 944), ('doesnt', 1039), ('200', 21), ('shorted', 2989), ('lastly', 1907), ('membership', 2106), ('decorated', 893), ('minimal', 2134), ('subscription', 3258), ('nightmare', 2236), ('overpriced', 2345), ('vehicle', 3599), ('produc', 2559), ('fledged', 1350), ('tablet', 3315), ('accesss', 92), ('lurking', 2041), ('continous', 764), ('spam', 3129), ('promoting', 2574), ('settins', 2963), ('anti', 241), ('reasons', 2672), ('staging', 3184), ('acoustical', 107), ('cylindercal', 862), ('covered', 815), ('adjacent', 140), ('mixed', 2151), ('stinks', 3219), ('extras', 1252), ('afraid', 167), ('engaging', 1146), ('regard', 2729), ('bandwidth', 355), ('4ghz', 44), ('vs', 3641), ('accuracy', 102), ('spoiled', 3163), ('detailed', 940), ('offing', 2285), ('ass', 295), ('ase', 287), ('participating', 2379), ('compacity', 696), ('aint', 178), ('international', 1779), ('tune', 3494), ('pulling', 2597), ('teeth', 3351), ('sign', 3008), ('totallly', 3446), ('blink', 427), ('everybody', 1195), ('jetsons', 1835), ('draw', 1064), ('teacher', 3337), ('ight', 1663), ('inviting', 1799), ('switches', 3307), ('expanding', 1226), ('maintaining', 2058), ('shuffle', 3001), ('photographs', 2439), ('sewing', 2968), ('smooth', 3070), ('wellfour', 3694), ('bizarre', 420), ('sore', 3110), ('thumb', 3401), ('powercord', 2514), ('flaw', 1346), ('strongly', 3240), ('urge', 3570), ('affirmations', 164), ('personalized', 2423), ('common', 688), ('allrecipes', 203), ('illustrated', 1670), ('orders', 2323), ('uhyour', 3518), ('selections', 2932), ('preferences', 2524), ('temp', 3358), ('searches', 2918), ('visiting', 3629), ('frustration', 1391), ('laziness', 1919), ('headphones', 1568), ('dig', 968), ('bonkers', 443), ('brief', 473), ('floored', 1356), ('blurring', 437), ('shaking', 2970), ('jumping', 1847), ('talked', 3324), ('hassle', 1551), ('references', 2717), ('yup', 3777), ('hahaawesome', 1524), ('improving', 1691), ('impulse', 1692), ('hints', 1601), ('appears', 256), ('sparks', 3134), ('imagination', 1674), ('belong', 398), ('starting', 3197), ('specifically', 3143), ('nephews', 2215), ('grandparent', 1485), ('dementia', 919), ('memory', 2107), ('loss', 2021), ('medications', 2099), ('viceo', 3615), ('aka', 180), ('leaning', 1922), ('create', 829), ('nbsp', 2201), ('messages', 2113), ('puzzled', 2617), ('quot', 2633), ('intelligent', 1759), ('yhe', 3769), ('thou', 3393), ('calendars', 522), ('contacts', 760), ('alongside', 204), ('útil', 3783), ('algo', 196), ('flickering', 1353), ('forums', 1377), ('isue', 1818), ('reported', 2782), ('solución', 3092), ('tin', 3417), ('4th', 46), ('screenless', 2904), ('pointless', 2491), ('providing', 2593), ('story', 3228), ('hallway', 1529), ('bulky', 502), ('headline', 1566), ('suggests', 3276), ('adapted', 122), ('machines', 2049), ('cross', 837), ('activating', 115), ('rename', 2761), ('adept', 138), ('exceptionally', 1213), ('coffee', 660), ('prettier', 2533), ('dense', 922), ('ny', 2270), ('nj', 2242), ('regional', 2731), ('experiences', 1235), ('tablets', 3316), ('description', 932), ('surround', 3299), ('gadgets', 1410), ('spur', 3175), ('conversation', 779), ('dictionary', 955), ('areas', 270), ('reduced', 2712), ('auto', 324), ('imrproved', 1693), ('galaxy', 1412), ('s9', 2863), ('string', 3237), ('explicit', 1240), ('electeonically', 1120), ('feee', 1305), ('lifht', 1948), ('bing', 416), ('combine', 672), ('fidelity', 1316), ('silver', 3011), ('unimportant', 3535), ('intention', 1762), ('scottish', 2897), ('oops', 2300), ('plenty', 2479), ('specs', 3147), ('straight', 3230), ('lightbulb', 1950), ('stubborn', 3243), ('patio', 2392), ('gatherings', 1422), ('extends', 1247), ('vision', 3628), ('impaired', 1679), ('loaded', 1991), ('social', 3082), ('facebook', 1260), ('twitter', 3507), ('left', 1933), ('isolated', 1815), ('direct', 981), ('whos', 3703), ('aspect', 293), ('distracting', 1025), ('countless', 806), ('dunce', 1080), ('sigh', 3006), ('exasperation', 1206), ('ignored', 1664), ('workarounds', 3733), ('scoured', 2898), ('beginners', 391), ('section', 2925), ('addresses', 136), ('configure', 733), ('accepting', 86), ('karen', 1851), ('controllable', 772), ('bff', 409), ('cups', 843), ('pound', 2512), ('sons', 3102), ('picked', 2444), ('slight', 3053), ('confused', 736), ('begun', 393), ('360', 35), ('array', 279), ('practical', 2516), ('concerns', 725), ('mute', 2184), ('equalizer', 1170), ('introduce', 1786), ('lock', 1998), ('888', 65), ('posed', 2502), ('somebody', 3096), ('community', 693), ('wave', 3673), ('zigbee', 3779), ('body', 441), ('wink', 3714), ('integrate', 1752), ('hubs', 1647), ('innovative', 1733), ('upgrading', 3565), ('cases', 560), ('settle', 2964), ('plane', 2463), ('bundled', 506), ('philly', 2434), ('buys', 517), ('newer', 2223), ('mark', 2080), ('yale', 3757), ('techy', 3349), ('audibles', 316), ('tunein', 3495), ('heart', 1575), ('tivo', 3427), ('bolt', 442), ('reorder', 2765), ('notifies', 2258), ('mailed', 2053), ('tp', 3455), ('devises', 951), ('august', 322), ('ties', 3409), ('experienced', 1234), ('nexia', 2227), ('interactions', 1766), ('alread', 208), ('philips', 2430), ('nudged', 2263), ('build', 496), ('placed', 2457), ('fixtures', 1342), ('den', 920), ('fixture', 1341), ('required', 2790), ('configured', 734), ('brands', 467), ('disarm', 996), ('management', 2071), ('baffle', 349), ('esp', 1177), ('dented', 923), ('exchanging', 1217), ('coop', 788), ('luv', 2042), ('reauthorize', 2673), ('ton', 3435), ('jeopardy', 1834), ('ge', 1426), ('corresponds', 797), ('exchanges', 1216), ('makings', 2065), ('documentation', 1035), ('becausse', 383), ('accident', 93), ('echoplus', 1097), ('extension', 1248), ('activate', 112), ('habla', 1521), ('espanol', 1178), ('hd8', 1563), ('cpr', 818), ('classical', 634), ('mistakes', 2149), ('sofa', 3084), ('sit', 3032), ('broke', 483), ('fixing', 1340), ('replacing', 2778), ('bridge', 472), ('philipshue', 2431), ('instantaneous', 1747), ('catches', 563), ('bothers', 458), ('conflict', 735), ('discovery', 1011), ('fully', 1393), ('evaluate', 1190), ('communicated', 690), ('preset', 2530), ('firmare', 1333), ('featured', 1299), ('iot', 1802), ('needing', 2211), ('standalone', 3187), ('redundant', 2713), ('equal', 1168), ('soundlink', 3119), ('importantly', 1684), ('bye', 519), ('tinkering', 3420), ('chalk', 583), ('repertoire', 2773), ('hook', 1623), ('walks', 3653), ('successfully', 3265), ('completed', 712), ('technicians', 3345), ('chromebook', 625), ('luck', 2037), ('behaved', 394), ('blast', 423), ('soccer', 3081), ('sport', 3166), ('teams', 3338), ('american', 224), ('remaining', 2748), ('pairing', 2368), ('utilizing', 3589), ('ecobee3', 1100), ('firestick', 1332), ('phillip', 2432), ('scooped', 2895), ('ball', 351), ('rcieved', 2654), ('buld', 501), ('mere', 2111), ('verbal', 3600), ('62', 53), ('techno', 3346), ('knowledgable', 1878), ('hubbed', 1645), ('stump', 3247), ('googled', 1472), ('admit', 145), ('explored', 1242), ('refers', 2719), ('twice', 3505), ('steps', 3214), ('xfinity', 3755), ('cable', 520), ('geo', 1439), ('fencing', 1313), ('leisure', 1936), ('remedial', 2750), ('reconnect', 2702), ('false', 1277), ('ghost', 1443), ('ipdates', 1806), ('resolved', 2802), ('adapting', 124), ('cheapest', 608), ('profiles', 2564), ('spins', 3161), ('near', 2205), ('handles', 1533), ('links', 1969), ('hulu', 1651), ('pets', 2426), ('911', 69), ('regardless', 2730), ('layer', 1917), ('protection', 2584), ('bf', 408), ('cousins', 813), ('italy', 1821), ('facts', 1266), ('touted', 3451), ('samsung', 2871), ('interferes', 1775), ('depth', 930), ('fairness', 1273), ('advance', 150), ('protocol', 2585), ('supports', 3289), ('upgrades', 3564), ('texts', 3372), ('necessity', 2208), ('commodity', 687), ('disabled', 989), ('doctor', 1034), ('medical', 2098), ('rides', 2830), ('hospitals', 1633), ('cue', 841), ('nurses', 2268), ('aide', 177), ('chocolate', 615), ('assist', 297), ('anybody', 244), ('affirm', 163), ('jeff', 1833), ('allowing', 201), ('disability', 987), ('earn', 1088), ('672', 54), ('ssdi', 3180), ('forecast', 1367), ('soaking', 3080), ('cursed', 846), ('scheduled', 2890), ('soaked', 3079), ('tec', 3340), ('complacated', 705), ('verbalize', 3601), ('sirrius', 3030), ('differences', 963), ('dimming', 976), ('scenes', 2887), ('tones', 3436), ('misled', 2144), ('explanation', 1239), ('throw', 3398), ('invest', 1795), ('shortcomings', 2988), ('fees', 1309), ('a19', 73), ('differ', 961), ('speedy', 3152), ('steaming', 3210), ('skips', 3042), ('subscriptiondoes', 3259), ('audioapple', 318), ('deviceoverall', 948), ('jack', 1826), ('philip', 2429), ('attempting', 312), ('failed', 1268), ('watched', 3669), ('poster', 2510), ('insanity', 1736), ('operator', 2309), ('hr', 1642), ('19', 14), ('mins', 2138), ('patience', 2390), ('shifting', 2976), ('mindset', 2132), ('kicking', 1861), ('locate', 1994), ('pray', 2519), ('attempt', 310), ('successful', 3264), ('revise', 2827), ('odds', 2279), ('defuser', 908), ('wasted', 3667), ('purchaser', 2606), ('phase', 2427), ('expanded', 1225), ('usage', 3573), ('noticeable', 2254), ('ends', 1143), ('unavailable', 3522), ('interrogated', 1782), ('originale', 2329), ('dimension', 974), ('weight', 3691), ('woofer', 3727), ('tweeter', 3503), ('pointed', 2490), ('sub', 3253), ('losing', 2020), ('edge', 1104), ('fw', 1408), ('inferior', 1722), ('rattling', 2653), ('vibrating', 3613), ('distorted', 1024), ('rattle', 2652), ('crackle', 820), ('characteristics', 595), ('assuming', 302), ('classic', 633), ('orchestra', 2319), ('screamig', 2901), ('carefully', 551), ('click', 642), ('sneaky', 3074), ('wasnt', 3665), ('keen', 1853), ('goodmorning', 1469), ('sang', 2872), ('lolol', 2005), ('educated', 1106), ('laughs', 1913), ('waits', 3646), ('hes', 1589), ('island', 1812), ('direction', 982), ('placement', 2458), ('appealing', 254), ('neighbors', 2214), ('building', 497), ('knob', 1873), ('adjusting', 142), ('inconvenience', 1703), ('sturdy', 3249), ('grip', 1501), ('granite', 1490), ('rub', 2857), ('scent', 2888), ('tipping', 3423), ('floor', 1355), ('assigned', 296), ('shining', 2978), ('tony', 3438), ('stark', 3193), ('quote', 2634), ('ownership', 2355), ('lucky', 2039), ('taller', 3328), ('spin', 3160), ('researching', 2794), ('setups', 2966), ('ontrac', 2299), ('usual', 3584), ('suck', 3267), ('smells', 3068), ('3x', 38), ('regularly', 2737), ('s8', 2862), ('checked', 610), ('cycled', 859), ('industry', 1718), ('continues', 767), ('roll', 2841), ('prove', 2586), ('clue', 655), ('em', 1129), ('grace', 1477), ('amplifier', 228), ('driving', 1072), ('standing', 3190), ('snell', 3075), ('clapper', 630), ('ceilings', 572), ('smartthings', 3067), ('muffled', 2180), ('eq', 1167), ('consistently', 751), ('hmmm', 1608), ('spending', 3156), ('senior', 2942), ('citizens', 628), ('mobility', 2154), ('depending', 927), ('comments', 685), ('sibling', 3005), ('versus', 3610), ('downstairs', 1061), ('singing', 3023), ('commanded', 682), ('lifetime', 1947), ('approaching', 265), ('40', 40), ('000', 1), ('hundreds', 1654), ('thousands', 3396), ('approximately', 267), ('600', 52), ('subpar', 3255), ('rarity', 2649), ('discourage', 1006), ('investing', 1797), ('ecosystem', 1102), ('holy', 1615), ('batman', 374), ('jams', 1829), ('insanely', 1735), ('sooner', 3105), ('girlfriend', 1446), ('incorporated', 1705), ('dates', 875), ('science', 2894), ('core', 793), ('reminding', 2757), ('equalized', 1169), ('length', 1937), ('vacuum', 3592), ('replying', 2780), ('hassel', 1550), ('unsettling', 3551), ('repeats', 2772), ('obtrusive', 2272), ('training', 3463), ('coordinator', 789), ('blueprints', 435), ('gameshow', 1415), ('quiz', 2632), ('orientation', 2326), ('engage', 1144), ('trainees', 3462), ('success', 3263), ('classes', 632), ('filling', 1321), ('logitech', 2001), ('harmony', 1547), ('nope', 2247), ('denon', 921), ('av', 330), ('receivers', 2683), ('putting', 2616), ('consulting', 756), ('sincerely', 3021), ('smartthing', 3066), ('transferring', 3464), ('initiate', 1731), ('zzzz', 3781), ('ideal', 1661), ('boyfriend', 463), ('chromecast', 626), ('load', 1990), ('rebooting', 2676), ('attachment', 309), ('loose', 2015), ('wished', 3717), ('guilty', 1517), ('assume', 300), ('oldest', 2291), ('mirroring', 2143), ('ummm', 3519), ('sever', 2967), ('agreement', 174), ('expires', 1238), ('rent', 2762), ('headphone', 1567), ('roku', 2840), ('faster', 1289), ('darn', 870), ('kodi', 1883), ('addons', 134), ('platform', 2466), ('lagging', 1895), ('utilize', 3588), ('confident', 732), ('resemption', 2796), ('downfall', 1055), ('subscriptions', 3260), ('funciona', 1396), ('genial', 1436), ('june', 1848), ('crunchyroll', 838), ('pep', 2405), ('overcoming', 2343), ('switching', 3308), ('programming', 2568), ('charm', 601), ('simplify', 3017), ('alexus', 195), ('bet', 402), ('doubtful', 1054), ('pluto', 2485), ('tubi', 3493), ('lyric', 2044), ('programing', 2566), ('bills', 415), ('supplied', 3284), ('mounted', 2174), ('platforms', 2467), ('vudu', 3642), ('voltage', 3638), ('typically', 3513), ('quiet', 2629), ('relay', 2742), ('canceling', 538), ('satellite', 2874), ('alexis', 194), ('bettter', 405), ('extended', 1245), ('relatively', 2740), ('inexpensive', 1719), ('gap', 1417), ('ethernet', 1189), ('speeds', 3151), ('hiccups', 1595), ('ridiculously', 2832), ('prices', 2542), ('50', 47), ('1gb', 17), ('8gb', 66), ('storage', 3224), ('downloading', 1058), ('upcoming', 3557), ('includes', 1699), ('nfl', 2228), ('troublesome', 3485), ('record', 2705), ('remains', 2749), ('electricity', 1122), ('amounts', 226), ('luckily', 2038), ('directtv', 985), ('woohoo', 3729), ('snap', 3072), ('feeling', 1307), ('inspired', 1740), ('gateway', 1420), ('trial', 3475), ('keyboard', 1859), ('typing', 3514), ('clips', 644), ('opportunity', 2311), ('mi', 2119), ('similar', 3012), ('evening', 1191), ('season', 2920), ('bloods', 430), ('csi', 839), ('miami', 2120), ('optimum', 2314), ('suffolk', 3271), ('county', 809), ('lovee', 2031), ('evrything', 1200), ('hahahaha', 1525), ('addicts', 129), ('amazin', 217), ('alots', 206), ('traditional', 3457), ('1rst', 18), ('crashes', 825), ('buffer', 490), ('budget', 489), ('maneuver', 2073), ('activation', 116), ('ditched', 1029), ('market', 2082), ('unhappy', 3532), ('errors', 1174), ('crashing', 826), ('sling', 3055), ('nd', 2203), ('endless', 1142), ('100x', 5), ('existent', 1223), ('sry', 3179), ('allowed', 200), ('officially', 2284), ('hdm1', 1564), ('bob', 440), ('dylan', 1085), ('xbox', 3754), ('buffering', 491), ('interruption', 1784), ('rewards', 2828), ('drive', 1068), ('singley', 3025), ('entry', 1166), ('inactivity', 1696), ('finish', 1330), ('availability', 332), ('arguments', 275), ('logo', 2002), ('younger', 3772), ('ditch', 1028), ('charmed', 602), ('forjust', 1373), ('clocking', 647), ('300', 32), ('mb', 2092), ('mandatory', 2072), ('final', 1323), ('upload', 3566), ('charlotte', 600), ('nc', 2202), ('pur', 2603), ('cbs', 568), ('nbc', 2200), ('abc', 75), ('discounts', 1005), ('oriented', 2327), ('looses', 2016), ('closer', 652), ('rare', 2647), ('occasion', 2274), ('thete', 3385), ('cave', 567), ('las', 1906), ('películas', 2400), ('tiene', 3408), ('pueden', 2595), ('cambiar', 529), ('títulos', 3515), ('element', 1127), ('maddening', 2050), ('disconnections', 1002), ('inclusive', 1701), ('hdmi', 1565), ('ni', 2229), ('hbo', 1560), ('showtime', 3000), ('onetime', 2296), ('procedure', 2557), ('tge', 3374), ('batteries', 375), ('hauler', 1555), ('trip', 3481), ('commercials', 686), ('livingroom', 1984), ('semi', 2938), ('reviewing', 2825), ('factory', 1265), ('abd', 76), ('scratch', 2899), ('traveling', 3466), ('ban', 352), ('installs', 1745), ('theater', 3378), ('fat', 1290), ('forecasts', 1368), ('interactive', 1767), ('bug', 493), ('newsflash', 2226), ('reboots', 2677), ('stage', 3183), ('invention', 1794), ('tricky', 3477), ('stayed', 3208), ('hmmmm', 1609), ('appreciated', 263), ('disconnecting', 1001), ('tickled', 3406), ('keeper', 1854), ('linking', 1968), ('rough', 2849), ('patch', 2389), ('sunroom', 3279), ('helful', 1581), ('supported', 3287), ('reached', 2656), ('sprint', 3174), ('bare', 358), ('minimum', 2135), ('hospital', 1632), ('grands', 1487), ('welcome', 3693), ('serius', 2953), ('sm', 3058), ('alot', 205), ('fashioned', 1287), ('digitol', 970), ('vacations', 3591), ('everytime', 1197), ('paranoid', 2374), ('vlan', 3633), ('require', 2789), ('questionable', 2624), ('carful', 553), ('vetted', 3611), ('askes', 290), ('handled', 1532), ('lonely', 2006), ('spark', 3133), ('ifs', 1662), ('ands', 233), ('buts', 510), ('minorly', 2137), ('comands', 670), ('capasity', 545), ('complained', 707), ('medium', 2102), ('doors', 1050), ('barn', 362), ('horse', 1631), ('healing', 1570), ('continuous', 768), ('spa', 3125), ('par', 2373), ('nite', 2241), ('boombox', 448), ('11', 6), ('dated', 874), ('champ', 586), ('yeah', 3760), ('insert', 1737), ('equipo', 1172), ('inteligente', 1758), ('al', 181), ('estar', 1184), ('conectado', 730), ('nos', 2251), ('provee', 2588), ('múltiples', 2187), ('funciones', 1398), ('tales', 3322), ('como', 695), ('tiempo', 3407), ('hora', 1629), ('información', 1724), ('cualquier', 840), ('estudio', 1186), ('estés', 1187), ('realizando', 2665), ('atrás', 306), ('vez', 3612), ('del', 911), ('forgot', 1371), ('amaxing', 214), ('greeting', 1500), ('oven', 2340), ('temps', 3360), ('simplified', 3016), ('bandwagon', 354), ('struggle', 3242), ('sharing', 2972), ('testing', 3369), ('reliable', 2745), ('qualty', 2619), ('filled', 1320), ('compound', 718), ('projects', 2572), ('projection', 2571), ('awkward', 341), ('students', 3245), ('dorm', 1051), ('spacing', 3128), ('smarter', 3063), ('smarthome', 3064), ('alright', 209), ('reputation', 2785), ('nois', 2243), ('shooting', 2984), ('motown', 2172), ('salsa', 2870), ('phonetically', 2437), ('intend', 1760), ('released', 2744), ('proper', 2579), ('development', 946), ('fails', 1270), ('british', 481), ('restrictive', 2815), ('refined', 2720), ('informed', 1727), ('verse', 3606), ('argue', 273), ('imusic', 1694), ('structure', 3241), ('dumber', 1079), ('affordable', 166), ('lullaby', 2040), ('survived', 3300), ('bells', 397), ('whistles', 3701), ('satisified', 2876), ('flexible', 1352), ('alexi', 192), ('humour', 1653), ('favorites', 1296), ('wishing', 3718), ('solely', 3089), ('loosing', 2017), ('presumably', 2532), ('interference', 1774), ('buzzing', 518), ('king', 1869), ('cutie', 856), ('sanity', 2873), ('choppy', 620), ('domain', 1045), ('city', 629), ('dial', 954), ('lame', 1897), ('legally', 1935), ('godsend', 1461), ('numbers', 2266), ('choosing', 619), ('shipment', 2980), ('costs', 800), ('wattage', 3672), ('dollars', 1044), ('obsessed', 2271), ('stairs', 3185), ('certainly', 579), ('unexpected', 3530), ('remind', 2753), ('seams', 2916), ('maintain', 2057), ('smiths', 3069), ('falls', 1276), ('learnimg', 1925), ('sounded', 3117), ('emoji', 1133), ('accustom', 105), ('pup', 2602), ('calm', 526), ('wonders', 3725), ('calmer', 527), ('bark', 361), ('expert', 1236), ('operation', 2307), ('confuses', 737), ('engagement', 1145), ('sales', 2869), ('tempting', 3361), ('este', 1185), ('producto', 2561), ('llegó', 1987), ('semana', 2937), ('quedó', 2621), ('sin', 3020), ('olor', 2292), ('perdió', 2406), ('toda', 3428), ('escencia', 1176), ('huele', 1649), ('solo', 3091), ('alcohol', 186), ('barry', 364), ('ages', 171), ('adults', 149), ('locations', 1997), ('dead', 880), ('stat', 3199), ('bothered', 457), ('spaces', 3127)])"
      ]
     },
     "execution_count": 29,
     "metadata": {},
     "output_type": "execute_result"
    }
   ],
   "source": [
    "cv.vocabulary_.items()"
   ]
  },
  {
   "cell_type": "code",
   "execution_count": 30,
   "metadata": {},
   "outputs": [
    {
     "data": {
      "text/plain": [
       "set()"
      ]
     },
     "execution_count": 30,
     "metadata": {},
     "output_type": "execute_result"
    }
   ],
   "source": [
    "cv.stop_words_"
   ]
  },
  {
   "cell_type": "code",
   "execution_count": 31,
   "metadata": {},
   "outputs": [
    {
     "data": {
      "image/png": "[encoded data removed]",
      "text/plain": [
       "<Figure size 720x720 with 1 Axes>"
      ]
     },
     "metadata": {},
     "output_type": "display_data"
    }
   ],
   "source": [
    "from wordcloud import WordCloud\n",
    "wordcloud = WordCloud(background_color = 'lightcyan', width = 2000, height = 2000).generate_from_frequencies(dict(word_freq))\n",
    "\n",
    "plt.style.use('fivethirtyeight')\n",
    "plt.figure(figsize=(10, 10))\n",
    "plt.axis('off')\n",
    "plt.imshow(wordcloud)\n",
    "plt.title(\"Vocabulary from Reviews\", fontsize = 20)\n",
    "plt.show()"
   ]
  },
  {
   "cell_type": "code",
   "execution_count": 32,
   "metadata": {},
   "outputs": [
    {
     "data": {
      "text/html": [
       "<span class=\"tex2jax_ignore\"><div class=\"entities\" style=\"line-height: 2.5; direction: ltr\">&quot;I love it, wife hates it.&quot;</div></span>"
      ],
      "text/plain": [
       "<IPython.core.display.HTML object>"
      ]
     },
     "metadata": {},
     "output_type": "display_data"
    },
    {
     "data": {
      "text/html": [
       "<span class=\"tex2jax_ignore\"><div class=\"entities\" style=\"line-height: 2.5; direction: ltr\">Really happy with this purchase.  Great speaker and easy to set up.</div></span>"
      ],
      "text/plain": [
       "<IPython.core.display.HTML object>"
      ]
     },
     "metadata": {},
     "output_type": "display_data"
    },
    {
     "data": {
      "text/html": [
       "<span class=\"tex2jax_ignore\"><div class=\"entities\" style=\"line-height: 2.5; direction: ltr\">We have only been using \n",
       "<mark class=\"entity\" style=\"background: #7aecec; padding: 0.45em 0.6em; margin: 0 0.25em; line-height: 1; border-radius: 0.35em;\">\n",
       "    Alexa\n",
       "    <span style=\"font-size: 0.8em; font-weight: bold; line-height: 1; border-radius: 0.35em; text-transform: uppercase; vertical-align: middle; margin-left: 0.5rem\">ORG</span>\n",
       "</mark>\n",
       " for \n",
       "<mark class=\"entity\" style=\"background: #bfe1d9; padding: 0.45em 0.6em; margin: 0 0.25em; line-height: 1; border-radius: 0.35em;\">\n",
       "    a couple of days\n",
       "    <span style=\"font-size: 0.8em; font-weight: bold; line-height: 1; border-radius: 0.35em; text-transform: uppercase; vertical-align: middle; margin-left: 0.5rem\">DATE</span>\n",
       "</mark>\n",
       " and are having a lot of fun with our new toy. It like having a new household member! We are trying to learn all the different featues and benefits that come with it.</div></span>"
      ],
      "text/plain": [
       "<IPython.core.display.HTML object>"
      ]
     },
     "metadata": {},
     "output_type": "display_data"
    },
    {
     "data": {
      "text/html": [
       "<span class=\"tex2jax_ignore\"><div class=\"entities\" style=\"line-height: 2.5; direction: ltr\">We love the size of the \n",
       "<mark class=\"entity\" style=\"background: #e4e7d2; padding: 0.45em 0.6em; margin: 0 0.25em; line-height: 1; border-radius: 0.35em;\">\n",
       "    2nd\n",
       "    <span style=\"font-size: 0.8em; font-weight: bold; line-height: 1; border-radius: 0.35em; text-transform: uppercase; vertical-align: middle; margin-left: 0.5rem\">ORDINAL</span>\n",
       "</mark>\n",
       " generation echo. Still needs a little improvement on sound</div></span>"
      ],
      "text/plain": [
       "<IPython.core.display.HTML object>"
      ]
     },
     "metadata": {},
     "output_type": "display_data"
    },
    {
     "data": {
      "text/html": [
       "<span class=\"tex2jax_ignore\"><div class=\"entities\" style=\"line-height: 2.5; direction: ltr\">&quot;I liked the original \n",
       "<mark class=\"entity\" style=\"background: #ff9561; padding: 0.45em 0.6em; margin: 0 0.25em; line-height: 1; border-radius: 0.35em;\">\n",
       "    Echo\n",
       "    <span style=\"font-size: 0.8em; font-weight: bold; line-height: 1; border-radius: 0.35em; text-transform: uppercase; vertical-align: middle; margin-left: 0.5rem\">LOC</span>\n",
       "</mark>\n",
       ". This is the same but shorter and with greater fabric/color choices. I miss the volume ring on top, now it's just the plus/minus buttons. Not a big deal but the ring w as comforting. :) Other than that, well I do like the use of a standard \n",
       "<mark class=\"entity\" style=\"background: #7aecec; padding: 0.45em 0.6em; margin: 0 0.25em; line-height: 1; border-radius: 0.35em;\">\n",
       "    USB\n",
       "    <span style=\"font-size: 0.8em; font-weight: bold; line-height: 1; border-radius: 0.35em; text-transform: uppercase; vertical-align: middle; margin-left: 0.5rem\">ORG</span>\n",
       "</mark>\n",
       " charger /port instead of the previous round pin. Other than that, I guess it sounds the same, seems to work the same, still answers to \n",
       "<mark class=\"entity\" style=\"background: #7aecec; padding: 0.45em 0.6em; margin: 0 0.25em; line-height: 1; border-radius: 0.35em;\">\n",
       "    Alexa/Echo/Computer\n",
       "    <span style=\"font-size: 0.8em; font-weight: bold; line-height: 1; border-radius: 0.35em; text-transform: uppercase; vertical-align: middle; margin-left: 0.5rem\">ORG</span>\n",
       "</mark>\n",
       ". So what's not to like? :)&quot;</div></span>"
      ],
      "text/plain": [
       "<IPython.core.display.HTML object>"
      ]
     },
     "metadata": {},
     "output_type": "display_data"
    },
    {
     "data": {
      "text/html": [
       "<span class=\"tex2jax_ignore\"><div class=\"entities\" style=\"line-height: 2.5; direction: ltr\">Love the Echo and how good the music sounds playing off it. Alexa understands most commands but it is difficult at times for her to find specific playlists or songs on \n",
       "<mark class=\"entity\" style=\"background: #7aecec; padding: 0.45em 0.6em; margin: 0 0.25em; line-height: 1; border-radius: 0.35em;\">\n",
       "    Spotify\n",
       "    <span style=\"font-size: 0.8em; font-weight: bold; line-height: 1; border-radius: 0.35em; text-transform: uppercase; vertical-align: middle; margin-left: 0.5rem\">ORG</span>\n",
       "</mark>\n",
       ". She is good with \n",
       "<mark class=\"entity\" style=\"background: #7aecec; padding: 0.45em 0.6em; margin: 0 0.25em; line-height: 1; border-radius: 0.35em;\">\n",
       "    Amazon Music\n",
       "    <span style=\"font-size: 0.8em; font-weight: bold; line-height: 1; border-radius: 0.35em; text-transform: uppercase; vertical-align: middle; margin-left: 0.5rem\">ORG</span>\n",
       "</mark>\n",
       " but is lacking in other major programs.</div></span>"
      ],
      "text/plain": [
       "<IPython.core.display.HTML object>"
      ]
     },
     "metadata": {},
     "output_type": "display_data"
    },
    {
     "data": {
      "text/html": [
       "<span class=\"tex2jax_ignore\"><div class=\"entities\" style=\"line-height: 2.5; direction: ltr\">&quot;We love \n",
       "<mark class=\"entity\" style=\"background: #7aecec; padding: 0.45em 0.6em; margin: 0 0.25em; line-height: 1; border-radius: 0.35em;\">\n",
       "    Alexa\n",
       "    <span style=\"font-size: 0.8em; font-weight: bold; line-height: 1; border-radius: 0.35em; text-transform: uppercase; vertical-align: middle; margin-left: 0.5rem\">ORG</span>\n",
       "</mark>\n",
       "! We use her to play music, play radio through iTunes, play podcasts through \n",
       "<mark class=\"entity\" style=\"background: #7aecec; padding: 0.45em 0.6em; margin: 0 0.25em; line-height: 1; border-radius: 0.35em;\">\n",
       "    Anypod\n",
       "    <span style=\"font-size: 0.8em; font-weight: bold; line-height: 1; border-radius: 0.35em; text-transform: uppercase; vertical-align: middle; margin-left: 0.5rem\">ORG</span>\n",
       "</mark>\n",
       ", and set reminders. We listen to our flash briefing of news and weather every morning. We rely on our custom lists. We like being able to voice control the volume. We're sure we'll continue to find new uses.Sometimes it's a bit frustrating when \n",
       "<mark class=\"entity\" style=\"background: #7aecec; padding: 0.45em 0.6em; margin: 0 0.25em; line-height: 1; border-radius: 0.35em;\">\n",
       "    Alexa\n",
       "    <span style=\"font-size: 0.8em; font-weight: bold; line-height: 1; border-radius: 0.35em; text-transform: uppercase; vertical-align: middle; margin-left: 0.5rem\">ORG</span>\n",
       "</mark>\n",
       " doesn't understand what we're saying.&quot;</div></span>"
      ],
      "text/plain": [
       "<IPython.core.display.HTML object>"
      ]
     },
     "metadata": {},
     "output_type": "display_data"
    },
    {
     "data": {
      "text/html": [
       "<span class=\"tex2jax_ignore\"><div class=\"entities\" style=\"line-height: 2.5; direction: ltr\">&quot;Have only had it set up for \n",
       "<mark class=\"entity\" style=\"background: #bfe1d9; padding: 0.45em 0.6em; margin: 0 0.25em; line-height: 1; border-radius: 0.35em;\">\n",
       "    a few days\n",
       "    <span style=\"font-size: 0.8em; font-weight: bold; line-height: 1; border-radius: 0.35em; text-transform: uppercase; vertical-align: middle; margin-left: 0.5rem\">DATE</span>\n",
       "</mark>\n",
       ". Still adding smart home devices to it. The speaker is great for playing music. I like the size, we have it stationed on the kitchen counter and it’s not intrusive to look at.&quot;</div></span>"
      ],
      "text/plain": [
       "<IPython.core.display.HTML object>"
      ]
     },
     "metadata": {},
     "output_type": "display_data"
    },
    {
     "data": {
      "text/html": [
       "<span class=\"tex2jax_ignore\"><div class=\"entities\" style=\"line-height: 2.5; direction: ltr\">I love it. It plays my sleep sounds immediately when I ask</div></span>"
      ],
      "text/plain": [
       "<IPython.core.display.HTML object>"
      ]
     },
     "metadata": {},
     "output_type": "display_data"
    },
    {
     "data": {
      "text/html": [
       "<span class=\"tex2jax_ignore\"><div class=\"entities\" style=\"line-height: 2.5; direction: ltr\">&quot;I got a \n",
       "<mark class=\"entity\" style=\"background: #e4e7d2; padding: 0.45em 0.6em; margin: 0 0.25em; line-height: 1; border-radius: 0.35em;\">\n",
       "    second\n",
       "    <span style=\"font-size: 0.8em; font-weight: bold; line-height: 1; border-radius: 0.35em; text-transform: uppercase; vertical-align: middle; margin-left: 0.5rem\">ORDINAL</span>\n",
       "</mark>\n",
       " unit for the bedroom, I was expecting the sounds to be improved but I didnt really see a difference at all.  Overall, not a big improvement over \n",
       "<mark class=\"entity\" style=\"background: #bfe1d9; padding: 0.45em 0.6em; margin: 0 0.25em; line-height: 1; border-radius: 0.35em;\">\n",
       "    the 1st generation\n",
       "    <span style=\"font-size: 0.8em; font-weight: bold; line-height: 1; border-radius: 0.35em; text-transform: uppercase; vertical-align: middle; margin-left: 0.5rem\">DATE</span>\n",
       "</mark>\n",
       ".&quot;</div></span>"
      ],
      "text/plain": [
       "<IPython.core.display.HTML object>"
      ]
     },
     "metadata": {},
     "output_type": "display_data"
    },
    {
     "data": {
      "text/html": [
       "<span class=\"tex2jax_ignore\"><div class=\"entities\" style=\"line-height: 2.5; direction: ltr\">Amazing product</div></span>"
      ],
      "text/plain": [
       "<IPython.core.display.HTML object>"
      ]
     },
     "metadata": {},
     "output_type": "display_data"
    },
    {
     "data": {
      "text/html": [
       "<span class=\"tex2jax_ignore\"><div class=\"entities\" style=\"line-height: 2.5; direction: ltr\">&quot;I love my \n",
       "<mark class=\"entity\" style=\"background: #ff9561; padding: 0.45em 0.6em; margin: 0 0.25em; line-height: 1; border-radius: 0.35em;\">\n",
       "    Echo\n",
       "    <span style=\"font-size: 0.8em; font-weight: bold; line-height: 1; border-radius: 0.35em; text-transform: uppercase; vertical-align: middle; margin-left: 0.5rem\">LOC</span>\n",
       "</mark>\n",
       ". It's easy to operate, loads of fun.It is everything as advertised. I use it mainly to play my favorite tunes and test \n",
       "<mark class=\"entity\" style=\"background: #7aecec; padding: 0.45em 0.6em; margin: 0 0.25em; line-height: 1; border-radius: 0.35em;\">\n",
       "    Alexa\n",
       "    <span style=\"font-size: 0.8em; font-weight: bold; line-height: 1; border-radius: 0.35em; text-transform: uppercase; vertical-align: middle; margin-left: 0.5rem\">ORG</span>\n",
       "</mark>\n",
       "'s knowledge.&quot;</div></span>"
      ],
      "text/plain": [
       "<IPython.core.display.HTML object>"
      ]
     },
     "metadata": {},
     "output_type": "display_data"
    },
    {
     "data": {
      "text/html": [
       "<span class=\"tex2jax_ignore\"><div class=\"entities\" style=\"line-height: 2.5; direction: ltr\">Sounds great!! Love them!</div></span>"
      ],
      "text/plain": [
       "<IPython.core.display.HTML object>"
      ]
     },
     "metadata": {},
     "output_type": "display_data"
    },
    {
     "data": {
      "text/html": [
       "<span class=\"tex2jax_ignore\"><div class=\"entities\" style=\"line-height: 2.5; direction: ltr\">&quot;Fun item to play with and get used to using.  Sometimes has hard time answering the questions you ask, but I think it will be better.&quot;</div></span>"
      ],
      "text/plain": [
       "<IPython.core.display.HTML object>"
      ]
     },
     "metadata": {},
     "output_type": "display_data"
    },
    {
     "data": {
      "text/html": [
       "<span class=\"tex2jax_ignore\"><div class=\"entities\" style=\"line-height: 2.5; direction: ltr\">Just like the other one</div></span>"
      ],
      "text/plain": [
       "<IPython.core.display.HTML object>"
      ]
     },
     "metadata": {},
     "output_type": "display_data"
    },
    {
     "data": {
      "text/html": [
       "<span class=\"tex2jax_ignore\"><div class=\"entities\" style=\"line-height: 2.5; direction: ltr\">Still learning all the capabilities...but so far pretty pretty pretty good</div></span>"
      ],
      "text/plain": [
       "<IPython.core.display.HTML object>"
      ]
     },
     "metadata": {},
     "output_type": "display_data"
    },
    {
     "data": {
      "text/html": [
       "<span class=\"tex2jax_ignore\"><div class=\"entities\" style=\"line-height: 2.5; direction: ltr\">I like it</div></span>"
      ],
      "text/plain": [
       "<IPython.core.display.HTML object>"
      ]
     },
     "metadata": {},
     "output_type": "display_data"
    },
    {
     "data": {
      "text/html": [
       "<span class=\"tex2jax_ignore\"><div class=\"entities\" style=\"line-height: 2.5; direction: ltr\">&quot;She works well. Needs a learning command  for unique, owners and users like. Alexa “learn” Tasha’s birthday.  Or \n",
       "<mark class=\"entity\" style=\"background: #7aecec; padding: 0.45em 0.6em; margin: 0 0.25em; line-height: 1; border-radius: 0.35em;\">\n",
       "    Alexa\n",
       "    <span style=\"font-size: 0.8em; font-weight: bold; line-height: 1; border-radius: 0.35em; text-transform: uppercase; vertical-align: middle; margin-left: 0.5rem\">ORG</span>\n",
       "</mark>\n",
       " “learn” my definition of Fine. Etc. other than that she is great&quot;</div></span>"
      ],
      "text/plain": [
       "<IPython.core.display.HTML object>"
      ]
     },
     "metadata": {},
     "output_type": "display_data"
    },
    {
     "data": {
      "text/html": [
       "<span class=\"tex2jax_ignore\"><div class=\"entities\" style=\"line-height: 2.5; direction: ltr\">The speakers sound pretty good for being so small and setup is pretty easy.  I bought \n",
       "<mark class=\"entity\" style=\"background: #e4e7d2; padding: 0.45em 0.6em; margin: 0 0.25em; line-height: 1; border-radius: 0.35em;\">\n",
       "    two\n",
       "    <span style=\"font-size: 0.8em; font-weight: bold; line-height: 1; border-radius: 0.35em; text-transform: uppercase; vertical-align: middle; margin-left: 0.5rem\">CARDINAL</span>\n",
       "</mark>\n",
       " and the reason I only rate it a \n",
       "<mark class=\"entity\" style=\"background: #e4e7d2; padding: 0.45em 0.6em; margin: 0 0.25em; line-height: 1; border-radius: 0.35em;\">\n",
       "    3\n",
       "    <span style=\"font-size: 0.8em; font-weight: bold; line-height: 1; border-radius: 0.35em; text-transform: uppercase; vertical-align: middle; margin-left: 0.5rem\">CARDINAL</span>\n",
       "</mark>\n",
       " is I have followed the instructions for synching music to both units.  I know I've done it correctly but they won't sync.  That was my primary motivation for purchasing multiple units.</div></span>"
      ],
      "text/plain": [
       "<IPython.core.display.HTML object>"
      ]
     },
     "metadata": {},
     "output_type": "display_data"
    },
    {
     "data": {
      "text/html": [
       "<span class=\"tex2jax_ignore\"><div class=\"entities\" style=\"line-height: 2.5; direction: ltr\">This device is awesome!</div></span>"
      ],
      "text/plain": [
       "<IPython.core.display.HTML object>"
      ]
     },
     "metadata": {},
     "output_type": "display_data"
    },
    {
     "data": {
      "text/html": [
       "<span class=\"tex2jax_ignore\"><div class=\"entities\" style=\"line-height: 2.5; direction: ltr\">I bought this to compare the speaker quality to our \n",
       "<mark class=\"entity\" style=\"background: #e4e7d2; padding: 0.45em 0.6em; margin: 0 0.25em; line-height: 1; border-radius: 0.35em;\">\n",
       "    first\n",
       "    <span style=\"font-size: 0.8em; font-weight: bold; line-height: 1; border-radius: 0.35em; text-transform: uppercase; vertical-align: middle; margin-left: 0.5rem\">ORDINAL</span>\n",
       "</mark>\n",
       " generation speaker and i like the sound better.  I will ship this to my daughter though because I like the fact that my \n",
       "<mark class=\"entity\" style=\"background: #e4e7d2; padding: 0.45em 0.6em; margin: 0 0.25em; line-height: 1; border-radius: 0.35em;\">\n",
       "    first\n",
       "    <span style=\"font-size: 0.8em; font-weight: bold; line-height: 1; border-radius: 0.35em; text-transform: uppercase; vertical-align: middle; margin-left: 0.5rem\">ORDINAL</span>\n",
       "</mark>\n",
       " generation has a chargeable base that we bought which keeps it more mobile and she needs a better sound than what she has now.</div></span>"
      ],
      "text/plain": [
       "<IPython.core.display.HTML object>"
      ]
     },
     "metadata": {},
     "output_type": "display_data"
    },
    {
     "data": {
      "text/html": [
       "<span class=\"tex2jax_ignore\"><div class=\"entities\" style=\"line-height: 2.5; direction: ltr\">&quot;\n",
       "<mark class=\"entity\" style=\"background: #f0d0ff; padding: 0.45em 0.6em; margin: 0 0.25em; line-height: 1; border-radius: 0.35em;\">\n",
       "    Love my Echo\n",
       "    <span style=\"font-size: 0.8em; font-weight: bold; line-height: 1; border-radius: 0.35em; text-transform: uppercase; vertical-align: middle; margin-left: 0.5rem\">WORK_OF_ART</span>\n",
       "</mark>\n",
       ". Still learning all the things it will do. Wasn’t able to follow instructions included in the package, but found a great one on \n",
       "<mark class=\"entity\" style=\"background: #7aecec; padding: 0.45em 0.6em; margin: 0 0.25em; line-height: 1; border-radius: 0.35em;\">\n",
       "    U-Tube\n",
       "    <span style=\"font-size: 0.8em; font-weight: bold; line-height: 1; border-radius: 0.35em; text-transform: uppercase; vertical-align: middle; margin-left: 0.5rem\">ORG</span>\n",
       "</mark>\n",
       ".&quot;</div></span>"
      ],
      "text/plain": [
       "<IPython.core.display.HTML object>"
      ]
     },
     "metadata": {},
     "output_type": "display_data"
    },
    {
     "data": {
      "text/html": [
       "<span class=\"tex2jax_ignore\"><div class=\"entities\" style=\"line-height: 2.5; direction: ltr\">Speaker is better than 1st generation Echo</div></span>"
      ],
      "text/plain": [
       "<IPython.core.display.HTML object>"
      ]
     },
     "metadata": {},
     "output_type": "display_data"
    },
    {
     "data": {
      "text/html": [
       "<span class=\"tex2jax_ignore\"><div class=\"entities\" style=\"line-height: 2.5; direction: ltr\">&quot;This thing is way cool!  You should get one.  If you want to be cool, that is.&quot;</div></span>"
      ],
      "text/plain": [
       "<IPython.core.display.HTML object>"
      ]
     },
     "metadata": {},
     "output_type": "display_data"
    },
    {
     "data": {
      "text/html": [
       "<span class=\"tex2jax_ignore\"><div class=\"entities\" style=\"line-height: 2.5; direction: ltr\">&quot;This is my \n",
       "<mark class=\"entity\" style=\"background: #e4e7d2; padding: 0.45em 0.6em; margin: 0 0.25em; line-height: 1; border-radius: 0.35em;\">\n",
       "    first\n",
       "    <span style=\"font-size: 0.8em; font-weight: bold; line-height: 1; border-radius: 0.35em; text-transform: uppercase; vertical-align: middle; margin-left: 0.5rem\">ORDINAL</span>\n",
       "</mark>\n",
       " digital assistant so I'm giving this a good review. Speaker is really good for the cheap price on \n",
       "<mark class=\"entity\" style=\"background: #bfe1d9; padding: 0.45em 0.6em; margin: 0 0.25em; line-height: 1; border-radius: 0.35em;\">\n",
       "    Prime day\n",
       "    <span style=\"font-size: 0.8em; font-weight: bold; line-height: 1; border-radius: 0.35em; text-transform: uppercase; vertical-align: middle; margin-left: 0.5rem\">DATE</span>\n",
       "</mark>\n",
       ". Fun to play with and can be used as an alarm clock (That's what I was going to get in the \n",
       "<mark class=\"entity\" style=\"background: #e4e7d2; padding: 0.45em 0.6em; margin: 0 0.25em; line-height: 1; border-radius: 0.35em;\">\n",
       "    first\n",
       "    <span style=\"font-size: 0.8em; font-weight: bold; line-height: 1; border-radius: 0.35em; text-transform: uppercase; vertical-align: middle; margin-left: 0.5rem\">ORDINAL</span>\n",
       "</mark>\n",
       " place, but I ended up with \n",
       "<mark class=\"entity\" style=\"background: #ff9561; padding: 0.45em 0.6em; margin: 0 0.25em; line-height: 1; border-radius: 0.35em;\">\n",
       "    Echo\n",
       "    <span style=\"font-size: 0.8em; font-weight: bold; line-height: 1; border-radius: 0.35em; text-transform: uppercase; vertical-align: middle; margin-left: 0.5rem\">LOC</span>\n",
       "</mark>\n",
       "). If you haven't had a go with one then definitely try it!What I like best is the number of other devices that it can connect with. My purchase came with a \n",
       "<mark class=\"entity\" style=\"background: #aa9cfc; padding: 0.45em 0.6em; margin: 0 0.25em; line-height: 1; border-radius: 0.35em;\">\n",
       "    Smart Plug\n",
       "    <span style=\"font-size: 0.8em; font-weight: bold; line-height: 1; border-radius: 0.35em; text-transform: uppercase; vertical-align: middle; margin-left: 0.5rem\">PERSON</span>\n",
       "</mark>\n",
       " for $\n",
       "<mark class=\"entity\" style=\"background: #e4e7d2; padding: 0.45em 0.6em; margin: 0 0.25em; line-height: 1; border-radius: 0.35em;\">\n",
       "    10\n",
       "    <span style=\"font-size: 0.8em; font-weight: bold; line-height: 1; border-radius: 0.35em; text-transform: uppercase; vertical-align: middle; margin-left: 0.5rem\">MONEY</span>\n",
       "</mark>\n",
       " which I connect my lamp to. \n",
       "<mark class=\"entity\" style=\"background: #7aecec; padding: 0.45em 0.6em; margin: 0 0.25em; line-height: 1; border-radius: 0.35em;\">\n",
       "    Alexa\n",
       "    <span style=\"font-size: 0.8em; font-weight: bold; line-height: 1; border-radius: 0.35em; text-transform: uppercase; vertical-align: middle; margin-left: 0.5rem\">ORG</span>\n",
       "</mark>\n",
       ", turn of the lights!&quot;</div></span>"
      ],
      "text/plain": [
       "<IPython.core.display.HTML object>"
      ]
     },
     "metadata": {},
     "output_type": "display_data"
    },
    {
     "data": {
      "text/html": [
       "<span class=\"tex2jax_ignore\"><div class=\"entities\" style=\"line-height: 2.5; direction: ltr\">My husband likes being able to use it to listen to music.  I wish we knew all it's capabilities</div></span>"
      ],
      "text/plain": [
       "<IPython.core.display.HTML object>"
      ]
     },
     "metadata": {},
     "output_type": "display_data"
    },
    {
     "data": {
      "text/html": [
       "<span class=\"tex2jax_ignore\"><div class=\"entities\" style=\"line-height: 2.5; direction: ltr\">&quot;My \n",
       "<mark class=\"entity\" style=\"background: #aa9cfc; padding: 0.45em 0.6em; margin: 0 0.25em; line-height: 1; border-radius: 0.35em;\">\n",
       "    Android\n",
       "    <span style=\"font-size: 0.8em; font-weight: bold; line-height: 1; border-radius: 0.35em; text-transform: uppercase; vertical-align: middle; margin-left: 0.5rem\">PERSON</span>\n",
       "</mark>\n",
       " would not allow \n",
       "<mark class=\"entity\" style=\"background: #7aecec; padding: 0.45em 0.6em; margin: 0 0.25em; line-height: 1; border-radius: 0.35em;\">\n",
       "    Alexa\n",
       "    <span style=\"font-size: 0.8em; font-weight: bold; line-height: 1; border-radius: 0.35em; text-transform: uppercase; vertical-align: middle; margin-left: 0.5rem\">ORG</span>\n",
       "</mark>\n",
       " to connect. Fortunately, my sister was here with her \n",
       "<mark class=\"entity\" style=\"background: #7aecec; padding: 0.45em 0.6em; margin: 0 0.25em; line-height: 1; border-radius: 0.35em;\">\n",
       "    Apple\n",
       "    <span style=\"font-size: 0.8em; font-weight: bold; line-height: 1; border-radius: 0.35em; text-transform: uppercase; vertical-align: middle; margin-left: 0.5rem\">ORG</span>\n",
       "</mark>\n",
       " cell. After an \n",
       "<mark class=\"entity\" style=\"background: #bfeeb7; padding: 0.45em 0.6em; margin: 0 0.25em; line-height: 1; border-radius: 0.35em;\">\n",
       "    hour+\n",
       "    <span style=\"font-size: 0.8em; font-weight: bold; line-height: 1; border-radius: 0.35em; text-transform: uppercase; vertical-align: middle; margin-left: 0.5rem\">PRODUCT</span>\n",
       "</mark>\n",
       " tech support fixed the glitches. We are up and running.&quot;</div></span>"
      ],
      "text/plain": [
       "<IPython.core.display.HTML object>"
      ]
     },
     "metadata": {},
     "output_type": "display_data"
    },
    {
     "data": {
      "text/html": [
       "<span class=\"tex2jax_ignore\"><div class=\"entities\" style=\"line-height: 2.5; direction: ltr\">So far so good</div></span>"
      ],
      "text/plain": [
       "<IPython.core.display.HTML object>"
      ]
     },
     "metadata": {},
     "output_type": "display_data"
    },
    {
     "data": {
      "text/html": [
       "<span class=\"tex2jax_ignore\"><div class=\"entities\" style=\"line-height: 2.5; direction: ltr\">Tried to play certain broadway shows like \n",
       "<mark class=\"entity\" style=\"background: #bfeeb7; padding: 0.45em 0.6em; margin: 0 0.25em; line-height: 1; border-radius: 0.35em;\">\n",
       "    Camelot\n",
       "    <span style=\"font-size: 0.8em; font-weight: bold; line-height: 1; border-radius: 0.35em; text-transform: uppercase; vertical-align: middle; margin-left: 0.5rem\">PRODUCT</span>\n",
       "</mark>\n",
       " and it gives ne the group \n",
       "<mark class=\"entity\" style=\"background: #bfeeb7; padding: 0.45em 0.6em; margin: 0 0.25em; line-height: 1; border-radius: 0.35em;\">\n",
       "    Camelot\n",
       "    <span style=\"font-size: 0.8em; font-weight: bold; line-height: 1; border-radius: 0.35em; text-transform: uppercase; vertical-align: middle; margin-left: 0.5rem\">PRODUCT</span>\n",
       "</mark>\n",
       ".</div></span>"
      ],
      "text/plain": [
       "<IPython.core.display.HTML object>"
      ]
     },
     "metadata": {},
     "output_type": "display_data"
    },
    {
     "data": {
      "text/html": [
       "<span class=\"tex2jax_ignore\"><div class=\"entities\" style=\"line-height: 2.5; direction: ltr\">Great</div></span>"
      ],
      "text/plain": [
       "<IPython.core.display.HTML object>"
      ]
     },
     "metadata": {},
     "output_type": "display_data"
    },
    {
     "data": {
      "text/html": [
       "<span class=\"tex2jax_ignore\"><div class=\"entities\" style=\"line-height: 2.5; direction: ltr\">Very satisfied with the \n",
       "<mark class=\"entity\" style=\"background: #ff9561; padding: 0.45em 0.6em; margin: 0 0.25em; line-height: 1; border-radius: 0.35em;\">\n",
       "    Echo\n",
       "    <span style=\"font-size: 0.8em; font-weight: bold; line-height: 1; border-radius: 0.35em; text-transform: uppercase; vertical-align: middle; margin-left: 0.5rem\">LOC</span>\n",
       "</mark>\n",
       ". Alexa now controls the lights in my family room and my wife can listen to \n",
       "<mark class=\"entity\" style=\"background: #aa9cfc; padding: 0.45em 0.6em; margin: 0 0.25em; line-height: 1; border-radius: 0.35em;\">\n",
       "    Jimmy Buffet\n",
       "    <span style=\"font-size: 0.8em; font-weight: bold; line-height: 1; border-radius: 0.35em; text-transform: uppercase; vertical-align: middle; margin-left: 0.5rem\">PERSON</span>\n",
       "</mark>\n",
       " by just asking \n",
       "<mark class=\"entity\" style=\"background: #7aecec; padding: 0.45em 0.6em; margin: 0 0.25em; line-height: 1; border-radius: 0.35em;\">\n",
       "    Alexa\n",
       "    <span style=\"font-size: 0.8em; font-weight: bold; line-height: 1; border-radius: 0.35em; text-transform: uppercase; vertical-align: middle; margin-left: 0.5rem\">ORG</span>\n",
       "</mark>\n",
       ".</div></span>"
      ],
      "text/plain": [
       "<IPython.core.display.HTML object>"
      ]
     },
     "metadata": {},
     "output_type": "display_data"
    },
    {
     "data": {
      "text/html": [
       "<span class=\"tex2jax_ignore\"><div class=\"entities\" style=\"line-height: 2.5; direction: ltr\">&quot;It's like \n",
       "<mark class=\"entity\" style=\"background: #ff9561; padding: 0.45em 0.6em; margin: 0 0.25em; line-height: 1; border-radius: 0.35em;\">\n",
       "    Siri\n",
       "    <span style=\"font-size: 0.8em; font-weight: bold; line-height: 1; border-radius: 0.35em; text-transform: uppercase; vertical-align: middle; margin-left: 0.5rem\">LOC</span>\n",
       "</mark>\n",
       ", in fact, \n",
       "<mark class=\"entity\" style=\"background: #c887fb; padding: 0.45em 0.6em; margin: 0 0.25em; line-height: 1; border-radius: 0.35em;\">\n",
       "    Siri\n",
       "    <span style=\"font-size: 0.8em; font-weight: bold; line-height: 1; border-radius: 0.35em; text-transform: uppercase; vertical-align: middle; margin-left: 0.5rem\">NORP</span>\n",
       "</mark>\n",
       " answers more accurately then \n",
       "<mark class=\"entity\" style=\"background: #7aecec; padding: 0.45em 0.6em; margin: 0 0.25em; line-height: 1; border-radius: 0.35em;\">\n",
       "    Alexa\n",
       "    <span style=\"font-size: 0.8em; font-weight: bold; line-height: 1; border-radius: 0.35em; text-transform: uppercase; vertical-align: middle; margin-left: 0.5rem\">ORG</span>\n",
       "</mark>\n",
       ".  I don't see a real need for it in my household, though it was a good bargain on \n",
       "<mark class=\"entity\" style=\"background: #bfe1d9; padding: 0.45em 0.6em; margin: 0 0.25em; line-height: 1; border-radius: 0.35em;\">\n",
       "    prime day\n",
       "    <span style=\"font-size: 0.8em; font-weight: bold; line-height: 1; border-radius: 0.35em; text-transform: uppercase; vertical-align: middle; margin-left: 0.5rem\">DATE</span>\n",
       "</mark>\n",
       " deals.&quot;</div></span>"
      ],
      "text/plain": [
       "<IPython.core.display.HTML object>"
      ]
     },
     "metadata": {},
     "output_type": "display_data"
    },
    {
     "data": {
      "text/html": [
       "<span class=\"tex2jax_ignore\"><div class=\"entities\" style=\"line-height: 2.5; direction: ltr\">Love my Echo. Still learning how every thing works but having tons of fun.</div></span>"
      ],
      "text/plain": [
       "<IPython.core.display.HTML object>"
      ]
     },
     "metadata": {},
     "output_type": "display_data"
    },
    {
     "data": {
      "text/html": [
       "<span class=\"tex2jax_ignore\"><div class=\"entities\" style=\"line-height: 2.5; direction: ltr\">I love you so much</div></span>"
      ],
      "text/plain": [
       "<IPython.core.display.HTML object>"
      ]
     },
     "metadata": {},
     "output_type": "display_data"
    },
    {
     "data": {
      "text/html": [
       "<span class=\"tex2jax_ignore\"><div class=\"entities\" style=\"line-height: 2.5; direction: ltr\">No different than \n",
       "<mark class=\"entity\" style=\"background: #7aecec; padding: 0.45em 0.6em; margin: 0 0.25em; line-height: 1; border-radius: 0.35em;\">\n",
       "    Apple\n",
       "    <span style=\"font-size: 0.8em; font-weight: bold; line-height: 1; border-radius: 0.35em; text-transform: uppercase; vertical-align: middle; margin-left: 0.5rem\">ORG</span>\n",
       "</mark>\n",
       ". To play a specific list of music you must have an Amazon of Spotify “plus/prime/etc” account.  So you must pay to play “your” music.  \n",
       "<mark class=\"entity\" style=\"background: #e4e7d2; padding: 0.45em 0.6em; margin: 0 0.25em; line-height: 1; border-radius: 0.35em;\">\n",
       "    3\n",
       "    <span style=\"font-size: 0.8em; font-weight: bold; line-height: 1; border-radius: 0.35em; text-transform: uppercase; vertical-align: middle; margin-left: 0.5rem\">CARDINAL</span>\n",
       "</mark>\n",
       " stars for that reason.  Everything else is 👍\n",
       "<mark class=\"entity\" style=\"background: #e4e7d2; padding: 0.45em 0.6em; margin: 0 0.25em; line-height: 1; border-radius: 0.35em;\">\n",
       "    🏻\n",
       "    <span style=\"font-size: 0.8em; font-weight: bold; line-height: 1; border-radius: 0.35em; text-transform: uppercase; vertical-align: middle; margin-left: 0.5rem\">CARDINAL</span>\n",
       "</mark>\n",
       " .</div></span>"
      ],
      "text/plain": [
       "<IPython.core.display.HTML object>"
      ]
     },
     "metadata": {},
     "output_type": "display_data"
    }
   ],
   "source": [
    "import spacy\n",
    "nlp = spacy.load('en')\n",
    "\n",
    "def explain_text_entities(text):\n",
    "    doc = nlp(text)\n",
    "    for ent in doc.ents:\n",
    "        print(f'Entity: {ent}, Label: {ent.label_}, {spacy.explain(ent.label_)}')\n",
    "        \n",
    "for i in range(15, 50):\n",
    "    one_sentence = data['verified_reviews'][i]\n",
    "    doc = nlp(one_sentence)\n",
    "    spacy.displacy.render(doc, style='ent',jupyter=True)"
   ]
  },
  {
   "cell_type": "code",
   "execution_count": null,
   "metadata": {},
   "outputs": [],
   "source": []
  },
  {
   "cell_type": "code",
   "execution_count": null,
   "metadata": {},
   "outputs": [],
   "source": []
  }
 ],
 "metadata": {
  "kernelspec": {
   "display_name": "Python 3",
   "language": "python",
   "name": "python3"
  },
  "language_info": {
   "codemirror_mode": {
    "name": "ipython",
    "version": 3
   },
   "file_extension": ".py",
   "mimetype": "text/x-python",
   "name": "python",
   "nbconvert_exporter": "python",
   "pygments_lexer": "ipython3",
   "version": "3.7.3"
  }
 },
 "nbformat": 4,
 "nbformat_minor": 2
}
